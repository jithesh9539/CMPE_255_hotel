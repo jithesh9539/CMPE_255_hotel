{
  "nbformat": 4,
  "nbformat_minor": 0,
  "metadata": {
    "colab": {
      "name": "Customer_Segmentation.ipynb",
      "provenance": [],
      "collapsed_sections": [],
      "authorship_tag": "ABX9TyNTI0K8NBHSUvb4vwMmjoTc",
      "include_colab_link": true
    },
    "kernelspec": {
      "name": "python3",
      "display_name": "Python 3"
    },
    "language_info": {
      "name": "python"
    }
  },
  "cells": [
    {
      "cell_type": "markdown",
      "metadata": {
        "id": "view-in-github",
        "colab_type": "text"
      },
      "source": [
        "<a href=\"https://colab.research.google.com/github/jithesh9539/CMPE_255_hotel/blob/main/Customer_Segmentation.ipynb\" target=\"_parent\"><img src=\"https://colab.research.google.com/assets/colab-badge.svg\" alt=\"Open In Colab\"/></a>"
      ]
    },
    {
      "cell_type": "code",
      "metadata": {
        "id": "Om7jAerPyCIz"
      },
      "source": [
        "import pandas as pd\n",
        "import numpy as np\n",
        "from sklearn.manifold import TSNE\n",
        "import matplotlib as mpl\n",
        "import nltk\n",
        "import matplotlib.pyplot as plt\n",
        "import seaborn as sns\n",
        "import datetime, nltk, warnings\n",
        "import matplotlib.cm as cm\n",
        "import itertools\n",
        "from pathlib import Path\n",
        "from sklearn.preprocessing import LabelEncoder, StandardScaler, Normalizer\n",
        "from sklearn.cluster import KMeans\n",
        "from sklearn.metrics import silhouette_samples, silhouette_score\n",
        "from sklearn import preprocessing, model_selection, metrics, feature_selection\n",
        "from sklearn.model_selection import GridSearchCV, learning_curve\n",
        "from sklearn.svm import SVC\n",
        "from sklearn.metrics import confusion_matrix\n",
        "from sklearn import neighbors, linear_model, svm, tree, ensemble\n",
        "from wordcloud import WordCloud, STOPWORDS\n",
        "from sklearn.ensemble import AdaBoostClassifier\n",
        "from sklearn.decomposition import PCA,TruncatedSVD\n",
        "from IPython.display import display, HTML\n",
        "import datetime as dt\n",
        "import plotly.graph_objs as go\n",
        "from plotly.offline import init_notebook_mode,iplot\n",
        "from sklearn.feature_extraction.text import CountVectorizer, TfidfVectorizer\n",
        "from wordcloud import WordCloud, STOPWORDS"
      ],
      "execution_count": 1,
      "outputs": []
    },
    {
      "cell_type": "markdown",
      "metadata": {
        "id": "b5LhtoekztDm"
      },
      "source": [
        "**Loading Dataset to Pandas DataFrame**"
      ]
    },
    {
      "cell_type": "code",
      "metadata": {
        "id": "WApMf7P3zSkD"
      },
      "source": [
        "customer_data=pd.read_csv('/content/data.csv',encoding= 'unicode_escape')"
      ],
      "execution_count": 2,
      "outputs": []
    },
    {
      "cell_type": "code",
      "metadata": {
        "colab": {
          "base_uri": "https://localhost:8080/",
          "height": 293
        },
        "id": "xPJSpZCR0mxo",
        "outputId": "ba139b46-7670-4923-b32e-e103764fce33"
      },
      "source": [
        "customer_data.head()"
      ],
      "execution_count": 3,
      "outputs": [
        {
          "output_type": "execute_result",
          "data": {
            "text/html": [
              "<div>\n",
              "<style scoped>\n",
              "    .dataframe tbody tr th:only-of-type {\n",
              "        vertical-align: middle;\n",
              "    }\n",
              "\n",
              "    .dataframe tbody tr th {\n",
              "        vertical-align: top;\n",
              "    }\n",
              "\n",
              "    .dataframe thead th {\n",
              "        text-align: right;\n",
              "    }\n",
              "</style>\n",
              "<table border=\"1\" class=\"dataframe\">\n",
              "  <thead>\n",
              "    <tr style=\"text-align: right;\">\n",
              "      <th></th>\n",
              "      <th>InvoiceNo</th>\n",
              "      <th>StockCode</th>\n",
              "      <th>Description</th>\n",
              "      <th>Quantity</th>\n",
              "      <th>InvoiceDate</th>\n",
              "      <th>UnitPrice</th>\n",
              "      <th>CustomerID</th>\n",
              "      <th>Country</th>\n",
              "    </tr>\n",
              "  </thead>\n",
              "  <tbody>\n",
              "    <tr>\n",
              "      <th>0</th>\n",
              "      <td>536365</td>\n",
              "      <td>85123A</td>\n",
              "      <td>WHITE HANGING HEART T-LIGHT HOLDER</td>\n",
              "      <td>6</td>\n",
              "      <td>12/1/2010 8:26</td>\n",
              "      <td>2.55</td>\n",
              "      <td>17850.0</td>\n",
              "      <td>United Kingdom</td>\n",
              "    </tr>\n",
              "    <tr>\n",
              "      <th>1</th>\n",
              "      <td>536365</td>\n",
              "      <td>71053</td>\n",
              "      <td>WHITE METAL LANTERN</td>\n",
              "      <td>6</td>\n",
              "      <td>12/1/2010 8:26</td>\n",
              "      <td>3.39</td>\n",
              "      <td>17850.0</td>\n",
              "      <td>United Kingdom</td>\n",
              "    </tr>\n",
              "    <tr>\n",
              "      <th>2</th>\n",
              "      <td>536365</td>\n",
              "      <td>84406B</td>\n",
              "      <td>CREAM CUPID HEARTS COAT HANGER</td>\n",
              "      <td>8</td>\n",
              "      <td>12/1/2010 8:26</td>\n",
              "      <td>2.75</td>\n",
              "      <td>17850.0</td>\n",
              "      <td>United Kingdom</td>\n",
              "    </tr>\n",
              "    <tr>\n",
              "      <th>3</th>\n",
              "      <td>536365</td>\n",
              "      <td>84029G</td>\n",
              "      <td>KNITTED UNION FLAG HOT WATER BOTTLE</td>\n",
              "      <td>6</td>\n",
              "      <td>12/1/2010 8:26</td>\n",
              "      <td>3.39</td>\n",
              "      <td>17850.0</td>\n",
              "      <td>United Kingdom</td>\n",
              "    </tr>\n",
              "    <tr>\n",
              "      <th>4</th>\n",
              "      <td>536365</td>\n",
              "      <td>84029E</td>\n",
              "      <td>RED WOOLLY HOTTIE WHITE HEART.</td>\n",
              "      <td>6</td>\n",
              "      <td>12/1/2010 8:26</td>\n",
              "      <td>3.39</td>\n",
              "      <td>17850.0</td>\n",
              "      <td>United Kingdom</td>\n",
              "    </tr>\n",
              "  </tbody>\n",
              "</table>\n",
              "</div>"
            ],
            "text/plain": [
              "  InvoiceNo StockCode  ... CustomerID         Country\n",
              "0    536365    85123A  ...    17850.0  United Kingdom\n",
              "1    536365     71053  ...    17850.0  United Kingdom\n",
              "2    536365    84406B  ...    17850.0  United Kingdom\n",
              "3    536365    84029G  ...    17850.0  United Kingdom\n",
              "4    536365    84029E  ...    17850.0  United Kingdom\n",
              "\n",
              "[5 rows x 8 columns]"
            ]
          },
          "metadata": {},
          "execution_count": 3
        }
      ]
    },
    {
      "cell_type": "code",
      "metadata": {
        "colab": {
          "base_uri": "https://localhost:8080/"
        },
        "id": "Z7QNnH3p7OYn",
        "outputId": "246fcd56-e41f-4746-cb98-64cd90c984ba"
      },
      "source": [
        "customer_data.info()"
      ],
      "execution_count": 4,
      "outputs": [
        {
          "output_type": "stream",
          "name": "stdout",
          "text": [
            "<class 'pandas.core.frame.DataFrame'>\n",
            "RangeIndex: 541909 entries, 0 to 541908\n",
            "Data columns (total 8 columns):\n",
            " #   Column       Non-Null Count   Dtype  \n",
            "---  ------       --------------   -----  \n",
            " 0   InvoiceNo    541909 non-null  object \n",
            " 1   StockCode    541909 non-null  object \n",
            " 2   Description  540455 non-null  object \n",
            " 3   Quantity     541909 non-null  int64  \n",
            " 4   InvoiceDate  541909 non-null  object \n",
            " 5   UnitPrice    541909 non-null  float64\n",
            " 6   CustomerID   406829 non-null  float64\n",
            " 7   Country      541909 non-null  object \n",
            "dtypes: float64(2), int64(1), object(5)\n",
            "memory usage: 33.1+ MB\n"
          ]
        }
      ]
    },
    {
      "cell_type": "code",
      "metadata": {
        "colab": {
          "base_uri": "https://localhost:8080/",
          "height": 300
        },
        "id": "8x4YDGdr7W9F",
        "outputId": "8bcc7474-e2fd-45f0-d158-51176f410175"
      },
      "source": [
        "customer_data.describe()"
      ],
      "execution_count": 5,
      "outputs": [
        {
          "output_type": "execute_result",
          "data": {
            "text/html": [
              "<div>\n",
              "<style scoped>\n",
              "    .dataframe tbody tr th:only-of-type {\n",
              "        vertical-align: middle;\n",
              "    }\n",
              "\n",
              "    .dataframe tbody tr th {\n",
              "        vertical-align: top;\n",
              "    }\n",
              "\n",
              "    .dataframe thead th {\n",
              "        text-align: right;\n",
              "    }\n",
              "</style>\n",
              "<table border=\"1\" class=\"dataframe\">\n",
              "  <thead>\n",
              "    <tr style=\"text-align: right;\">\n",
              "      <th></th>\n",
              "      <th>Quantity</th>\n",
              "      <th>UnitPrice</th>\n",
              "      <th>CustomerID</th>\n",
              "    </tr>\n",
              "  </thead>\n",
              "  <tbody>\n",
              "    <tr>\n",
              "      <th>count</th>\n",
              "      <td>541909.000000</td>\n",
              "      <td>541909.000000</td>\n",
              "      <td>406829.000000</td>\n",
              "    </tr>\n",
              "    <tr>\n",
              "      <th>mean</th>\n",
              "      <td>9.552250</td>\n",
              "      <td>4.611114</td>\n",
              "      <td>15287.690570</td>\n",
              "    </tr>\n",
              "    <tr>\n",
              "      <th>std</th>\n",
              "      <td>218.081158</td>\n",
              "      <td>96.759853</td>\n",
              "      <td>1713.600303</td>\n",
              "    </tr>\n",
              "    <tr>\n",
              "      <th>min</th>\n",
              "      <td>-80995.000000</td>\n",
              "      <td>-11062.060000</td>\n",
              "      <td>12346.000000</td>\n",
              "    </tr>\n",
              "    <tr>\n",
              "      <th>25%</th>\n",
              "      <td>1.000000</td>\n",
              "      <td>1.250000</td>\n",
              "      <td>13953.000000</td>\n",
              "    </tr>\n",
              "    <tr>\n",
              "      <th>50%</th>\n",
              "      <td>3.000000</td>\n",
              "      <td>2.080000</td>\n",
              "      <td>15152.000000</td>\n",
              "    </tr>\n",
              "    <tr>\n",
              "      <th>75%</th>\n",
              "      <td>10.000000</td>\n",
              "      <td>4.130000</td>\n",
              "      <td>16791.000000</td>\n",
              "    </tr>\n",
              "    <tr>\n",
              "      <th>max</th>\n",
              "      <td>80995.000000</td>\n",
              "      <td>38970.000000</td>\n",
              "      <td>18287.000000</td>\n",
              "    </tr>\n",
              "  </tbody>\n",
              "</table>\n",
              "</div>"
            ],
            "text/plain": [
              "            Quantity      UnitPrice     CustomerID\n",
              "count  541909.000000  541909.000000  406829.000000\n",
              "mean        9.552250       4.611114   15287.690570\n",
              "std       218.081158      96.759853    1713.600303\n",
              "min    -80995.000000  -11062.060000   12346.000000\n",
              "25%         1.000000       1.250000   13953.000000\n",
              "50%         3.000000       2.080000   15152.000000\n",
              "75%        10.000000       4.130000   16791.000000\n",
              "max     80995.000000   38970.000000   18287.000000"
            ]
          },
          "metadata": {},
          "execution_count": 5
        }
      ]
    },
    {
      "cell_type": "code",
      "metadata": {
        "colab": {
          "base_uri": "https://localhost:8080/"
        },
        "id": "1UnRLgG_7a7e",
        "outputId": "e7ee9d76-8f32-48c7-b604-83c04b8b7aa5"
      },
      "source": [
        "customer_data.isnull().sum()"
      ],
      "execution_count": 6,
      "outputs": [
        {
          "output_type": "execute_result",
          "data": {
            "text/plain": [
              "InvoiceNo           0\n",
              "StockCode           0\n",
              "Description      1454\n",
              "Quantity            0\n",
              "InvoiceDate         0\n",
              "UnitPrice           0\n",
              "CustomerID     135080\n",
              "Country             0\n",
              "dtype: int64"
            ]
          },
          "metadata": {},
          "execution_count": 6
        }
      ]
    },
    {
      "cell_type": "markdown",
      "metadata": {
        "id": "PP4hFBpe-bs_"
      },
      "source": [
        "**As 1/4 th of the entries in CustomerID column is null it wouldn't be efficient enough to impute the values and hence would be deleting the records to get a better accuracy while creating a model.** "
      ]
    },
    {
      "cell_type": "code",
      "metadata": {
        "colab": {
          "base_uri": "https://localhost:8080/"
        },
        "id": "-fNKd20h7h2d",
        "outputId": "7e58e12e-9133-468a-ccd5-e533858bfc55"
      },
      "source": [
        "customer_data.shape"
      ],
      "execution_count": 7,
      "outputs": [
        {
          "output_type": "execute_result",
          "data": {
            "text/plain": [
              "(541909, 8)"
            ]
          },
          "metadata": {},
          "execution_count": 7
        }
      ]
    },
    {
      "cell_type": "code",
      "metadata": {
        "id": "fxoewGFB9EZi"
      },
      "source": [
        "customer_data.dropna(axis = 0, subset = ['CustomerID'], inplace = True)"
      ],
      "execution_count": 8,
      "outputs": []
    },
    {
      "cell_type": "code",
      "metadata": {
        "colab": {
          "base_uri": "https://localhost:8080/"
        },
        "id": "2w643BAt-P80",
        "outputId": "4bfee374-f7dd-4ab3-c990-4da7d1e8d624"
      },
      "source": [
        "customer_data.shape"
      ],
      "execution_count": 9,
      "outputs": [
        {
          "output_type": "execute_result",
          "data": {
            "text/plain": [
              "(406829, 8)"
            ]
          },
          "metadata": {},
          "execution_count": 9
        }
      ]
    },
    {
      "cell_type": "code",
      "metadata": {
        "colab": {
          "base_uri": "https://localhost:8080/"
        },
        "id": "_ft3tgwe-YVV",
        "outputId": "df9c6038-0d4e-4096-9fc2-9096ef6dfa86"
      },
      "source": [
        "customer_data.isnull().sum()"
      ],
      "execution_count": 10,
      "outputs": [
        {
          "output_type": "execute_result",
          "data": {
            "text/plain": [
              "InvoiceNo      0\n",
              "StockCode      0\n",
              "Description    0\n",
              "Quantity       0\n",
              "InvoiceDate    0\n",
              "UnitPrice      0\n",
              "CustomerID     0\n",
              "Country        0\n",
              "dtype: int64"
            ]
          },
          "metadata": {},
          "execution_count": 10
        }
      ]
    },
    {
      "cell_type": "markdown",
      "metadata": {
        "id": "bRS-szMKAKVj"
      },
      "source": [
        "**Checking for duplicate records in the dataset**"
      ]
    },
    {
      "cell_type": "code",
      "metadata": {
        "colab": {
          "base_uri": "https://localhost:8080/"
        },
        "id": "3U9IwrKN_-zK",
        "outputId": "95e82a4f-05e6-4825-b4c6-e2a30d6924b4"
      },
      "source": [
        "customer_data.duplicated().sum()"
      ],
      "execution_count": 11,
      "outputs": [
        {
          "output_type": "execute_result",
          "data": {
            "text/plain": [
              "5225"
            ]
          },
          "metadata": {},
          "execution_count": 11
        }
      ]
    },
    {
      "cell_type": "markdown",
      "metadata": {
        "id": "qky0MOEDA4Hv"
      },
      "source": [
        "**As there are around 5225 duplicate records we are proceeding to drop the same from dataset**"
      ]
    },
    {
      "cell_type": "code",
      "metadata": {
        "id": "qcb7q_J2A0AA"
      },
      "source": [
        ""
      ],
      "execution_count": 11,
      "outputs": []
    },
    {
      "cell_type": "code",
      "metadata": {
        "id": "A948B1XxBs5l"
      },
      "source": [
        "customer_data.drop_duplicates(inplace=True)"
      ],
      "execution_count": 12,
      "outputs": []
    },
    {
      "cell_type": "code",
      "metadata": {
        "colab": {
          "base_uri": "https://localhost:8080/"
        },
        "id": "PXJs63AyB1Mx",
        "outputId": "02184db1-036e-442f-dd7a-886666302cc9"
      },
      "source": [
        "customer_data.shape"
      ],
      "execution_count": 13,
      "outputs": [
        {
          "output_type": "execute_result",
          "data": {
            "text/plain": [
              "(401604, 8)"
            ]
          },
          "metadata": {},
          "execution_count": 13
        }
      ]
    },
    {
      "cell_type": "code",
      "metadata": {
        "colab": {
          "base_uri": "https://localhost:8080/",
          "height": 293
        },
        "id": "tTg2xuT_B5Xb",
        "outputId": "217f738f-2bd1-4a94-97c6-6223b919aed9"
      },
      "source": [
        "customer_data.head()"
      ],
      "execution_count": 14,
      "outputs": [
        {
          "output_type": "execute_result",
          "data": {
            "text/html": [
              "<div>\n",
              "<style scoped>\n",
              "    .dataframe tbody tr th:only-of-type {\n",
              "        vertical-align: middle;\n",
              "    }\n",
              "\n",
              "    .dataframe tbody tr th {\n",
              "        vertical-align: top;\n",
              "    }\n",
              "\n",
              "    .dataframe thead th {\n",
              "        text-align: right;\n",
              "    }\n",
              "</style>\n",
              "<table border=\"1\" class=\"dataframe\">\n",
              "  <thead>\n",
              "    <tr style=\"text-align: right;\">\n",
              "      <th></th>\n",
              "      <th>InvoiceNo</th>\n",
              "      <th>StockCode</th>\n",
              "      <th>Description</th>\n",
              "      <th>Quantity</th>\n",
              "      <th>InvoiceDate</th>\n",
              "      <th>UnitPrice</th>\n",
              "      <th>CustomerID</th>\n",
              "      <th>Country</th>\n",
              "    </tr>\n",
              "  </thead>\n",
              "  <tbody>\n",
              "    <tr>\n",
              "      <th>0</th>\n",
              "      <td>536365</td>\n",
              "      <td>85123A</td>\n",
              "      <td>WHITE HANGING HEART T-LIGHT HOLDER</td>\n",
              "      <td>6</td>\n",
              "      <td>12/1/2010 8:26</td>\n",
              "      <td>2.55</td>\n",
              "      <td>17850.0</td>\n",
              "      <td>United Kingdom</td>\n",
              "    </tr>\n",
              "    <tr>\n",
              "      <th>1</th>\n",
              "      <td>536365</td>\n",
              "      <td>71053</td>\n",
              "      <td>WHITE METAL LANTERN</td>\n",
              "      <td>6</td>\n",
              "      <td>12/1/2010 8:26</td>\n",
              "      <td>3.39</td>\n",
              "      <td>17850.0</td>\n",
              "      <td>United Kingdom</td>\n",
              "    </tr>\n",
              "    <tr>\n",
              "      <th>2</th>\n",
              "      <td>536365</td>\n",
              "      <td>84406B</td>\n",
              "      <td>CREAM CUPID HEARTS COAT HANGER</td>\n",
              "      <td>8</td>\n",
              "      <td>12/1/2010 8:26</td>\n",
              "      <td>2.75</td>\n",
              "      <td>17850.0</td>\n",
              "      <td>United Kingdom</td>\n",
              "    </tr>\n",
              "    <tr>\n",
              "      <th>3</th>\n",
              "      <td>536365</td>\n",
              "      <td>84029G</td>\n",
              "      <td>KNITTED UNION FLAG HOT WATER BOTTLE</td>\n",
              "      <td>6</td>\n",
              "      <td>12/1/2010 8:26</td>\n",
              "      <td>3.39</td>\n",
              "      <td>17850.0</td>\n",
              "      <td>United Kingdom</td>\n",
              "    </tr>\n",
              "    <tr>\n",
              "      <th>4</th>\n",
              "      <td>536365</td>\n",
              "      <td>84029E</td>\n",
              "      <td>RED WOOLLY HOTTIE WHITE HEART.</td>\n",
              "      <td>6</td>\n",
              "      <td>12/1/2010 8:26</td>\n",
              "      <td>3.39</td>\n",
              "      <td>17850.0</td>\n",
              "      <td>United Kingdom</td>\n",
              "    </tr>\n",
              "  </tbody>\n",
              "</table>\n",
              "</div>"
            ],
            "text/plain": [
              "  InvoiceNo StockCode  ... CustomerID         Country\n",
              "0    536365    85123A  ...    17850.0  United Kingdom\n",
              "1    536365     71053  ...    17850.0  United Kingdom\n",
              "2    536365    84406B  ...    17850.0  United Kingdom\n",
              "3    536365    84029G  ...    17850.0  United Kingdom\n",
              "4    536365    84029E  ...    17850.0  United Kingdom\n",
              "\n",
              "[5 rows x 8 columns]"
            ]
          },
          "metadata": {},
          "execution_count": 14
        }
      ]
    },
    {
      "cell_type": "code",
      "metadata": {
        "id": "0iRFrGyiK1xM"
      },
      "source": [
        ""
      ],
      "execution_count": 14,
      "outputs": []
    },
    {
      "cell_type": "markdown",
      "metadata": {
        "id": "LG9A7GTiEm-G"
      },
      "source": [
        "**Identifying the total number of Products,Customers and Transactions in the dataset**"
      ]
    },
    {
      "cell_type": "code",
      "metadata": {
        "colab": {
          "base_uri": "https://localhost:8080/",
          "height": 81
        },
        "id": "WlUvx_jfCqXd",
        "outputId": "05b57239-d56f-43b6-c58d-af6ba56b7eb4"
      },
      "source": [
        "pd.DataFrame([{'products': len(customer_data['StockCode'].value_counts()),    \n",
        "               'transactions': len(customer_data['InvoiceNo'].value_counts()),\n",
        "               'customers': len(customer_data['CustomerID'].value_counts()),  \n",
        "              }], columns = ['products', 'transactions', 'customers'], index = ['quantity'])"
      ],
      "execution_count": 15,
      "outputs": [
        {
          "output_type": "execute_result",
          "data": {
            "text/html": [
              "<div>\n",
              "<style scoped>\n",
              "    .dataframe tbody tr th:only-of-type {\n",
              "        vertical-align: middle;\n",
              "    }\n",
              "\n",
              "    .dataframe tbody tr th {\n",
              "        vertical-align: top;\n",
              "    }\n",
              "\n",
              "    .dataframe thead th {\n",
              "        text-align: right;\n",
              "    }\n",
              "</style>\n",
              "<table border=\"1\" class=\"dataframe\">\n",
              "  <thead>\n",
              "    <tr style=\"text-align: right;\">\n",
              "      <th></th>\n",
              "      <th>products</th>\n",
              "      <th>transactions</th>\n",
              "      <th>customers</th>\n",
              "    </tr>\n",
              "  </thead>\n",
              "  <tbody>\n",
              "    <tr>\n",
              "      <th>quantity</th>\n",
              "      <td>3684</td>\n",
              "      <td>22190</td>\n",
              "      <td>4372</td>\n",
              "    </tr>\n",
              "  </tbody>\n",
              "</table>\n",
              "</div>"
            ],
            "text/plain": [
              "          products  transactions  customers\n",
              "quantity      3684         22190       4372"
            ]
          },
          "metadata": {},
          "execution_count": 15
        }
      ]
    },
    {
      "cell_type": "markdown",
      "metadata": {
        "id": "k9cSlYpfFKhe"
      },
      "source": [
        "**Determining the number of products purchased in every transaction**"
      ]
    },
    {
      "cell_type": "code",
      "metadata": {
        "colab": {
          "base_uri": "https://localhost:8080/",
          "height": 677
        },
        "id": "0pAuG1grEIQI",
        "outputId": "0d6741fb-d579-49e5-e93a-43897920faf7"
      },
      "source": [
        "det =customer_data.groupby(by=['CustomerID', 'InvoiceNo'], as_index=False)['InvoiceDate'].count()\n",
        "prod_per_trans= det.rename(columns = {'InvoiceDate':'Number of products'})\n",
        "prod_per_trans[:20].sort_values('CustomerID')"
      ],
      "execution_count": 16,
      "outputs": [
        {
          "output_type": "execute_result",
          "data": {
            "text/html": [
              "<div>\n",
              "<style scoped>\n",
              "    .dataframe tbody tr th:only-of-type {\n",
              "        vertical-align: middle;\n",
              "    }\n",
              "\n",
              "    .dataframe tbody tr th {\n",
              "        vertical-align: top;\n",
              "    }\n",
              "\n",
              "    .dataframe thead th {\n",
              "        text-align: right;\n",
              "    }\n",
              "</style>\n",
              "<table border=\"1\" class=\"dataframe\">\n",
              "  <thead>\n",
              "    <tr style=\"text-align: right;\">\n",
              "      <th></th>\n",
              "      <th>CustomerID</th>\n",
              "      <th>InvoiceNo</th>\n",
              "      <th>Number of products</th>\n",
              "    </tr>\n",
              "  </thead>\n",
              "  <tbody>\n",
              "    <tr>\n",
              "      <th>0</th>\n",
              "      <td>12346.0</td>\n",
              "      <td>541431</td>\n",
              "      <td>1</td>\n",
              "    </tr>\n",
              "    <tr>\n",
              "      <th>1</th>\n",
              "      <td>12346.0</td>\n",
              "      <td>C541433</td>\n",
              "      <td>1</td>\n",
              "    </tr>\n",
              "    <tr>\n",
              "      <th>2</th>\n",
              "      <td>12347.0</td>\n",
              "      <td>537626</td>\n",
              "      <td>31</td>\n",
              "    </tr>\n",
              "    <tr>\n",
              "      <th>3</th>\n",
              "      <td>12347.0</td>\n",
              "      <td>542237</td>\n",
              "      <td>29</td>\n",
              "    </tr>\n",
              "    <tr>\n",
              "      <th>4</th>\n",
              "      <td>12347.0</td>\n",
              "      <td>549222</td>\n",
              "      <td>24</td>\n",
              "    </tr>\n",
              "    <tr>\n",
              "      <th>5</th>\n",
              "      <td>12347.0</td>\n",
              "      <td>556201</td>\n",
              "      <td>18</td>\n",
              "    </tr>\n",
              "    <tr>\n",
              "      <th>6</th>\n",
              "      <td>12347.0</td>\n",
              "      <td>562032</td>\n",
              "      <td>22</td>\n",
              "    </tr>\n",
              "    <tr>\n",
              "      <th>7</th>\n",
              "      <td>12347.0</td>\n",
              "      <td>573511</td>\n",
              "      <td>47</td>\n",
              "    </tr>\n",
              "    <tr>\n",
              "      <th>8</th>\n",
              "      <td>12347.0</td>\n",
              "      <td>581180</td>\n",
              "      <td>11</td>\n",
              "    </tr>\n",
              "    <tr>\n",
              "      <th>12</th>\n",
              "      <td>12348.0</td>\n",
              "      <td>568172</td>\n",
              "      <td>3</td>\n",
              "    </tr>\n",
              "    <tr>\n",
              "      <th>11</th>\n",
              "      <td>12348.0</td>\n",
              "      <td>548955</td>\n",
              "      <td>5</td>\n",
              "    </tr>\n",
              "    <tr>\n",
              "      <th>9</th>\n",
              "      <td>12348.0</td>\n",
              "      <td>539318</td>\n",
              "      <td>17</td>\n",
              "    </tr>\n",
              "    <tr>\n",
              "      <th>10</th>\n",
              "      <td>12348.0</td>\n",
              "      <td>541998</td>\n",
              "      <td>6</td>\n",
              "    </tr>\n",
              "    <tr>\n",
              "      <th>13</th>\n",
              "      <td>12349.0</td>\n",
              "      <td>577609</td>\n",
              "      <td>73</td>\n",
              "    </tr>\n",
              "    <tr>\n",
              "      <th>14</th>\n",
              "      <td>12350.0</td>\n",
              "      <td>543037</td>\n",
              "      <td>17</td>\n",
              "    </tr>\n",
              "    <tr>\n",
              "      <th>18</th>\n",
              "      <td>12352.0</td>\n",
              "      <td>546869</td>\n",
              "      <td>7</td>\n",
              "    </tr>\n",
              "    <tr>\n",
              "      <th>15</th>\n",
              "      <td>12352.0</td>\n",
              "      <td>544156</td>\n",
              "      <td>15</td>\n",
              "    </tr>\n",
              "    <tr>\n",
              "      <th>16</th>\n",
              "      <td>12352.0</td>\n",
              "      <td>545323</td>\n",
              "      <td>5</td>\n",
              "    </tr>\n",
              "    <tr>\n",
              "      <th>17</th>\n",
              "      <td>12352.0</td>\n",
              "      <td>545332</td>\n",
              "      <td>3</td>\n",
              "    </tr>\n",
              "    <tr>\n",
              "      <th>19</th>\n",
              "      <td>12352.0</td>\n",
              "      <td>547390</td>\n",
              "      <td>8</td>\n",
              "    </tr>\n",
              "  </tbody>\n",
              "</table>\n",
              "</div>"
            ],
            "text/plain": [
              "    CustomerID InvoiceNo  Number of products\n",
              "0      12346.0    541431                   1\n",
              "1      12346.0   C541433                   1\n",
              "2      12347.0    537626                  31\n",
              "3      12347.0    542237                  29\n",
              "4      12347.0    549222                  24\n",
              "5      12347.0    556201                  18\n",
              "6      12347.0    562032                  22\n",
              "7      12347.0    573511                  47\n",
              "8      12347.0    581180                  11\n",
              "12     12348.0    568172                   3\n",
              "11     12348.0    548955                   5\n",
              "9      12348.0    539318                  17\n",
              "10     12348.0    541998                   6\n",
              "13     12349.0    577609                  73\n",
              "14     12350.0    543037                  17\n",
              "18     12352.0    546869                   7\n",
              "15     12352.0    544156                  15\n",
              "16     12352.0    545323                   5\n",
              "17     12352.0    545332                   3\n",
              "19     12352.0    547390                   8"
            ]
          },
          "metadata": {},
          "execution_count": 16
        }
      ]
    },
    {
      "cell_type": "markdown",
      "metadata": {
        "id": "SmfzIAboGUcr"
      },
      "source": [
        "**From the above data can observe that the Invoice Containing C as prefix is a cancelled transaction and also there are transactions wherein few of the customers has purchased one or more products**"
      ]
    },
    {
      "cell_type": "code",
      "metadata": {
        "colab": {
          "base_uri": "https://localhost:8080/"
        },
        "id": "UEMQpmH3I4Yv",
        "outputId": "7d08c8db-4f99-4440-8890-33b62ccbba25"
      },
      "source": [
        "temp = customer_data[['CustomerID', 'InvoiceNo', 'Country']].groupby(['CustomerID', 'InvoiceNo', 'Country']).count()\n",
        "temp = temp.reset_index(drop = False)\n",
        "countries = temp['Country'].value_counts()\n",
        "print('Number of Countries in the Dataset: {}'.format(len(countries)))"
      ],
      "execution_count": 17,
      "outputs": [
        {
          "output_type": "stream",
          "name": "stdout",
          "text": [
            "Number of Countries in the Dataset: 37\n"
          ]
        }
      ]
    },
    {
      "cell_type": "code",
      "metadata": {
        "colab": {
          "base_uri": "https://localhost:8080/",
          "height": 542
        },
        "id": "piTt5pFHKyTi",
        "outputId": "03b1f12a-58d2-4731-f339-42c8f1f3a484"
      },
      "source": [
        "data = dict(type='choropleth',\n",
        "locations = countries.index,\n",
        "locationmode = 'country names', z = countries,\n",
        "text = countries.index, colorbar = {'title':'Order nb.'},\n",
        "colorscale=[[0, 'rgb(224,255,255)'],\n",
        "            [0.01, 'rgb(166,206,227)'], [0.02, 'rgb(31,120,180)'],\n",
        "            [0.03, 'rgb(178,223,138)'], [0.05, 'rgb(51,160,44)'],\n",
        "            [0.10, 'rgb(251,154,153)'], [0.20, 'rgb(255,255,0)'],\n",
        "            [1, 'rgb(227,26,28)']],    \n",
        "reversescale = False)\n",
        "#_______________________\n",
        "layout = dict(title='Number of orders per country',\n",
        "geo = dict(showframe = True, projection={'type':'mercator'}))\n",
        "#______________\n",
        "choromap = go.Figure(data = [data], layout = layout)\n",
        "iplot(choromap, validate=False)"
      ],
      "execution_count": 18,
      "outputs": [
        {
          "output_type": "display_data",
          "data": {
            "text/html": [
              "<html>\n",
              "<head><meta charset=\"utf-8\" /></head>\n",
              "<body>\n",
              "    <div>\n",
              "            <script src=\"https://cdnjs.cloudflare.com/ajax/libs/mathjax/2.7.5/MathJax.js?config=TeX-AMS-MML_SVG\"></script><script type=\"text/javascript\">if (window.MathJax) {MathJax.Hub.Config({SVG: {font: \"STIX-Web\"}});}</script>\n",
              "                <script type=\"text/javascript\">window.PlotlyConfig = {MathJaxConfig: 'local'};</script>\n",
              "        <script src=\"https://cdn.plot.ly/plotly-latest.min.js\"></script>    \n",
              "            <div id=\"fa9a3b49-e156-4c19-8ba9-53acdd981ee4\" class=\"plotly-graph-div\" style=\"height:525px; width:100%;\"></div>\n",
              "            <script type=\"text/javascript\">\n",
              "                \n",
              "                    window.PLOTLYENV=window.PLOTLYENV || {};\n",
              "                    \n",
              "                if (document.getElementById(\"fa9a3b49-e156-4c19-8ba9-53acdd981ee4\")) {\n",
              "                    Plotly.newPlot(\n",
              "                        'fa9a3b49-e156-4c19-8ba9-53acdd981ee4',\n",
              "                        [{\"colorbar\": {\"title\": {\"text\": \"Order nb.\"}}, \"colorscale\": [[0, \"rgb(224,255,255)\"], [0.01, \"rgb(166,206,227)\"], [0.02, \"rgb(31,120,180)\"], [0.03, \"rgb(178,223,138)\"], [0.05, \"rgb(51,160,44)\"], [0.1, \"rgb(251,154,153)\"], [0.2, \"rgb(255,255,0)\"], [1, \"rgb(227,26,28)\"]], \"locationmode\": \"country names\", \"locations\": [\"United Kingdom\", \"Germany\", \"France\", \"EIRE\", \"Belgium\", \"Spain\", \"Netherlands\", \"Switzerland\", \"Portugal\", \"Australia\", \"Italy\", \"Finland\", \"Sweden\", \"Norway\", \"Channel Islands\", \"Japan\", \"Poland\", \"Denmark\", \"Cyprus\", \"Austria\", \"Malta\", \"Singapore\", \"Unspecified\", \"Iceland\", \"USA\", \"Israel\", \"Canada\", \"Greece\", \"European Community\", \"Czech Republic\", \"Lithuania\", \"United Arab Emirates\", \"Bahrain\", \"Saudi Arabia\", \"RSA\", \"Brazil\", \"Lebanon\"], \"reversescale\": false, \"text\": [\"United Kingdom\", \"Germany\", \"France\", \"EIRE\", \"Belgium\", \"Spain\", \"Netherlands\", \"Switzerland\", \"Portugal\", \"Australia\", \"Italy\", \"Finland\", \"Sweden\", \"Norway\", \"Channel Islands\", \"Japan\", \"Poland\", \"Denmark\", \"Cyprus\", \"Austria\", \"Malta\", \"Singapore\", \"Unspecified\", \"Iceland\", \"USA\", \"Israel\", \"Canada\", \"Greece\", \"European Community\", \"Czech Republic\", \"Lithuania\", \"United Arab Emirates\", \"Bahrain\", \"Saudi Arabia\", \"RSA\", \"Brazil\", \"Lebanon\"], \"type\": \"choropleth\", \"z\": [19857, 603, 458, 319, 119, 105, 101, 71, 70, 69, 55, 48, 46, 40, 33, 28, 24, 21, 20, 19, 10, 10, 8, 7, 7, 6, 6, 6, 5, 5, 4, 3, 2, 2, 1, 1, 1]}],\n",
              "                        {\"geo\": {\"projection\": {\"type\": \"mercator\"}, \"showframe\": true}, \"template\": {\"data\": {\"bar\": [{\"error_x\": {\"color\": \"#2a3f5f\"}, \"error_y\": {\"color\": \"#2a3f5f\"}, \"marker\": {\"line\": {\"color\": \"#E5ECF6\", \"width\": 0.5}}, \"type\": \"bar\"}], \"barpolar\": [{\"marker\": {\"line\": {\"color\": \"#E5ECF6\", \"width\": 0.5}}, \"type\": \"barpolar\"}], \"carpet\": [{\"aaxis\": {\"endlinecolor\": \"#2a3f5f\", \"gridcolor\": \"white\", \"linecolor\": \"white\", \"minorgridcolor\": \"white\", \"startlinecolor\": \"#2a3f5f\"}, \"baxis\": {\"endlinecolor\": \"#2a3f5f\", \"gridcolor\": \"white\", \"linecolor\": \"white\", \"minorgridcolor\": \"white\", \"startlinecolor\": \"#2a3f5f\"}, \"type\": \"carpet\"}], \"choropleth\": [{\"colorbar\": {\"outlinewidth\": 0, \"ticks\": \"\"}, \"type\": \"choropleth\"}], \"contour\": [{\"colorbar\": {\"outlinewidth\": 0, \"ticks\": \"\"}, \"colorscale\": [[0.0, \"#0d0887\"], [0.1111111111111111, \"#46039f\"], [0.2222222222222222, \"#7201a8\"], [0.3333333333333333, \"#9c179e\"], [0.4444444444444444, \"#bd3786\"], [0.5555555555555556, \"#d8576b\"], [0.6666666666666666, \"#ed7953\"], [0.7777777777777778, \"#fb9f3a\"], [0.8888888888888888, \"#fdca26\"], [1.0, \"#f0f921\"]], \"type\": \"contour\"}], \"contourcarpet\": [{\"colorbar\": {\"outlinewidth\": 0, \"ticks\": \"\"}, \"type\": \"contourcarpet\"}], \"heatmap\": [{\"colorbar\": {\"outlinewidth\": 0, \"ticks\": \"\"}, \"colorscale\": [[0.0, \"#0d0887\"], [0.1111111111111111, \"#46039f\"], [0.2222222222222222, \"#7201a8\"], [0.3333333333333333, \"#9c179e\"], [0.4444444444444444, \"#bd3786\"], [0.5555555555555556, \"#d8576b\"], [0.6666666666666666, \"#ed7953\"], [0.7777777777777778, \"#fb9f3a\"], [0.8888888888888888, \"#fdca26\"], [1.0, \"#f0f921\"]], \"type\": \"heatmap\"}], \"heatmapgl\": [{\"colorbar\": {\"outlinewidth\": 0, \"ticks\": \"\"}, \"colorscale\": [[0.0, \"#0d0887\"], [0.1111111111111111, \"#46039f\"], [0.2222222222222222, \"#7201a8\"], [0.3333333333333333, \"#9c179e\"], [0.4444444444444444, \"#bd3786\"], [0.5555555555555556, \"#d8576b\"], [0.6666666666666666, \"#ed7953\"], [0.7777777777777778, \"#fb9f3a\"], [0.8888888888888888, \"#fdca26\"], [1.0, \"#f0f921\"]], \"type\": \"heatmapgl\"}], \"histogram\": [{\"marker\": {\"colorbar\": {\"outlinewidth\": 0, \"ticks\": \"\"}}, \"type\": \"histogram\"}], \"histogram2d\": [{\"colorbar\": {\"outlinewidth\": 0, \"ticks\": \"\"}, \"colorscale\": [[0.0, \"#0d0887\"], [0.1111111111111111, \"#46039f\"], [0.2222222222222222, \"#7201a8\"], [0.3333333333333333, \"#9c179e\"], [0.4444444444444444, \"#bd3786\"], [0.5555555555555556, \"#d8576b\"], [0.6666666666666666, \"#ed7953\"], [0.7777777777777778, \"#fb9f3a\"], [0.8888888888888888, \"#fdca26\"], [1.0, \"#f0f921\"]], \"type\": \"histogram2d\"}], \"histogram2dcontour\": [{\"colorbar\": {\"outlinewidth\": 0, \"ticks\": \"\"}, \"colorscale\": [[0.0, \"#0d0887\"], [0.1111111111111111, \"#46039f\"], [0.2222222222222222, \"#7201a8\"], [0.3333333333333333, \"#9c179e\"], [0.4444444444444444, \"#bd3786\"], [0.5555555555555556, \"#d8576b\"], [0.6666666666666666, \"#ed7953\"], [0.7777777777777778, \"#fb9f3a\"], [0.8888888888888888, \"#fdca26\"], [1.0, \"#f0f921\"]], \"type\": \"histogram2dcontour\"}], \"mesh3d\": [{\"colorbar\": {\"outlinewidth\": 0, \"ticks\": \"\"}, \"type\": \"mesh3d\"}], \"parcoords\": [{\"line\": {\"colorbar\": {\"outlinewidth\": 0, \"ticks\": \"\"}}, \"type\": \"parcoords\"}], \"pie\": [{\"automargin\": true, \"type\": \"pie\"}], \"scatter\": [{\"marker\": {\"colorbar\": {\"outlinewidth\": 0, \"ticks\": \"\"}}, \"type\": \"scatter\"}], \"scatter3d\": [{\"line\": {\"colorbar\": {\"outlinewidth\": 0, \"ticks\": \"\"}}, \"marker\": {\"colorbar\": {\"outlinewidth\": 0, \"ticks\": \"\"}}, \"type\": \"scatter3d\"}], \"scattercarpet\": [{\"marker\": {\"colorbar\": {\"outlinewidth\": 0, \"ticks\": \"\"}}, \"type\": \"scattercarpet\"}], \"scattergeo\": [{\"marker\": {\"colorbar\": {\"outlinewidth\": 0, \"ticks\": \"\"}}, \"type\": \"scattergeo\"}], \"scattergl\": [{\"marker\": {\"colorbar\": {\"outlinewidth\": 0, \"ticks\": \"\"}}, \"type\": \"scattergl\"}], \"scattermapbox\": [{\"marker\": {\"colorbar\": {\"outlinewidth\": 0, \"ticks\": \"\"}}, \"type\": \"scattermapbox\"}], \"scatterpolar\": [{\"marker\": {\"colorbar\": {\"outlinewidth\": 0, \"ticks\": \"\"}}, \"type\": \"scatterpolar\"}], \"scatterpolargl\": [{\"marker\": {\"colorbar\": {\"outlinewidth\": 0, \"ticks\": \"\"}}, \"type\": \"scatterpolargl\"}], \"scatterternary\": [{\"marker\": {\"colorbar\": {\"outlinewidth\": 0, \"ticks\": \"\"}}, \"type\": \"scatterternary\"}], \"surface\": [{\"colorbar\": {\"outlinewidth\": 0, \"ticks\": \"\"}, \"colorscale\": [[0.0, \"#0d0887\"], [0.1111111111111111, \"#46039f\"], [0.2222222222222222, \"#7201a8\"], [0.3333333333333333, \"#9c179e\"], [0.4444444444444444, \"#bd3786\"], [0.5555555555555556, \"#d8576b\"], [0.6666666666666666, \"#ed7953\"], [0.7777777777777778, \"#fb9f3a\"], [0.8888888888888888, \"#fdca26\"], [1.0, \"#f0f921\"]], \"type\": \"surface\"}], \"table\": [{\"cells\": {\"fill\": {\"color\": \"#EBF0F8\"}, \"line\": {\"color\": \"white\"}}, \"header\": {\"fill\": {\"color\": \"#C8D4E3\"}, \"line\": {\"color\": \"white\"}}, \"type\": \"table\"}]}, \"layout\": {\"annotationdefaults\": {\"arrowcolor\": \"#2a3f5f\", \"arrowhead\": 0, \"arrowwidth\": 1}, \"coloraxis\": {\"colorbar\": {\"outlinewidth\": 0, \"ticks\": \"\"}}, \"colorscale\": {\"diverging\": [[0, \"#8e0152\"], [0.1, \"#c51b7d\"], [0.2, \"#de77ae\"], [0.3, \"#f1b6da\"], [0.4, \"#fde0ef\"], [0.5, \"#f7f7f7\"], [0.6, \"#e6f5d0\"], [0.7, \"#b8e186\"], [0.8, \"#7fbc41\"], [0.9, \"#4d9221\"], [1, \"#276419\"]], \"sequential\": [[0.0, \"#0d0887\"], [0.1111111111111111, \"#46039f\"], [0.2222222222222222, \"#7201a8\"], [0.3333333333333333, \"#9c179e\"], [0.4444444444444444, \"#bd3786\"], [0.5555555555555556, \"#d8576b\"], [0.6666666666666666, \"#ed7953\"], [0.7777777777777778, \"#fb9f3a\"], [0.8888888888888888, \"#fdca26\"], [1.0, \"#f0f921\"]], \"sequentialminus\": [[0.0, \"#0d0887\"], [0.1111111111111111, \"#46039f\"], [0.2222222222222222, \"#7201a8\"], [0.3333333333333333, \"#9c179e\"], [0.4444444444444444, \"#bd3786\"], [0.5555555555555556, \"#d8576b\"], [0.6666666666666666, \"#ed7953\"], [0.7777777777777778, \"#fb9f3a\"], [0.8888888888888888, \"#fdca26\"], [1.0, \"#f0f921\"]]}, \"colorway\": [\"#636efa\", \"#EF553B\", \"#00cc96\", \"#ab63fa\", \"#FFA15A\", \"#19d3f3\", \"#FF6692\", \"#B6E880\", \"#FF97FF\", \"#FECB52\"], \"font\": {\"color\": \"#2a3f5f\"}, \"geo\": {\"bgcolor\": \"white\", \"lakecolor\": \"white\", \"landcolor\": \"#E5ECF6\", \"showlakes\": true, \"showland\": true, \"subunitcolor\": \"white\"}, \"hoverlabel\": {\"align\": \"left\"}, \"hovermode\": \"closest\", \"mapbox\": {\"style\": \"light\"}, \"paper_bgcolor\": \"white\", \"plot_bgcolor\": \"#E5ECF6\", \"polar\": {\"angularaxis\": {\"gridcolor\": \"white\", \"linecolor\": \"white\", \"ticks\": \"\"}, \"bgcolor\": \"#E5ECF6\", \"radialaxis\": {\"gridcolor\": \"white\", \"linecolor\": \"white\", \"ticks\": \"\"}}, \"scene\": {\"xaxis\": {\"backgroundcolor\": \"#E5ECF6\", \"gridcolor\": \"white\", \"gridwidth\": 2, \"linecolor\": \"white\", \"showbackground\": true, \"ticks\": \"\", \"zerolinecolor\": \"white\"}, \"yaxis\": {\"backgroundcolor\": \"#E5ECF6\", \"gridcolor\": \"white\", \"gridwidth\": 2, \"linecolor\": \"white\", \"showbackground\": true, \"ticks\": \"\", \"zerolinecolor\": \"white\"}, \"zaxis\": {\"backgroundcolor\": \"#E5ECF6\", \"gridcolor\": \"white\", \"gridwidth\": 2, \"linecolor\": \"white\", \"showbackground\": true, \"ticks\": \"\", \"zerolinecolor\": \"white\"}}, \"shapedefaults\": {\"line\": {\"color\": \"#2a3f5f\"}}, \"ternary\": {\"aaxis\": {\"gridcolor\": \"white\", \"linecolor\": \"white\", \"ticks\": \"\"}, \"baxis\": {\"gridcolor\": \"white\", \"linecolor\": \"white\", \"ticks\": \"\"}, \"bgcolor\": \"#E5ECF6\", \"caxis\": {\"gridcolor\": \"white\", \"linecolor\": \"white\", \"ticks\": \"\"}}, \"title\": {\"x\": 0.05}, \"xaxis\": {\"automargin\": true, \"gridcolor\": \"white\", \"linecolor\": \"white\", \"ticks\": \"\", \"title\": {\"standoff\": 15}, \"zerolinecolor\": \"white\", \"zerolinewidth\": 2}, \"yaxis\": {\"automargin\": true, \"gridcolor\": \"white\", \"linecolor\": \"white\", \"ticks\": \"\", \"title\": {\"standoff\": 15}, \"zerolinecolor\": \"white\", \"zerolinewidth\": 2}}}, \"title\": {\"text\": \"Number of orders per country\"}},\n",
              "                        {\"responsive\": true}\n",
              "                    ).then(function(){\n",
              "                            \n",
              "var gd = document.getElementById('fa9a3b49-e156-4c19-8ba9-53acdd981ee4');\n",
              "var x = new MutationObserver(function (mutations, observer) {{\n",
              "        var display = window.getComputedStyle(gd).display;\n",
              "        if (!display || display === 'none') {{\n",
              "            console.log([gd, 'removed!']);\n",
              "            Plotly.purge(gd);\n",
              "            observer.disconnect();\n",
              "        }}\n",
              "}});\n",
              "\n",
              "// Listen for the removal of the full notebook cells\n",
              "var notebookContainer = gd.closest('#notebook-container');\n",
              "if (notebookContainer) {{\n",
              "    x.observe(notebookContainer, {childList: true});\n",
              "}}\n",
              "\n",
              "// Listen for the clearing of the current output cell\n",
              "var outputEl = gd.closest('.output');\n",
              "if (outputEl) {{\n",
              "    x.observe(outputEl, {childList: true});\n",
              "}}\n",
              "\n",
              "                        })\n",
              "                };\n",
              "                \n",
              "            </script>\n",
              "        </div>\n",
              "</body>\n",
              "</html>"
            ]
          },
          "metadata": {}
        }
      ]
    },
    {
      "cell_type": "markdown",
      "metadata": {
        "id": "oomt0t5IEt8g"
      },
      "source": [
        "**The above graph shows the percentage of orders from the top 10 countries, sorted by the number of orders. This shows that more than 90% of orders are coming from United Kingdom and no other country even makes up 3% of the orders in the data.**"
      ]
    },
    {
      "cell_type": "markdown",
      "metadata": {
        "id": "ewLaL0g7IPn2"
      },
      "source": [
        "**Counting the number of transactions corresponding to canceled orders:**"
      ]
    },
    {
      "cell_type": "code",
      "metadata": {
        "colab": {
          "base_uri": "https://localhost:8080/",
          "height": 424
        },
        "id": "yj0hEdrhLH21",
        "outputId": "650d6ecf-7f69-408b-9e37-e062e23e8c5d"
      },
      "source": [
        "prod_per_trans['order_canceled'] = prod_per_trans['InvoiceNo'].apply(lambda x:int('C' in x))\n",
        "display(prod_per_trans[:100])"
      ],
      "execution_count": 19,
      "outputs": [
        {
          "output_type": "display_data",
          "data": {
            "text/html": [
              "<div>\n",
              "<style scoped>\n",
              "    .dataframe tbody tr th:only-of-type {\n",
              "        vertical-align: middle;\n",
              "    }\n",
              "\n",
              "    .dataframe tbody tr th {\n",
              "        vertical-align: top;\n",
              "    }\n",
              "\n",
              "    .dataframe thead th {\n",
              "        text-align: right;\n",
              "    }\n",
              "</style>\n",
              "<table border=\"1\" class=\"dataframe\">\n",
              "  <thead>\n",
              "    <tr style=\"text-align: right;\">\n",
              "      <th></th>\n",
              "      <th>CustomerID</th>\n",
              "      <th>InvoiceNo</th>\n",
              "      <th>Number of products</th>\n",
              "      <th>order_canceled</th>\n",
              "    </tr>\n",
              "  </thead>\n",
              "  <tbody>\n",
              "    <tr>\n",
              "      <th>0</th>\n",
              "      <td>12346.0</td>\n",
              "      <td>541431</td>\n",
              "      <td>1</td>\n",
              "      <td>0</td>\n",
              "    </tr>\n",
              "    <tr>\n",
              "      <th>1</th>\n",
              "      <td>12346.0</td>\n",
              "      <td>C541433</td>\n",
              "      <td>1</td>\n",
              "      <td>1</td>\n",
              "    </tr>\n",
              "    <tr>\n",
              "      <th>2</th>\n",
              "      <td>12347.0</td>\n",
              "      <td>537626</td>\n",
              "      <td>31</td>\n",
              "      <td>0</td>\n",
              "    </tr>\n",
              "    <tr>\n",
              "      <th>3</th>\n",
              "      <td>12347.0</td>\n",
              "      <td>542237</td>\n",
              "      <td>29</td>\n",
              "      <td>0</td>\n",
              "    </tr>\n",
              "    <tr>\n",
              "      <th>4</th>\n",
              "      <td>12347.0</td>\n",
              "      <td>549222</td>\n",
              "      <td>24</td>\n",
              "      <td>0</td>\n",
              "    </tr>\n",
              "    <tr>\n",
              "      <th>...</th>\n",
              "      <td>...</td>\n",
              "      <td>...</td>\n",
              "      <td>...</td>\n",
              "      <td>...</td>\n",
              "    </tr>\n",
              "    <tr>\n",
              "      <th>95</th>\n",
              "      <td>12381.0</td>\n",
              "      <td>570725</td>\n",
              "      <td>1</td>\n",
              "      <td>0</td>\n",
              "    </tr>\n",
              "    <tr>\n",
              "      <th>96</th>\n",
              "      <td>12381.0</td>\n",
              "      <td>574694</td>\n",
              "      <td>16</td>\n",
              "      <td>0</td>\n",
              "    </tr>\n",
              "    <tr>\n",
              "      <th>97</th>\n",
              "      <td>12381.0</td>\n",
              "      <td>580638</td>\n",
              "      <td>7</td>\n",
              "      <td>0</td>\n",
              "    </tr>\n",
              "    <tr>\n",
              "      <th>98</th>\n",
              "      <td>12381.0</td>\n",
              "      <td>C565050</td>\n",
              "      <td>4</td>\n",
              "      <td>1</td>\n",
              "    </tr>\n",
              "    <tr>\n",
              "      <th>99</th>\n",
              "      <td>12383.0</td>\n",
              "      <td>539840</td>\n",
              "      <td>37</td>\n",
              "      <td>0</td>\n",
              "    </tr>\n",
              "  </tbody>\n",
              "</table>\n",
              "<p>100 rows × 4 columns</p>\n",
              "</div>"
            ],
            "text/plain": [
              "    CustomerID InvoiceNo  Number of products  order_canceled\n",
              "0      12346.0    541431                   1               0\n",
              "1      12346.0   C541433                   1               1\n",
              "2      12347.0    537626                  31               0\n",
              "3      12347.0    542237                  29               0\n",
              "4      12347.0    549222                  24               0\n",
              "..         ...       ...                 ...             ...\n",
              "95     12381.0    570725                   1               0\n",
              "96     12381.0    574694                  16               0\n",
              "97     12381.0    580638                   7               0\n",
              "98     12381.0   C565050                   4               1\n",
              "99     12383.0    539840                  37               0\n",
              "\n",
              "[100 rows x 4 columns]"
            ]
          },
          "metadata": {}
        }
      ]
    },
    {
      "cell_type": "markdown",
      "metadata": {
        "id": "5_JGH8AhLAYn"
      },
      "source": [
        "**Distribution of Customers by Countries**"
      ]
    },
    {
      "cell_type": "code",
      "metadata": {
        "colab": {
          "base_uri": "https://localhost:8080/",
          "height": 1000
        },
        "id": "FHl8YBT0K4-y",
        "outputId": "a3d44ff5-55fa-4a50-eda1-d3e87bcfa94c"
      },
      "source": [
        "customer_country = customer_data[['Country','CustomerID']].drop_duplicates()\n",
        "customer_country.groupby(['Country'])['CustomerID'].aggregate('count').reset_index(drop=False).sort_values('CustomerID', ascending=False)"
      ],
      "execution_count": 20,
      "outputs": [
        {
          "output_type": "execute_result",
          "data": {
            "text/html": [
              "<div>\n",
              "<style scoped>\n",
              "    .dataframe tbody tr th:only-of-type {\n",
              "        vertical-align: middle;\n",
              "    }\n",
              "\n",
              "    .dataframe tbody tr th {\n",
              "        vertical-align: top;\n",
              "    }\n",
              "\n",
              "    .dataframe thead th {\n",
              "        text-align: right;\n",
              "    }\n",
              "</style>\n",
              "<table border=\"1\" class=\"dataframe\">\n",
              "  <thead>\n",
              "    <tr style=\"text-align: right;\">\n",
              "      <th></th>\n",
              "      <th>Country</th>\n",
              "      <th>CustomerID</th>\n",
              "    </tr>\n",
              "  </thead>\n",
              "  <tbody>\n",
              "    <tr>\n",
              "      <th>35</th>\n",
              "      <td>United Kingdom</td>\n",
              "      <td>3950</td>\n",
              "    </tr>\n",
              "    <tr>\n",
              "      <th>14</th>\n",
              "      <td>Germany</td>\n",
              "      <td>95</td>\n",
              "    </tr>\n",
              "    <tr>\n",
              "      <th>13</th>\n",
              "      <td>France</td>\n",
              "      <td>87</td>\n",
              "    </tr>\n",
              "    <tr>\n",
              "      <th>30</th>\n",
              "      <td>Spain</td>\n",
              "      <td>31</td>\n",
              "    </tr>\n",
              "    <tr>\n",
              "      <th>3</th>\n",
              "      <td>Belgium</td>\n",
              "      <td>25</td>\n",
              "    </tr>\n",
              "    <tr>\n",
              "      <th>32</th>\n",
              "      <td>Switzerland</td>\n",
              "      <td>21</td>\n",
              "    </tr>\n",
              "    <tr>\n",
              "      <th>26</th>\n",
              "      <td>Portugal</td>\n",
              "      <td>19</td>\n",
              "    </tr>\n",
              "    <tr>\n",
              "      <th>18</th>\n",
              "      <td>Italy</td>\n",
              "      <td>15</td>\n",
              "    </tr>\n",
              "    <tr>\n",
              "      <th>12</th>\n",
              "      <td>Finland</td>\n",
              "      <td>12</td>\n",
              "    </tr>\n",
              "    <tr>\n",
              "      <th>1</th>\n",
              "      <td>Austria</td>\n",
              "      <td>11</td>\n",
              "    </tr>\n",
              "    <tr>\n",
              "      <th>24</th>\n",
              "      <td>Norway</td>\n",
              "      <td>10</td>\n",
              "    </tr>\n",
              "    <tr>\n",
              "      <th>23</th>\n",
              "      <td>Netherlands</td>\n",
              "      <td>9</td>\n",
              "    </tr>\n",
              "    <tr>\n",
              "      <th>0</th>\n",
              "      <td>Australia</td>\n",
              "      <td>9</td>\n",
              "    </tr>\n",
              "    <tr>\n",
              "      <th>9</th>\n",
              "      <td>Denmark</td>\n",
              "      <td>9</td>\n",
              "    </tr>\n",
              "    <tr>\n",
              "      <th>6</th>\n",
              "      <td>Channel Islands</td>\n",
              "      <td>9</td>\n",
              "    </tr>\n",
              "    <tr>\n",
              "      <th>7</th>\n",
              "      <td>Cyprus</td>\n",
              "      <td>8</td>\n",
              "    </tr>\n",
              "    <tr>\n",
              "      <th>31</th>\n",
              "      <td>Sweden</td>\n",
              "      <td>8</td>\n",
              "    </tr>\n",
              "    <tr>\n",
              "      <th>19</th>\n",
              "      <td>Japan</td>\n",
              "      <td>8</td>\n",
              "    </tr>\n",
              "    <tr>\n",
              "      <th>25</th>\n",
              "      <td>Poland</td>\n",
              "      <td>6</td>\n",
              "    </tr>\n",
              "    <tr>\n",
              "      <th>33</th>\n",
              "      <td>USA</td>\n",
              "      <td>4</td>\n",
              "    </tr>\n",
              "    <tr>\n",
              "      <th>5</th>\n",
              "      <td>Canada</td>\n",
              "      <td>4</td>\n",
              "    </tr>\n",
              "    <tr>\n",
              "      <th>36</th>\n",
              "      <td>Unspecified</td>\n",
              "      <td>4</td>\n",
              "    </tr>\n",
              "    <tr>\n",
              "      <th>17</th>\n",
              "      <td>Israel</td>\n",
              "      <td>4</td>\n",
              "    </tr>\n",
              "    <tr>\n",
              "      <th>15</th>\n",
              "      <td>Greece</td>\n",
              "      <td>4</td>\n",
              "    </tr>\n",
              "    <tr>\n",
              "      <th>10</th>\n",
              "      <td>EIRE</td>\n",
              "      <td>3</td>\n",
              "    </tr>\n",
              "    <tr>\n",
              "      <th>22</th>\n",
              "      <td>Malta</td>\n",
              "      <td>2</td>\n",
              "    </tr>\n",
              "    <tr>\n",
              "      <th>34</th>\n",
              "      <td>United Arab Emirates</td>\n",
              "      <td>2</td>\n",
              "    </tr>\n",
              "    <tr>\n",
              "      <th>2</th>\n",
              "      <td>Bahrain</td>\n",
              "      <td>2</td>\n",
              "    </tr>\n",
              "    <tr>\n",
              "      <th>8</th>\n",
              "      <td>Czech Republic</td>\n",
              "      <td>1</td>\n",
              "    </tr>\n",
              "    <tr>\n",
              "      <th>21</th>\n",
              "      <td>Lithuania</td>\n",
              "      <td>1</td>\n",
              "    </tr>\n",
              "    <tr>\n",
              "      <th>20</th>\n",
              "      <td>Lebanon</td>\n",
              "      <td>1</td>\n",
              "    </tr>\n",
              "    <tr>\n",
              "      <th>27</th>\n",
              "      <td>RSA</td>\n",
              "      <td>1</td>\n",
              "    </tr>\n",
              "    <tr>\n",
              "      <th>28</th>\n",
              "      <td>Saudi Arabia</td>\n",
              "      <td>1</td>\n",
              "    </tr>\n",
              "    <tr>\n",
              "      <th>29</th>\n",
              "      <td>Singapore</td>\n",
              "      <td>1</td>\n",
              "    </tr>\n",
              "    <tr>\n",
              "      <th>16</th>\n",
              "      <td>Iceland</td>\n",
              "      <td>1</td>\n",
              "    </tr>\n",
              "    <tr>\n",
              "      <th>4</th>\n",
              "      <td>Brazil</td>\n",
              "      <td>1</td>\n",
              "    </tr>\n",
              "    <tr>\n",
              "      <th>11</th>\n",
              "      <td>European Community</td>\n",
              "      <td>1</td>\n",
              "    </tr>\n",
              "  </tbody>\n",
              "</table>\n",
              "</div>"
            ],
            "text/plain": [
              "                 Country  CustomerID\n",
              "35        United Kingdom        3950\n",
              "14               Germany          95\n",
              "13                France          87\n",
              "30                 Spain          31\n",
              "3                Belgium          25\n",
              "32           Switzerland          21\n",
              "26              Portugal          19\n",
              "18                 Italy          15\n",
              "12               Finland          12\n",
              "1                Austria          11\n",
              "24                Norway          10\n",
              "23           Netherlands           9\n",
              "0              Australia           9\n",
              "9                Denmark           9\n",
              "6        Channel Islands           9\n",
              "7                 Cyprus           8\n",
              "31                Sweden           8\n",
              "19                 Japan           8\n",
              "25                Poland           6\n",
              "33                   USA           4\n",
              "5                 Canada           4\n",
              "36           Unspecified           4\n",
              "17                Israel           4\n",
              "15                Greece           4\n",
              "10                  EIRE           3\n",
              "22                 Malta           2\n",
              "34  United Arab Emirates           2\n",
              "2                Bahrain           2\n",
              "8         Czech Republic           1\n",
              "21             Lithuania           1\n",
              "20               Lebanon           1\n",
              "27                   RSA           1\n",
              "28          Saudi Arabia           1\n",
              "29             Singapore           1\n",
              "16               Iceland           1\n",
              "4                 Brazil           1\n",
              "11    European Community           1"
            ]
          },
          "metadata": {},
          "execution_count": 20
        }
      ]
    },
    {
      "cell_type": "code",
      "metadata": {
        "colab": {
          "base_uri": "https://localhost:8080/"
        },
        "id": "og2pr3ZTLZR4",
        "outputId": "621e9ee4-2206-447c-b94b-6549a637a615"
      },
      "source": [
        "a = prod_per_trans['order_canceled'].sum()\n",
        "b = prod_per_trans.shape[0]\n",
        "print('Number of orders canceled: {}/{} ({:.2f}%) '.format(a, b, a/b*100))"
      ],
      "execution_count": 21,
      "outputs": [
        {
          "output_type": "stream",
          "name": "stdout",
          "text": [
            "Number of orders canceled: 3654/22190 (16.47%) \n"
          ]
        }
      ]
    },
    {
      "cell_type": "code",
      "metadata": {
        "colab": {
          "base_uri": "https://localhost:8080/",
          "height": 300
        },
        "id": "3cQ3HA0YMG7q",
        "outputId": "af7629ec-39c3-49b4-e6c7-f3ad376e0e55"
      },
      "source": [
        "customer_data.describe()"
      ],
      "execution_count": 22,
      "outputs": [
        {
          "output_type": "execute_result",
          "data": {
            "text/html": [
              "<div>\n",
              "<style scoped>\n",
              "    .dataframe tbody tr th:only-of-type {\n",
              "        vertical-align: middle;\n",
              "    }\n",
              "\n",
              "    .dataframe tbody tr th {\n",
              "        vertical-align: top;\n",
              "    }\n",
              "\n",
              "    .dataframe thead th {\n",
              "        text-align: right;\n",
              "    }\n",
              "</style>\n",
              "<table border=\"1\" class=\"dataframe\">\n",
              "  <thead>\n",
              "    <tr style=\"text-align: right;\">\n",
              "      <th></th>\n",
              "      <th>Quantity</th>\n",
              "      <th>UnitPrice</th>\n",
              "      <th>CustomerID</th>\n",
              "    </tr>\n",
              "  </thead>\n",
              "  <tbody>\n",
              "    <tr>\n",
              "      <th>count</th>\n",
              "      <td>401604.000000</td>\n",
              "      <td>401604.000000</td>\n",
              "      <td>401604.000000</td>\n",
              "    </tr>\n",
              "    <tr>\n",
              "      <th>mean</th>\n",
              "      <td>12.183273</td>\n",
              "      <td>3.474064</td>\n",
              "      <td>15281.160818</td>\n",
              "    </tr>\n",
              "    <tr>\n",
              "      <th>std</th>\n",
              "      <td>250.283037</td>\n",
              "      <td>69.764035</td>\n",
              "      <td>1714.006089</td>\n",
              "    </tr>\n",
              "    <tr>\n",
              "      <th>min</th>\n",
              "      <td>-80995.000000</td>\n",
              "      <td>0.000000</td>\n",
              "      <td>12346.000000</td>\n",
              "    </tr>\n",
              "    <tr>\n",
              "      <th>25%</th>\n",
              "      <td>2.000000</td>\n",
              "      <td>1.250000</td>\n",
              "      <td>13939.000000</td>\n",
              "    </tr>\n",
              "    <tr>\n",
              "      <th>50%</th>\n",
              "      <td>5.000000</td>\n",
              "      <td>1.950000</td>\n",
              "      <td>15145.000000</td>\n",
              "    </tr>\n",
              "    <tr>\n",
              "      <th>75%</th>\n",
              "      <td>12.000000</td>\n",
              "      <td>3.750000</td>\n",
              "      <td>16784.000000</td>\n",
              "    </tr>\n",
              "    <tr>\n",
              "      <th>max</th>\n",
              "      <td>80995.000000</td>\n",
              "      <td>38970.000000</td>\n",
              "      <td>18287.000000</td>\n",
              "    </tr>\n",
              "  </tbody>\n",
              "</table>\n",
              "</div>"
            ],
            "text/plain": [
              "            Quantity      UnitPrice     CustomerID\n",
              "count  401604.000000  401604.000000  401604.000000\n",
              "mean       12.183273       3.474064   15281.160818\n",
              "std       250.283037      69.764035    1714.006089\n",
              "min    -80995.000000       0.000000   12346.000000\n",
              "25%         2.000000       1.250000   13939.000000\n",
              "50%         5.000000       1.950000   15145.000000\n",
              "75%        12.000000       3.750000   16784.000000\n",
              "max     80995.000000   38970.000000   18287.000000"
            ]
          },
          "metadata": {},
          "execution_count": 22
        }
      ]
    },
    {
      "cell_type": "code",
      "metadata": {
        "id": "VSZZZQ-zRBi2"
      },
      "source": [
        ""
      ],
      "execution_count": 22,
      "outputs": []
    },
    {
      "cell_type": "markdown",
      "metadata": {
        "id": "KB0ut6ZZLpRc"
      },
      "source": [
        "As minimum value for the quantity column is -80995 we can observe th"
      ]
    },
    {
      "cell_type": "code",
      "metadata": {
        "colab": {
          "base_uri": "https://localhost:8080/",
          "height": 206
        },
        "id": "d320x3J3RCwx",
        "outputId": "6c11c825-260a-45b2-b327-f4c765f3af7d"
      },
      "source": [
        "customer_data[(customer_data['Quantity']<0)].head()"
      ],
      "execution_count": 23,
      "outputs": [
        {
          "output_type": "execute_result",
          "data": {
            "text/html": [
              "<div>\n",
              "<style scoped>\n",
              "    .dataframe tbody tr th:only-of-type {\n",
              "        vertical-align: middle;\n",
              "    }\n",
              "\n",
              "    .dataframe tbody tr th {\n",
              "        vertical-align: top;\n",
              "    }\n",
              "\n",
              "    .dataframe thead th {\n",
              "        text-align: right;\n",
              "    }\n",
              "</style>\n",
              "<table border=\"1\" class=\"dataframe\">\n",
              "  <thead>\n",
              "    <tr style=\"text-align: right;\">\n",
              "      <th></th>\n",
              "      <th>InvoiceNo</th>\n",
              "      <th>StockCode</th>\n",
              "      <th>Description</th>\n",
              "      <th>Quantity</th>\n",
              "      <th>InvoiceDate</th>\n",
              "      <th>UnitPrice</th>\n",
              "      <th>CustomerID</th>\n",
              "      <th>Country</th>\n",
              "    </tr>\n",
              "  </thead>\n",
              "  <tbody>\n",
              "    <tr>\n",
              "      <th>141</th>\n",
              "      <td>C536379</td>\n",
              "      <td>D</td>\n",
              "      <td>Discount</td>\n",
              "      <td>-1</td>\n",
              "      <td>12/1/2010 9:41</td>\n",
              "      <td>27.50</td>\n",
              "      <td>14527.0</td>\n",
              "      <td>United Kingdom</td>\n",
              "    </tr>\n",
              "    <tr>\n",
              "      <th>154</th>\n",
              "      <td>C536383</td>\n",
              "      <td>35004C</td>\n",
              "      <td>SET OF 3 COLOURED  FLYING DUCKS</td>\n",
              "      <td>-1</td>\n",
              "      <td>12/1/2010 9:49</td>\n",
              "      <td>4.65</td>\n",
              "      <td>15311.0</td>\n",
              "      <td>United Kingdom</td>\n",
              "    </tr>\n",
              "    <tr>\n",
              "      <th>235</th>\n",
              "      <td>C536391</td>\n",
              "      <td>22556</td>\n",
              "      <td>PLASTERS IN TIN CIRCUS PARADE</td>\n",
              "      <td>-12</td>\n",
              "      <td>12/1/2010 10:24</td>\n",
              "      <td>1.65</td>\n",
              "      <td>17548.0</td>\n",
              "      <td>United Kingdom</td>\n",
              "    </tr>\n",
              "    <tr>\n",
              "      <th>236</th>\n",
              "      <td>C536391</td>\n",
              "      <td>21984</td>\n",
              "      <td>PACK OF 12 PINK PAISLEY TISSUES</td>\n",
              "      <td>-24</td>\n",
              "      <td>12/1/2010 10:24</td>\n",
              "      <td>0.29</td>\n",
              "      <td>17548.0</td>\n",
              "      <td>United Kingdom</td>\n",
              "    </tr>\n",
              "    <tr>\n",
              "      <th>237</th>\n",
              "      <td>C536391</td>\n",
              "      <td>21983</td>\n",
              "      <td>PACK OF 12 BLUE PAISLEY TISSUES</td>\n",
              "      <td>-24</td>\n",
              "      <td>12/1/2010 10:24</td>\n",
              "      <td>0.29</td>\n",
              "      <td>17548.0</td>\n",
              "      <td>United Kingdom</td>\n",
              "    </tr>\n",
              "  </tbody>\n",
              "</table>\n",
              "</div>"
            ],
            "text/plain": [
              "    InvoiceNo StockCode  ... CustomerID         Country\n",
              "141   C536379         D  ...    14527.0  United Kingdom\n",
              "154   C536383    35004C  ...    15311.0  United Kingdom\n",
              "235   C536391     22556  ...    17548.0  United Kingdom\n",
              "236   C536391     21984  ...    17548.0  United Kingdom\n",
              "237   C536391     21983  ...    17548.0  United Kingdom\n",
              "\n",
              "[5 rows x 8 columns]"
            ]
          },
          "metadata": {},
          "execution_count": 23
        }
      ]
    },
    {
      "cell_type": "code",
      "metadata": {
        "colab": {
          "base_uri": "https://localhost:8080/"
        },
        "id": "79QE7TtGRLdN",
        "outputId": "f9547cee-18e5-46c4-faaa-a9157ee365be"
      },
      "source": [
        "customer_data.info()"
      ],
      "execution_count": 24,
      "outputs": [
        {
          "output_type": "stream",
          "name": "stdout",
          "text": [
            "<class 'pandas.core.frame.DataFrame'>\n",
            "Int64Index: 401604 entries, 0 to 541908\n",
            "Data columns (total 8 columns):\n",
            " #   Column       Non-Null Count   Dtype  \n",
            "---  ------       --------------   -----  \n",
            " 0   InvoiceNo    401604 non-null  object \n",
            " 1   StockCode    401604 non-null  object \n",
            " 2   Description  401604 non-null  object \n",
            " 3   Quantity     401604 non-null  int64  \n",
            " 4   InvoiceDate  401604 non-null  object \n",
            " 5   UnitPrice    401604 non-null  float64\n",
            " 6   CustomerID   401604 non-null  float64\n",
            " 7   Country      401604 non-null  object \n",
            "dtypes: float64(2), int64(1), object(5)\n",
            "memory usage: 27.6+ MB\n"
          ]
        }
      ]
    },
    {
      "cell_type": "code",
      "metadata": {
        "colab": {
          "base_uri": "https://localhost:8080/"
        },
        "id": "WGPKfUzWTOWn",
        "outputId": "df2df9bf-491d-45d4-fcce-326705efa8b5"
      },
      "source": [
        "df_check = customer_data[customer_data['Quantity'] < 0][['CustomerID','Quantity',\n",
        "                                                   'StockCode','Description','UnitPrice']]\n",
        "for index, col in  df_check.iterrows():\n",
        "    if customer_data[(customer_data['CustomerID'] == col[0]) & (customer_data['Quantity'] == -col[1]) \n",
        "                & (customer_data['Description'] == col[2])].shape[0] == 0: \n",
        "        print(df_check.loc[index])\n",
        "        print(15*'-'+'>'+' HYPOTHESIS NOT FULFILLED')\n",
        "        break"
      ],
      "execution_count": 25,
      "outputs": [
        {
          "output_type": "stream",
          "name": "stdout",
          "text": [
            "CustomerID        14527\n",
            "Quantity             -1\n",
            "StockCode             D\n",
            "Description    Discount\n",
            "UnitPrice          27.5\n",
            "Name: 141, dtype: object\n",
            "---------------> HYPOTHESIS NOT FULFILLED\n"
          ]
        }
      ]
    },
    {
      "cell_type": "markdown",
      "metadata": {
        "id": "GcNNFh1TOU49"
      },
      "source": [
        "**We see that the initial hypothesis is not fulfilled because of the existence of a 'Discount' entry. I check again the hypothesis but this time discarding the 'Discount' entries:**"
      ]
    },
    {
      "cell_type": "code",
      "metadata": {
        "colab": {
          "base_uri": "https://localhost:8080/"
        },
        "id": "oRYviF-ITjyo",
        "outputId": "4c37d60f-7276-49b2-e223-068f3f775799"
      },
      "source": [
        "\n",
        "df_check = customer_data[(customer_data['Quantity'] < 0) & (customer_data['Description'] != 'Discount')][\n",
        "                                 ['CustomerID','Quantity','StockCode',\n",
        "                                  'Description','UnitPrice']]\n",
        "\n",
        "for index, col in  df_check.iterrows():\n",
        "    if customer_data[(customer_data['CustomerID'] == col[0]) & (customer_data['Quantity'] == -col[1]) \n",
        "                & (customer_data['Description'] == col[2])].shape[0] == 0: \n",
        "        print(index, df_check.loc[index])\n",
        "        print(15*'-'+'>'+' HYPOTHESIS NOT FULFILLED')\n",
        "        break"
      ],
      "execution_count": 26,
      "outputs": [
        {
          "output_type": "stream",
          "name": "stdout",
          "text": [
            "154 CustomerID                               15311\n",
            "Quantity                                    -1\n",
            "StockCode                               35004C\n",
            "Description    SET OF 3 COLOURED  FLYING DUCKS\n",
            "UnitPrice                                 4.65\n",
            "Name: 154, dtype: object\n",
            "---------------> HYPOTHESIS NOT FULFILLED\n"
          ]
        }
      ]
    },
    {
      "cell_type": "markdown",
      "metadata": {
        "id": "m-sAkZ3zPGhA"
      },
      "source": [
        "**Once more, we find that the initial hypothesis is not verified. Hence, cancellations do not necessarily correspond to orders that would have been made beforehand.**"
      ]
    },
    {
      "cell_type": "code",
      "metadata": {
        "id": "j4D0TtNWT3Y8"
      },
      "source": [
        "df_cleaned = customer_data.copy(deep = True)\n",
        "df_cleaned['QuantityCanceled'] = 0\n",
        "\n",
        "entry_to_remove = []\n",
        "doubtfull_entry = []\n",
        "\n",
        "for index, col in  customer_data.iterrows():\n",
        "    if (col['Quantity'] > 0) or col['Description'] == 'Discount': continue        \n",
        "    df_test = customer_data[(customer_data['CustomerID'] == col['CustomerID']) &\n",
        "                         (customer_data['StockCode']  == col['StockCode']) & \n",
        "                         (customer_data['InvoiceDate'] < col['InvoiceDate']) & \n",
        "                         (customer_data['Quantity']   > 0)].copy()\n",
        "    \n",
        "    # Cancelation WITHOUT counterpart\n",
        "    if (df_test.shape[0] == 0): \n",
        "        doubtfull_entry.append(index)\n",
        "    \n",
        "    # Cancelation WITH a counterpart\n",
        "    elif (df_test.shape[0] == 1): \n",
        "        index_order = df_test.index[0]\n",
        "        df_cleaned.loc[index_order, 'QuantityCanceled'] = -col['Quantity']\n",
        "        entry_to_remove.append(index)        \n",
        "    \n",
        "    # If various counterparts exist in orders, then we delete the last one\n",
        "    elif (df_test.shape[0] > 1): \n",
        "        df_test.sort_index(axis=0 ,ascending=False, inplace = True)        \n",
        "        for ind, val in df_test.iterrows():\n",
        "            if val['Quantity'] < -col['Quantity']: continue\n",
        "            df_cleaned.loc[ind, 'QuantityCanceled'] = -col['Quantity']\n",
        "            entry_to_remove.append(index) \n",
        "            break    "
      ],
      "execution_count": 27,
      "outputs": []
    },
    {
      "cell_type": "markdown",
      "metadata": {
        "id": "vO__wPvtQdGG"
      },
      "source": [
        "In the above function, we checked for two cases:\n",
        "\n",
        "if there are canceled orders that exists without counterparts\n",
        "if there's at least one counterpart with the exact same quantity\n",
        "The index of the corresponding canceled order are respectively kept in the doubtfull_entry and entry_to_remove lists whose sizes are:"
      ]
    },
    {
      "cell_type": "markdown",
      "metadata": {
        "id": "_i5_tcwOSQVz"
      },
      "source": [
        "**Drop the entries in doubtfull_entry and entry_to_remove**"
      ]
    },
    {
      "cell_type": "code",
      "metadata": {
        "id": "AjscAE5rWGT_"
      },
      "source": [
        "\n",
        "df_cleaned.drop(entry_to_remove, axis = 0, inplace = True)\n",
        "df_cleaned.drop(doubtfull_entry, axis = 0, inplace = True)\n"
      ],
      "execution_count": 28,
      "outputs": []
    },
    {
      "cell_type": "markdown",
      "metadata": {
        "id": "33vTcgExSg27"
      },
      "source": [
        "\n",
        "\n",
        "---\n",
        "**Check if there are still any canceled orders ** ***italicized text***\n"
      ]
    },
    {
      "cell_type": "code",
      "metadata": {
        "colab": {
          "base_uri": "https://localhost:8080/",
          "height": 328
        },
        "id": "TlE1OVrJWWFJ",
        "outputId": "57b7294e-abb6-4755-f269-e7c09edd439f"
      },
      "source": [
        "remaining_entries = df_cleaned[(df_cleaned['Quantity'] < 0) & (df_cleaned['StockCode'] != 'D')]\n",
        "print(\"number of entries to delete: {}\".format(remaining_entries.shape[0]))\n",
        "remaining_entries[:5]"
      ],
      "execution_count": 29,
      "outputs": [
        {
          "output_type": "stream",
          "name": "stdout",
          "text": [
            "number of entries to delete: 37\n"
          ]
        },
        {
          "output_type": "execute_result",
          "data": {
            "text/html": [
              "<div>\n",
              "<style scoped>\n",
              "    .dataframe tbody tr th:only-of-type {\n",
              "        vertical-align: middle;\n",
              "    }\n",
              "\n",
              "    .dataframe tbody tr th {\n",
              "        vertical-align: top;\n",
              "    }\n",
              "\n",
              "    .dataframe thead th {\n",
              "        text-align: right;\n",
              "    }\n",
              "</style>\n",
              "<table border=\"1\" class=\"dataframe\">\n",
              "  <thead>\n",
              "    <tr style=\"text-align: right;\">\n",
              "      <th></th>\n",
              "      <th>InvoiceNo</th>\n",
              "      <th>StockCode</th>\n",
              "      <th>Description</th>\n",
              "      <th>Quantity</th>\n",
              "      <th>InvoiceDate</th>\n",
              "      <th>UnitPrice</th>\n",
              "      <th>CustomerID</th>\n",
              "      <th>Country</th>\n",
              "      <th>QuantityCanceled</th>\n",
              "    </tr>\n",
              "  </thead>\n",
              "  <tbody>\n",
              "    <tr>\n",
              "      <th>27329</th>\n",
              "      <td>C538530</td>\n",
              "      <td>22630</td>\n",
              "      <td>DOLLY GIRL LUNCH BOX</td>\n",
              "      <td>-33</td>\n",
              "      <td>12/13/2010 10:26</td>\n",
              "      <td>1.95</td>\n",
              "      <td>14796.0</td>\n",
              "      <td>United Kingdom</td>\n",
              "      <td>0</td>\n",
              "    </tr>\n",
              "    <tr>\n",
              "      <th>32870</th>\n",
              "      <td>C539195</td>\n",
              "      <td>22942</td>\n",
              "      <td>CHRISTMAS LIGHTS 10 SANTAS</td>\n",
              "      <td>-5</td>\n",
              "      <td>12/16/2010 12:05</td>\n",
              "      <td>8.50</td>\n",
              "      <td>12748.0</td>\n",
              "      <td>United Kingdom</td>\n",
              "      <td>0</td>\n",
              "    </tr>\n",
              "    <tr>\n",
              "      <th>33085</th>\n",
              "      <td>C539221</td>\n",
              "      <td>22941</td>\n",
              "      <td>CHRISTMAS LIGHTS 10 REINDEER</td>\n",
              "      <td>-12</td>\n",
              "      <td>12/16/2010 12:56</td>\n",
              "      <td>8.50</td>\n",
              "      <td>14911.0</td>\n",
              "      <td>EIRE</td>\n",
              "      <td>0</td>\n",
              "    </tr>\n",
              "    <tr>\n",
              "      <th>33086</th>\n",
              "      <td>C539221</td>\n",
              "      <td>22942</td>\n",
              "      <td>CHRISTMAS LIGHTS 10 SANTAS</td>\n",
              "      <td>-10</td>\n",
              "      <td>12/16/2010 12:56</td>\n",
              "      <td>8.50</td>\n",
              "      <td>14911.0</td>\n",
              "      <td>EIRE</td>\n",
              "      <td>0</td>\n",
              "    </tr>\n",
              "    <tr>\n",
              "      <th>77599</th>\n",
              "      <td>C542744</td>\n",
              "      <td>22700</td>\n",
              "      <td>BLACK AND WHITE DOG BOWL</td>\n",
              "      <td>-10</td>\n",
              "      <td>1/31/2011 16:32</td>\n",
              "      <td>0.85</td>\n",
              "      <td>16191.0</td>\n",
              "      <td>United Kingdom</td>\n",
              "      <td>0</td>\n",
              "    </tr>\n",
              "  </tbody>\n",
              "</table>\n",
              "</div>"
            ],
            "text/plain": [
              "      InvoiceNo StockCode  ...         Country  QuantityCanceled\n",
              "27329   C538530     22630  ...  United Kingdom                 0\n",
              "32870   C539195     22942  ...  United Kingdom                 0\n",
              "33085   C539221     22941  ...            EIRE                 0\n",
              "33086   C539221     22942  ...            EIRE                 0\n",
              "77599   C542744     22700  ...  United Kingdom                 0\n",
              "\n",
              "[5 rows x 9 columns]"
            ]
          },
          "metadata": {},
          "execution_count": 29
        }
      ]
    },
    {
      "cell_type": "markdown",
      "metadata": {
        "id": "rKZEKI4TTmVn"
      },
      "source": [
        "**# Drop the remaining entries**"
      ]
    },
    {
      "cell_type": "code",
      "metadata": {
        "id": "XdF1eKqnToRy"
      },
      "source": [
        "df_cleaned.drop(remaining_entries.index, axis = 0, inplace = True)"
      ],
      "execution_count": 30,
      "outputs": []
    },
    {
      "cell_type": "code",
      "metadata": {
        "colab": {
          "base_uri": "https://localhost:8080/"
        },
        "id": "5P9UOoOcWagt",
        "outputId": "119ad4ad-565d-4bde-9ac6-14927c99d418"
      },
      "source": [
        "df_cleaned.info()"
      ],
      "execution_count": 31,
      "outputs": [
        {
          "output_type": "stream",
          "name": "stdout",
          "text": [
            "<class 'pandas.core.frame.DataFrame'>\n",
            "Int64Index: 392809 entries, 0 to 541908\n",
            "Data columns (total 9 columns):\n",
            " #   Column            Non-Null Count   Dtype  \n",
            "---  ------            --------------   -----  \n",
            " 0   InvoiceNo         392809 non-null  object \n",
            " 1   StockCode         392809 non-null  object \n",
            " 2   Description       392809 non-null  object \n",
            " 3   Quantity          392809 non-null  int64  \n",
            " 4   InvoiceDate       392809 non-null  object \n",
            " 5   UnitPrice         392809 non-null  float64\n",
            " 6   CustomerID        392809 non-null  float64\n",
            " 7   Country           392809 non-null  object \n",
            " 8   QuantityCanceled  392809 non-null  int64  \n",
            "dtypes: float64(2), int64(2), object(5)\n",
            "memory usage: 30.0+ MB\n"
          ]
        }
      ]
    },
    {
      "cell_type": "markdown",
      "metadata": {
        "id": "a5_StkmvUN1e"
      },
      "source": [
        "**Stockcode**"
      ]
    },
    {
      "cell_type": "code",
      "metadata": {
        "colab": {
          "base_uri": "https://localhost:8080/"
        },
        "id": "yza7s5vnab7Y",
        "outputId": "e17114bb-1f7e-4e7b-d9eb-d8f444f4a849"
      },
      "source": [
        "list_special_codes = df_cleaned[df_cleaned['StockCode'].str.contains('^[a-zA-Z]+', regex=True)]['StockCode'].unique()\n",
        "list_special_codes"
      ],
      "execution_count": 32,
      "outputs": [
        {
          "output_type": "execute_result",
          "data": {
            "text/plain": [
              "array(['POST', 'D', 'C2', 'M', 'BANK CHARGES', 'PADS', 'DOT'],\n",
              "      dtype=object)"
            ]
          },
          "metadata": {},
          "execution_count": 32
        }
      ]
    },
    {
      "cell_type": "markdown",
      "metadata": {
        "id": "XwByqtEQVNig"
      },
      "source": [
        "**We found some operations ('POST', 'D', 'C2', 'M', 'BANK CHARGES', 'PADS', 'DOT') that does not characterize the store's customers. So we will just drop these transactions from our database**"
      ]
    },
    {
      "cell_type": "code",
      "metadata": {
        "id": "zXcjGgKWa9rT"
      },
      "source": [
        "df_cleaned = df_cleaned[df_cleaned['StockCode']!= 'POST']\n",
        "df_cleaned = df_cleaned[df_cleaned['StockCode']!= 'D']\n",
        "df_cleaned = df_cleaned[df_cleaned['StockCode']!= 'C2']\n",
        "df_cleaned = df_cleaned[df_cleaned['StockCode']!= 'M']\n",
        "df_cleaned = df_cleaned[df_cleaned['StockCode']!= 'BANK CHARGES']\n",
        "df_cleaned = df_cleaned[df_cleaned['StockCode']!= 'PADS']\n",
        "df_cleaned = df_cleaned[df_cleaned['StockCode']!= 'DOT']"
      ],
      "execution_count": 33,
      "outputs": []
    },
    {
      "cell_type": "code",
      "metadata": {
        "colab": {
          "base_uri": "https://localhost:8080/"
        },
        "id": "cEaKRTuBbflY",
        "outputId": "42c9e2d0-293e-4d6c-a0c4-6990ce4d6fb8"
      },
      "source": [
        "df_cleaned.info()"
      ],
      "execution_count": 34,
      "outputs": [
        {
          "output_type": "stream",
          "name": "stdout",
          "text": [
            "<class 'pandas.core.frame.DataFrame'>\n",
            "Int64Index: 391183 entries, 0 to 541908\n",
            "Data columns (total 9 columns):\n",
            " #   Column            Non-Null Count   Dtype  \n",
            "---  ------            --------------   -----  \n",
            " 0   InvoiceNo         391183 non-null  object \n",
            " 1   StockCode         391183 non-null  object \n",
            " 2   Description       391183 non-null  object \n",
            " 3   Quantity          391183 non-null  int64  \n",
            " 4   InvoiceDate       391183 non-null  object \n",
            " 5   UnitPrice         391183 non-null  float64\n",
            " 6   CustomerID        391183 non-null  float64\n",
            " 7   Country           391183 non-null  object \n",
            " 8   QuantityCanceled  391183 non-null  int64  \n",
            "dtypes: float64(2), int64(2), object(5)\n",
            "memory usage: 29.8+ MB\n"
          ]
        }
      ]
    },
    {
      "cell_type": "markdown",
      "metadata": {
        "id": "vu_L0pUoWbW2"
      },
      "source": [
        "**Feature Engineering**"
      ]
    },
    {
      "cell_type": "code",
      "metadata": {
        "colab": {
          "base_uri": "https://localhost:8080/"
        },
        "id": "yuKrtxrvbv6K",
        "outputId": "c1a433d7-7030-4201-bfa4-c8c6f957617d"
      },
      "source": [
        "def unique_counts(data):\n",
        "   for i in data.columns:\n",
        "       count = data[i].nunique()\n",
        "       print(i, \": \", count)\n",
        "unique_counts(df_cleaned)"
      ],
      "execution_count": 35,
      "outputs": [
        {
          "output_type": "stream",
          "name": "stdout",
          "text": [
            "InvoiceNo :  18405\n",
            "StockCode :  3659\n",
            "Description :  3871\n",
            "Quantity :  300\n",
            "InvoiceDate :  17169\n",
            "UnitPrice :  356\n",
            "CustomerID :  4335\n",
            "Country :  37\n",
            "QuantityCanceled :  115\n"
          ]
        }
      ]
    },
    {
      "cell_type": "markdown",
      "metadata": {
        "id": "lV2YR7_FWk1X"
      },
      "source": [
        "**Total Amount**"
      ]
    },
    {
      "cell_type": "code",
      "metadata": {
        "id": "Qem5JDx6bzdz"
      },
      "source": [
        "# Calculate the Total Amount \n",
        "df_cleaned['TotalAmount'] = df_cleaned['UnitPrice'] * (df_cleaned['Quantity'] - df_cleaned['QuantityCanceled'])"
      ],
      "execution_count": 36,
      "outputs": []
    },
    {
      "cell_type": "markdown",
      "metadata": {
        "id": "qFf2SqvXWwm8"
      },
      "source": [
        "**With the above line of code, we created a new column for the total amount spent for each transaction.**"
      ]
    },
    {
      "cell_type": "code",
      "metadata": {
        "colab": {
          "base_uri": "https://localhost:8080/",
          "height": 719
        },
        "id": "IxCpQdROWft_",
        "outputId": "39deee7a-7637-4018-a802-7fa0d62e42a0"
      },
      "source": [
        "# Total revenue generated per country\n",
        "revenue_per_country = df_cleaned.groupby([\"Country\"])[\"TotalAmount\"].sum().sort_values()\n",
        "revenue_per_country.plot(kind='barh', figsize=(15,12))\n",
        "plt.title(\"Revenue per Country\")"
      ],
      "execution_count": 37,
      "outputs": [
        {
          "output_type": "execute_result",
          "data": {
            "text/plain": [
              "Text(0.5, 1.0, 'Revenue per Country')"
            ]
          },
          "metadata": {},
          "execution_count": 37
        },
        {
          "output_type": "display_data",
          "data": {
            "image/png": "[encoded data removed]",
            "text/plain": [
              "<Figure size 1080x864 with 1 Axes>"
            ]
          },
          "metadata": {
            "needs_background": "light"
          }
        }
      ]
    },
    {
      "cell_type": "markdown",
      "metadata": {
        "id": "Cr5AuV2lXS-L"
      },
      "source": [
        "We can see that the United Kingdom generated the most revenue, with close to 7 million dollars."
      ]
    },
    {
      "cell_type": "code",
      "metadata": {
        "colab": {
          "base_uri": "https://localhost:8080/"
        },
        "id": "R8ySCYmycB_7",
        "outputId": "a90702b6-f201-4c63-9124-e2b158fa00eb"
      },
      "source": [
        "# Normalize the labels\n",
        "le = preprocessing.LabelEncoder()\n",
        "le.fit(df_cleaned['Country'])"
      ],
      "execution_count": 38,
      "outputs": [
        {
          "output_type": "execute_result",
          "data": {
            "text/plain": [
              "LabelEncoder()"
            ]
          },
          "metadata": {},
          "execution_count": 38
        }
      ]
    },
    {
      "cell_type": "code",
      "metadata": {
        "colab": {
          "base_uri": "https://localhost:8080/"
        },
        "id": "Zqf4nPIqcEq8",
        "outputId": "14f8b11a-9e2e-437b-b4c3-77887e3f5a56"
      },
      "source": [
        "le.classes_"
      ],
      "execution_count": 39,
      "outputs": [
        {
          "output_type": "execute_result",
          "data": {
            "text/plain": [
              "array(['Australia', 'Austria', 'Bahrain', 'Belgium', 'Brazil', 'Canada',\n",
              "       'Channel Islands', 'Cyprus', 'Czech Republic', 'Denmark', 'EIRE',\n",
              "       'European Community', 'Finland', 'France', 'Germany', 'Greece',\n",
              "       'Iceland', 'Israel', 'Italy', 'Japan', 'Lebanon', 'Lithuania',\n",
              "       'Malta', 'Netherlands', 'Norway', 'Poland', 'Portugal', 'RSA',\n",
              "       'Saudi Arabia', 'Singapore', 'Spain', 'Sweden', 'Switzerland',\n",
              "       'USA', 'United Arab Emirates', 'United Kingdom', 'Unspecified'],\n",
              "      dtype=object)"
            ]
          },
          "metadata": {},
          "execution_count": 39
        }
      ]
    },
    {
      "cell_type": "code",
      "metadata": {
        "id": "v3Y4kcSqcKXh"
      },
      "source": [
        "df_cleaned['Country'] = le.transform(df_cleaned['Country'])"
      ],
      "execution_count": 40,
      "outputs": []
    },
    {
      "cell_type": "code",
      "metadata": {
        "colab": {
          "base_uri": "https://localhost:8080/",
          "height": 484
        },
        "id": "-4KX1uxecimD",
        "outputId": "03774723-3b53-4c06-9689-95943bbe8552"
      },
      "source": [
        "df_cleaned.head()"
      ],
      "execution_count": 41,
      "outputs": [
        {
          "output_type": "execute_result",
          "data": {
            "text/html": [
              "<div>\n",
              "<style scoped>\n",
              "    .dataframe tbody tr th:only-of-type {\n",
              "        vertical-align: middle;\n",
              "    }\n",
              "\n",
              "    .dataframe tbody tr th {\n",
              "        vertical-align: top;\n",
              "    }\n",
              "\n",
              "    .dataframe thead th {\n",
              "        text-align: right;\n",
              "    }\n",
              "</style>\n",
              "<table border=\"1\" class=\"dataframe\">\n",
              "  <thead>\n",
              "    <tr style=\"text-align: right;\">\n",
              "      <th></th>\n",
              "      <th>InvoiceNo</th>\n",
              "      <th>StockCode</th>\n",
              "      <th>Description</th>\n",
              "      <th>Quantity</th>\n",
              "      <th>InvoiceDate</th>\n",
              "      <th>UnitPrice</th>\n",
              "      <th>CustomerID</th>\n",
              "      <th>Country</th>\n",
              "      <th>QuantityCanceled</th>\n",
              "      <th>TotalAmount</th>\n",
              "    </tr>\n",
              "  </thead>\n",
              "  <tbody>\n",
              "    <tr>\n",
              "      <th>0</th>\n",
              "      <td>536365</td>\n",
              "      <td>85123A</td>\n",
              "      <td>WHITE HANGING HEART T-LIGHT HOLDER</td>\n",
              "      <td>6</td>\n",
              "      <td>12/1/2010 8:26</td>\n",
              "      <td>2.55</td>\n",
              "      <td>17850.0</td>\n",
              "      <td>35</td>\n",
              "      <td>0</td>\n",
              "      <td>15.30</td>\n",
              "    </tr>\n",
              "    <tr>\n",
              "      <th>1</th>\n",
              "      <td>536365</td>\n",
              "      <td>71053</td>\n",
              "      <td>WHITE METAL LANTERN</td>\n",
              "      <td>6</td>\n",
              "      <td>12/1/2010 8:26</td>\n",
              "      <td>3.39</td>\n",
              "      <td>17850.0</td>\n",
              "      <td>35</td>\n",
              "      <td>0</td>\n",
              "      <td>20.34</td>\n",
              "    </tr>\n",
              "    <tr>\n",
              "      <th>2</th>\n",
              "      <td>536365</td>\n",
              "      <td>84406B</td>\n",
              "      <td>CREAM CUPID HEARTS COAT HANGER</td>\n",
              "      <td>8</td>\n",
              "      <td>12/1/2010 8:26</td>\n",
              "      <td>2.75</td>\n",
              "      <td>17850.0</td>\n",
              "      <td>35</td>\n",
              "      <td>0</td>\n",
              "      <td>22.00</td>\n",
              "    </tr>\n",
              "    <tr>\n",
              "      <th>3</th>\n",
              "      <td>536365</td>\n",
              "      <td>84029G</td>\n",
              "      <td>KNITTED UNION FLAG HOT WATER BOTTLE</td>\n",
              "      <td>6</td>\n",
              "      <td>12/1/2010 8:26</td>\n",
              "      <td>3.39</td>\n",
              "      <td>17850.0</td>\n",
              "      <td>35</td>\n",
              "      <td>0</td>\n",
              "      <td>20.34</td>\n",
              "    </tr>\n",
              "    <tr>\n",
              "      <th>4</th>\n",
              "      <td>536365</td>\n",
              "      <td>84029E</td>\n",
              "      <td>RED WOOLLY HOTTIE WHITE HEART.</td>\n",
              "      <td>6</td>\n",
              "      <td>12/1/2010 8:26</td>\n",
              "      <td>3.39</td>\n",
              "      <td>17850.0</td>\n",
              "      <td>35</td>\n",
              "      <td>0</td>\n",
              "      <td>20.34</td>\n",
              "    </tr>\n",
              "  </tbody>\n",
              "</table>\n",
              "</div>"
            ],
            "text/plain": [
              "  InvoiceNo StockCode  ... QuantityCanceled  TotalAmount\n",
              "0    536365    85123A  ...                0        15.30\n",
              "1    536365     71053  ...                0        20.34\n",
              "2    536365    84406B  ...                0        22.00\n",
              "3    536365    84029G  ...                0        20.34\n",
              "4    536365    84029E  ...                0        20.34\n",
              "\n",
              "[5 rows x 10 columns]"
            ]
          },
          "metadata": {},
          "execution_count": 41
        }
      ]
    },
    {
      "cell_type": "markdown",
      "metadata": {
        "id": "-oPXZqFJptrM"
      },
      "source": [
        "### RFM Modeling\n",
        "\n",
        "Here, we will use RFM analysis, which is a customer segmentation technique that groups customers based on their transaction history. \n",
        "\n",
        "RFM stands for Recency, Frequency and Monetary. "
      ]
    },
    {
      "cell_type": "code",
      "metadata": {
        "colab": {
          "base_uri": "https://localhost:8080/",
          "height": 35
        },
        "id": "11Do7XlUcmEi",
        "outputId": "c103017a-057f-403b-d7d8-327a6fe07de7"
      },
      "source": [
        "df_cleaned['InvoiceDate'].min()"
      ],
      "execution_count": 42,
      "outputs": [
        {
          "output_type": "execute_result",
          "data": {
            "application/vnd.google.colaboratory.intrinsic+json": {
              "type": "string"
            },
            "text/plain": [
              "'1/10/2011 10:32'"
            ]
          },
          "metadata": {},
          "execution_count": 42
        }
      ]
    },
    {
      "cell_type": "code",
      "metadata": {
        "colab": {
          "base_uri": "https://localhost:8080/",
          "height": 35
        },
        "id": "f_HNJoH8dUJk",
        "outputId": "61c9abd7-845d-4c59-a823-c9f28c998c6e"
      },
      "source": [
        "df_cleaned['InvoiceDate'].max()"
      ],
      "execution_count": 43,
      "outputs": [
        {
          "output_type": "execute_result",
          "data": {
            "application/vnd.google.colaboratory.intrinsic+json": {
              "type": "string"
            },
            "text/plain": [
              "'9/9/2011 9:52'"
            ]
          },
          "metadata": {},
          "execution_count": 43
        }
      ]
    },
    {
      "cell_type": "code",
      "metadata": {
        "id": "MyYCAr0cdt4D"
      },
      "source": [
        "# Recency = Latest Date - Last Inovice Data\n",
        "# Set latest date to be one day after the last entry in the databse\n",
        "Latest_Date = dt.datetime(2011,12,10)\n",
        "df_cleaned['InvoiceDate'] = pd.to_datetime(df_cleaned['InvoiceDate'])"
      ],
      "execution_count": 44,
      "outputs": []
    },
    {
      "cell_type": "code",
      "metadata": {
        "colab": {
          "base_uri": "https://localhost:8080/",
          "height": 206
        },
        "id": "LbEOcxx9eZB-",
        "outputId": "6beb04b3-b9b5-456f-8b4f-eafecaaa92ed"
      },
      "source": [
        "#Create RFM Modelling scores for each customer\n",
        "RFMScores = df_cleaned.groupby('CustomerID').agg({'InvoiceDate': lambda x: (Latest_Date - x.max()).days, 'InvoiceNo': lambda x: len(x), 'TotalAmount': lambda x: x.sum()})\n",
        "\n",
        "#Convert Invoice Date into type int\n",
        "RFMScores['InvoiceDate'] = RFMScores['InvoiceDate'].astype(int)\n",
        "\n",
        "#Rename column names to Recency, Frequency and Monetary\n",
        "RFMScores.rename(columns={'InvoiceDate': 'Recency', \n",
        "                         'InvoiceNo': 'Frequency', \n",
        "                         'TotalAmount': 'Monetary'}, inplace=True)\n",
        "\n",
        "RFMScores.reset_index().head()"
      ],
      "execution_count": 45,
      "outputs": [
        {
          "output_type": "execute_result",
          "data": {
            "text/html": [
              "<div>\n",
              "<style scoped>\n",
              "    .dataframe tbody tr th:only-of-type {\n",
              "        vertical-align: middle;\n",
              "    }\n",
              "\n",
              "    .dataframe tbody tr th {\n",
              "        vertical-align: top;\n",
              "    }\n",
              "\n",
              "    .dataframe thead th {\n",
              "        text-align: right;\n",
              "    }\n",
              "</style>\n",
              "<table border=\"1\" class=\"dataframe\">\n",
              "  <thead>\n",
              "    <tr style=\"text-align: right;\">\n",
              "      <th></th>\n",
              "      <th>CustomerID</th>\n",
              "      <th>Recency</th>\n",
              "      <th>Frequency</th>\n",
              "      <th>Monetary</th>\n",
              "    </tr>\n",
              "  </thead>\n",
              "  <tbody>\n",
              "    <tr>\n",
              "      <th>0</th>\n",
              "      <td>12346.0</td>\n",
              "      <td>325</td>\n",
              "      <td>1</td>\n",
              "      <td>0.00</td>\n",
              "    </tr>\n",
              "    <tr>\n",
              "      <th>1</th>\n",
              "      <td>12347.0</td>\n",
              "      <td>2</td>\n",
              "      <td>182</td>\n",
              "      <td>4310.00</td>\n",
              "    </tr>\n",
              "    <tr>\n",
              "      <th>2</th>\n",
              "      <td>12348.0</td>\n",
              "      <td>75</td>\n",
              "      <td>27</td>\n",
              "      <td>1437.24</td>\n",
              "    </tr>\n",
              "    <tr>\n",
              "      <th>3</th>\n",
              "      <td>12349.0</td>\n",
              "      <td>18</td>\n",
              "      <td>72</td>\n",
              "      <td>1457.55</td>\n",
              "    </tr>\n",
              "    <tr>\n",
              "      <th>4</th>\n",
              "      <td>12350.0</td>\n",
              "      <td>310</td>\n",
              "      <td>16</td>\n",
              "      <td>294.40</td>\n",
              "    </tr>\n",
              "  </tbody>\n",
              "</table>\n",
              "</div>"
            ],
            "text/plain": [
              "   CustomerID  Recency  Frequency  Monetary\n",
              "0     12346.0      325          1      0.00\n",
              "1     12347.0        2        182   4310.00\n",
              "2     12348.0       75         27   1437.24\n",
              "3     12349.0       18         72   1457.55\n",
              "4     12350.0      310         16    294.40"
            ]
          },
          "metadata": {},
          "execution_count": 45
        }
      ]
    },
    {
      "cell_type": "code",
      "metadata": {
        "colab": {
          "base_uri": "https://localhost:8080/"
        },
        "id": "lUzEf8qyebU7",
        "outputId": "50474eb4-ae93-4470-dd5e-9e1fd192dcb5"
      },
      "source": [
        "quantiles = RFMScores.quantile(q=[0.25,0.5,0.75])\n",
        "quantiles = quantiles.to_dict()\n",
        "quantiles"
      ],
      "execution_count": 46,
      "outputs": [
        {
          "output_type": "execute_result",
          "data": {
            "text/plain": [
              "{'Frequency': {0.25: 17.0, 0.5: 41.0, 0.75: 98.0},\n",
              " 'Monetary': {0.25: 299.655, 0.5: 653.24, 0.75: 1611.6999999999998},\n",
              " 'Recency': {0.25: 17.0, 0.5: 50.0, 0.75: 142.0}}"
            ]
          },
          "metadata": {},
          "execution_count": 46
        }
      ]
    },
    {
      "cell_type": "code",
      "metadata": {
        "id": "RYh3xwKVeewT"
      },
      "source": [
        "segmented_rfm = RFMScores\n",
        "           "
      ],
      "execution_count": 47,
      "outputs": []
    },
    {
      "cell_type": "markdown",
      "metadata": {
        "id": "rYcVTXO7akeZ"
      },
      "source": [
        ""
      ]
    },
    {
      "cell_type": "code",
      "metadata": {
        "id": "KsJtmOBneg8R"
      },
      "source": [
        "# Functions to create R, F and M segments\n",
        "def RScore(x,p,d):\n",
        "    if x <= d[p][0.25]:\n",
        "        return 1\n",
        "    elif x <= d[p][0.50]:\n",
        "        return 2\n",
        "    elif x <= d[p][0.75]: \n",
        "        return 3\n",
        "    else:\n",
        "        return 4\n",
        "    \n",
        "def FMScore(x,p,d):\n",
        "    if x <= d[p][0.25]:\n",
        "        return 4\n",
        "    elif x <= d[p][0.50]:\n",
        "        return 3\n",
        "    elif x <= d[p][0.75]: \n",
        "        return 2\n",
        "    else:\n",
        "        return 1"
      ],
      "execution_count": 48,
      "outputs": []
    },
    {
      "cell_type": "markdown",
      "metadata": {
        "id": "2BfaPikCapHy"
      },
      "source": [
        "Apply a score on each feature of RFM."
      ]
    },
    {
      "cell_type": "code",
      "metadata": {
        "colab": {
          "base_uri": "https://localhost:8080/",
          "height": 238
        },
        "id": "keChUJ2qfIXl",
        "outputId": "996b04d0-10da-474f-9df3-f1d5e63f8d7f"
      },
      "source": [
        "segmented_rfm['r_quartile'] = segmented_rfm['Recency'].apply(RScore, args=('Recency',quantiles,))\n",
        "segmented_rfm['f_quartile'] = segmented_rfm['Frequency'].apply(FMScore, args=('Recency',quantiles,))\n",
        "segmented_rfm['m_quartile'] = segmented_rfm['Monetary'].apply(FMScore, args=('Recency',quantiles,))\n",
        "segmented_rfm.head()"
      ],
      "execution_count": 49,
      "outputs": [
        {
          "output_type": "execute_result",
          "data": {
            "text/html": [
              "<div>\n",
              "<style scoped>\n",
              "    .dataframe tbody tr th:only-of-type {\n",
              "        vertical-align: middle;\n",
              "    }\n",
              "\n",
              "    .dataframe tbody tr th {\n",
              "        vertical-align: top;\n",
              "    }\n",
              "\n",
              "    .dataframe thead th {\n",
              "        text-align: right;\n",
              "    }\n",
              "</style>\n",
              "<table border=\"1\" class=\"dataframe\">\n",
              "  <thead>\n",
              "    <tr style=\"text-align: right;\">\n",
              "      <th></th>\n",
              "      <th>Recency</th>\n",
              "      <th>Frequency</th>\n",
              "      <th>Monetary</th>\n",
              "      <th>r_quartile</th>\n",
              "      <th>f_quartile</th>\n",
              "      <th>m_quartile</th>\n",
              "    </tr>\n",
              "    <tr>\n",
              "      <th>CustomerID</th>\n",
              "      <th></th>\n",
              "      <th></th>\n",
              "      <th></th>\n",
              "      <th></th>\n",
              "      <th></th>\n",
              "      <th></th>\n",
              "    </tr>\n",
              "  </thead>\n",
              "  <tbody>\n",
              "    <tr>\n",
              "      <th>12346.0</th>\n",
              "      <td>325</td>\n",
              "      <td>1</td>\n",
              "      <td>0.00</td>\n",
              "      <td>4</td>\n",
              "      <td>4</td>\n",
              "      <td>4</td>\n",
              "    </tr>\n",
              "    <tr>\n",
              "      <th>12347.0</th>\n",
              "      <td>2</td>\n",
              "      <td>182</td>\n",
              "      <td>4310.00</td>\n",
              "      <td>1</td>\n",
              "      <td>1</td>\n",
              "      <td>1</td>\n",
              "    </tr>\n",
              "    <tr>\n",
              "      <th>12348.0</th>\n",
              "      <td>75</td>\n",
              "      <td>27</td>\n",
              "      <td>1437.24</td>\n",
              "      <td>3</td>\n",
              "      <td>3</td>\n",
              "      <td>1</td>\n",
              "    </tr>\n",
              "    <tr>\n",
              "      <th>12349.0</th>\n",
              "      <td>18</td>\n",
              "      <td>72</td>\n",
              "      <td>1457.55</td>\n",
              "      <td>2</td>\n",
              "      <td>2</td>\n",
              "      <td>1</td>\n",
              "    </tr>\n",
              "    <tr>\n",
              "      <th>12350.0</th>\n",
              "      <td>310</td>\n",
              "      <td>16</td>\n",
              "      <td>294.40</td>\n",
              "      <td>4</td>\n",
              "      <td>4</td>\n",
              "      <td>1</td>\n",
              "    </tr>\n",
              "  </tbody>\n",
              "</table>\n",
              "</div>"
            ],
            "text/plain": [
              "            Recency  Frequency  Monetary  r_quartile  f_quartile  m_quartile\n",
              "CustomerID                                                                  \n",
              "12346.0         325          1      0.00           4           4           4\n",
              "12347.0           2        182   4310.00           1           1           1\n",
              "12348.0          75         27   1437.24           3           3           1\n",
              "12349.0          18         72   1457.55           2           2           1\n",
              "12350.0         310         16    294.40           4           4           1"
            ]
          },
          "metadata": {},
          "execution_count": 49
        }
      ]
    },
    {
      "cell_type": "markdown",
      "metadata": {
        "id": "DE5Jis3Zax98"
      },
      "source": [
        "**Finally we'll set a score for each customer in the database.**"
      ]
    },
    {
      "cell_type": "code",
      "metadata": {
        "colab": {
          "base_uri": "https://localhost:8080/",
          "height": 238
        },
        "id": "wj2eeaPtfKpl",
        "outputId": "adea921a-1362-4e12-a3b7-0a909a5f9d82"
      },
      "source": [
        "segmented_rfm['RFMScore'] = segmented_rfm.r_quartile.map(str) + segmented_rfm.f_quartile.map(str) + segmented_rfm.m_quartile.map(str)\n",
        "segmented_rfm.head()"
      ],
      "execution_count": 50,
      "outputs": [
        {
          "output_type": "execute_result",
          "data": {
            "text/html": [
              "<div>\n",
              "<style scoped>\n",
              "    .dataframe tbody tr th:only-of-type {\n",
              "        vertical-align: middle;\n",
              "    }\n",
              "\n",
              "    .dataframe tbody tr th {\n",
              "        vertical-align: top;\n",
              "    }\n",
              "\n",
              "    .dataframe thead th {\n",
              "        text-align: right;\n",
              "    }\n",
              "</style>\n",
              "<table border=\"1\" class=\"dataframe\">\n",
              "  <thead>\n",
              "    <tr style=\"text-align: right;\">\n",
              "      <th></th>\n",
              "      <th>Recency</th>\n",
              "      <th>Frequency</th>\n",
              "      <th>Monetary</th>\n",
              "      <th>r_quartile</th>\n",
              "      <th>f_quartile</th>\n",
              "      <th>m_quartile</th>\n",
              "      <th>RFMScore</th>\n",
              "    </tr>\n",
              "    <tr>\n",
              "      <th>CustomerID</th>\n",
              "      <th></th>\n",
              "      <th></th>\n",
              "      <th></th>\n",
              "      <th></th>\n",
              "      <th></th>\n",
              "      <th></th>\n",
              "      <th></th>\n",
              "    </tr>\n",
              "  </thead>\n",
              "  <tbody>\n",
              "    <tr>\n",
              "      <th>12346.0</th>\n",
              "      <td>325</td>\n",
              "      <td>1</td>\n",
              "      <td>0.00</td>\n",
              "      <td>4</td>\n",
              "      <td>4</td>\n",
              "      <td>4</td>\n",
              "      <td>444</td>\n",
              "    </tr>\n",
              "    <tr>\n",
              "      <th>12347.0</th>\n",
              "      <td>2</td>\n",
              "      <td>182</td>\n",
              "      <td>4310.00</td>\n",
              "      <td>1</td>\n",
              "      <td>1</td>\n",
              "      <td>1</td>\n",
              "      <td>111</td>\n",
              "    </tr>\n",
              "    <tr>\n",
              "      <th>12348.0</th>\n",
              "      <td>75</td>\n",
              "      <td>27</td>\n",
              "      <td>1437.24</td>\n",
              "      <td>3</td>\n",
              "      <td>3</td>\n",
              "      <td>1</td>\n",
              "      <td>331</td>\n",
              "    </tr>\n",
              "    <tr>\n",
              "      <th>12349.0</th>\n",
              "      <td>18</td>\n",
              "      <td>72</td>\n",
              "      <td>1457.55</td>\n",
              "      <td>2</td>\n",
              "      <td>2</td>\n",
              "      <td>1</td>\n",
              "      <td>221</td>\n",
              "    </tr>\n",
              "    <tr>\n",
              "      <th>12350.0</th>\n",
              "      <td>310</td>\n",
              "      <td>16</td>\n",
              "      <td>294.40</td>\n",
              "      <td>4</td>\n",
              "      <td>4</td>\n",
              "      <td>1</td>\n",
              "      <td>441</td>\n",
              "    </tr>\n",
              "  </tbody>\n",
              "</table>\n",
              "</div>"
            ],
            "text/plain": [
              "            Recency  Frequency  Monetary  ...  f_quartile  m_quartile  RFMScore\n",
              "CustomerID                                ...                                  \n",
              "12346.0         325          1      0.00  ...           4           4       444\n",
              "12347.0           2        182   4310.00  ...           1           1       111\n",
              "12348.0          75         27   1437.24  ...           3           1       331\n",
              "12349.0          18         72   1457.55  ...           2           1       221\n",
              "12350.0         310         16    294.40  ...           4           1       441\n",
              "\n",
              "[5 rows x 7 columns]"
            ]
          },
          "metadata": {},
          "execution_count": 50
        }
      ]
    },
    {
      "cell_type": "code",
      "metadata": {
        "id": "eCjU9rwVfpFt"
      },
      "source": [
        "segmented_rfm = segmented_rfm.reset_index()"
      ],
      "execution_count": 51,
      "outputs": []
    },
    {
      "cell_type": "code",
      "metadata": {
        "colab": {
          "base_uri": "https://localhost:8080/",
          "height": 206
        },
        "id": "cP3fZrPYfON3",
        "outputId": "faa62d64-6a0d-4ed6-ca7b-79160c304b2c"
      },
      "source": [
        "segmented_rfm.head()"
      ],
      "execution_count": 52,
      "outputs": [
        {
          "output_type": "execute_result",
          "data": {
            "text/html": [
              "<div>\n",
              "<style scoped>\n",
              "    .dataframe tbody tr th:only-of-type {\n",
              "        vertical-align: middle;\n",
              "    }\n",
              "\n",
              "    .dataframe tbody tr th {\n",
              "        vertical-align: top;\n",
              "    }\n",
              "\n",
              "    .dataframe thead th {\n",
              "        text-align: right;\n",
              "    }\n",
              "</style>\n",
              "<table border=\"1\" class=\"dataframe\">\n",
              "  <thead>\n",
              "    <tr style=\"text-align: right;\">\n",
              "      <th></th>\n",
              "      <th>CustomerID</th>\n",
              "      <th>Recency</th>\n",
              "      <th>Frequency</th>\n",
              "      <th>Monetary</th>\n",
              "      <th>r_quartile</th>\n",
              "      <th>f_quartile</th>\n",
              "      <th>m_quartile</th>\n",
              "      <th>RFMScore</th>\n",
              "    </tr>\n",
              "  </thead>\n",
              "  <tbody>\n",
              "    <tr>\n",
              "      <th>0</th>\n",
              "      <td>12346.0</td>\n",
              "      <td>325</td>\n",
              "      <td>1</td>\n",
              "      <td>0.00</td>\n",
              "      <td>4</td>\n",
              "      <td>4</td>\n",
              "      <td>4</td>\n",
              "      <td>444</td>\n",
              "    </tr>\n",
              "    <tr>\n",
              "      <th>1</th>\n",
              "      <td>12347.0</td>\n",
              "      <td>2</td>\n",
              "      <td>182</td>\n",
              "      <td>4310.00</td>\n",
              "      <td>1</td>\n",
              "      <td>1</td>\n",
              "      <td>1</td>\n",
              "      <td>111</td>\n",
              "    </tr>\n",
              "    <tr>\n",
              "      <th>2</th>\n",
              "      <td>12348.0</td>\n",
              "      <td>75</td>\n",
              "      <td>27</td>\n",
              "      <td>1437.24</td>\n",
              "      <td>3</td>\n",
              "      <td>3</td>\n",
              "      <td>1</td>\n",
              "      <td>331</td>\n",
              "    </tr>\n",
              "    <tr>\n",
              "      <th>3</th>\n",
              "      <td>12349.0</td>\n",
              "      <td>18</td>\n",
              "      <td>72</td>\n",
              "      <td>1457.55</td>\n",
              "      <td>2</td>\n",
              "      <td>2</td>\n",
              "      <td>1</td>\n",
              "      <td>221</td>\n",
              "    </tr>\n",
              "    <tr>\n",
              "      <th>4</th>\n",
              "      <td>12350.0</td>\n",
              "      <td>310</td>\n",
              "      <td>16</td>\n",
              "      <td>294.40</td>\n",
              "      <td>4</td>\n",
              "      <td>4</td>\n",
              "      <td>1</td>\n",
              "      <td>441</td>\n",
              "    </tr>\n",
              "  </tbody>\n",
              "</table>\n",
              "</div>"
            ],
            "text/plain": [
              "   CustomerID  Recency  Frequency  ...  f_quartile  m_quartile  RFMScore\n",
              "0     12346.0      325          1  ...           4           4       444\n",
              "1     12347.0        2        182  ...           1           1       111\n",
              "2     12348.0       75         27  ...           3           1       331\n",
              "3     12349.0       18         72  ...           2           1       221\n",
              "4     12350.0      310         16  ...           4           1       441\n",
              "\n",
              "[5 rows x 8 columns]"
            ]
          },
          "metadata": {},
          "execution_count": 52
        }
      ]
    },
    {
      "cell_type": "code",
      "metadata": {
        "id": "HJlgDrItfRic"
      },
      "source": [
        "df_cleaned = pd.merge(df_cleaned,segmented_rfm, on='CustomerID')"
      ],
      "execution_count": 53,
      "outputs": []
    },
    {
      "cell_type": "code",
      "metadata": {
        "colab": {
          "base_uri": "https://localhost:8080/"
        },
        "id": "FsTx_KGoficF",
        "outputId": "569fea0e-d86f-4d60-b73b-016b8f1d19c1"
      },
      "source": [
        "df_cleaned.columns"
      ],
      "execution_count": 54,
      "outputs": [
        {
          "output_type": "execute_result",
          "data": {
            "text/plain": [
              "Index(['InvoiceNo', 'StockCode', 'Description', 'Quantity', 'InvoiceDate',\n",
              "       'UnitPrice', 'CustomerID', 'Country', 'QuantityCanceled', 'TotalAmount',\n",
              "       'Recency', 'Frequency', 'Monetary', 'r_quartile', 'f_quartile',\n",
              "       'm_quartile', 'RFMScore'],\n",
              "      dtype='object')"
            ]
          },
          "metadata": {},
          "execution_count": 54
        }
      ]
    },
    {
      "cell_type": "code",
      "metadata": {
        "id": "sqrSf65obMfV"
      },
      "source": [
        "#We don't need the quartiles anymore, so we'd drop them\n",
        "df_cleaned = df_cleaned.drop(columns=['r_quartile', 'f_quartile', 'm_quartile'])"
      ],
      "execution_count": 55,
      "outputs": []
    },
    {
      "cell_type": "markdown",
      "metadata": {
        "id": "c-JiQ1xXbaFd"
      },
      "source": [
        "Product categories\n",
        "\n",
        "In the dataframe, products are uniquely identified through the StockCode variable. A shrort description of the products is given in the Description variable. Let's group the products into different categories. **bold text**"
      ]
    },
    {
      "cell_type": "code",
      "metadata": {
        "colab": {
          "base_uri": "https://localhost:8080/"
        },
        "id": "Hoq2KXJXbT1c",
        "outputId": "4db91a37-e9e8-4581-ec13-771fd93410a9"
      },
      "source": [
        "import nltk\n",
        "nltk.download('stopwords')\n",
        "X = df_cleaned[\"Description\"].unique()\n",
        "\n",
        "stemmer = nltk.stem.porter.PorterStemmer()\n",
        "stopword = nltk.corpus.stopwords.words('english')\n",
        "\n",
        "def stem_and_filter(doc):\n",
        "    tokens = [stemmer.stem(w) for w in analyzer(doc)]\n",
        "    return [token for token in tokens if token.isalpha()]\n",
        "\n",
        "analyzer = TfidfVectorizer().build_analyzer()\n",
        "CV = TfidfVectorizer(lowercase=True, stop_words=\"english\", analyzer=stem_and_filter, min_df=0.00, max_df=0.3)  # we remove words if it appears in more than 30 % of the corpus (not found stopwords like Box, Christmas and so on)\n",
        "TF_IDF_matrix = CV.fit_transform(X)\n",
        "print(\"TF_IDF_matrix :\", TF_IDF_matrix.shape, \"of\", TF_IDF_matrix.dtype)"
      ],
      "execution_count": 56,
      "outputs": [
        {
          "output_type": "stream",
          "name": "stdout",
          "text": [
            "[nltk_data] Downloading package stopwords to /root/nltk_data...\n",
            "[nltk_data]   Package stopwords is already up-to-date!\n",
            "TF_IDF_matrix : (3871, 1694) of float64\n"
          ]
        }
      ]
    },
    {
      "cell_type": "code",
      "metadata": {
        "colab": {
          "base_uri": "https://localhost:8080/"
        },
        "id": "DzcAkXrpbfFC",
        "outputId": "8b8304f6-39a3-4e1d-d9c7-7e7f61413614"
      },
      "source": [
        "svd = TruncatedSVD(n_components = 100)\n",
        "normalizer = Normalizer(copy=False)\n",
        "\n",
        "TF_IDF_embedded = svd.fit_transform(TF_IDF_matrix)\n",
        "TF_IDF_embedded = normalizer.fit_transform(TF_IDF_embedded)\n",
        "print(\"TF_IDF_embedded :\", TF_IDF_embedded.shape, \"of\", TF_IDF_embedded.dtype)"
      ],
      "execution_count": 57,
      "outputs": [
        {
          "output_type": "stream",
          "name": "stdout",
          "text": [
            "TF_IDF_embedded : (3871, 100) of float64\n"
          ]
        }
      ]
    },
    {
      "cell_type": "markdown",
      "metadata": {
        "id": "iUUB6I33caZA"
      },
      "source": [
        "**Model Building**"
      ]
    },
    {
      "cell_type": "markdown",
      "metadata": {
        "id": "N0flkcwacl80"
      },
      "source": [
        "**In order to define (approximately) the number of clusters that best represents the data, we would use the silhouette score:**"
      ]
    },
    {
      "cell_type": "code",
      "metadata": {
        "id": "uyuTNDFDb5Pc"
      },
      "source": [
        "score_tfidf = []\n",
        "\n",
        "x = list(range(5, 155, 10))\n",
        "\n",
        "for n_clusters in x:\n",
        "    kmeans = KMeans(init='k-means++', n_clusters = n_clusters, n_init=10)\n",
        "    kmeans.fit(TF_IDF_embedded)\n",
        "    clusters = kmeans.predict(TF_IDF_embedded)\n",
        "    silhouette_avg = silhouette_score(TF_IDF_embedded, clusters)\n",
        "\n",
        "    rep = np.histogram(clusters, bins = n_clusters-1)[0]\n",
        "    score_tfidf.append(silhouette_avg)"
      ],
      "execution_count": 58,
      "outputs": []
    },
    {
      "cell_type": "code",
      "metadata": {
        "colab": {
          "base_uri": "https://localhost:8080/",
          "height": 394
        },
        "id": "7cK_pImwchRY",
        "outputId": "7cd6d659-1c6a-4d1e-ad8b-fa2129d08353"
      },
      "source": [
        "plt.figure(figsize=(20,16))\n",
        "\n",
        "plt.subplot(2, 1, 1)\n",
        "plt.plot(x, score_tfidf, label=\"TF-IDF matrix\")\n",
        "plt.title(\"Evolution of the Silhouette Score\")\n",
        "plt.legend()"
      ],
      "execution_count": 59,
      "outputs": [
        {
          "output_type": "execute_result",
          "data": {
            "text/plain": [
              "<matplotlib.legend.Legend at 0x7f5c2d692450>"
            ]
          },
          "metadata": {},
          "execution_count": 59
        },
        {
          "output_type": "display_data",
          "data": {
            "image/png": "[encoded data removed]",
            "text/plain": [
              "<Figure size 1440x1152 with 1 Axes>"
            ]
          },
          "metadata": {
            "needs_background": "light"
          }
        }
      ]
    },
    {
      "cell_type": "markdown",
      "metadata": {
        "id": "2b9rMkpfckiR"
      },
      "source": [
        "The highest value for the silhouette score is when there are 150 clusters. So we'll choose this value"
      ]
    },
    {
      "cell_type": "code",
      "metadata": {
        "colab": {
          "base_uri": "https://localhost:8080/",
          "height": 629
        },
        "id": "1zhHOGkBdCUS",
        "outputId": "cc92443e-57c3-4dff-beca-7404c0275662"
      },
      "source": [
        "n_clusters = 150\n",
        "\n",
        "kmeans = KMeans(init='k-means++', n_clusters = n_clusters, n_init=30, random_state=0)\n",
        "proj = kmeans.fit_transform(TF_IDF_embedded)\n",
        "clusters = kmeans.predict(TF_IDF_embedded)\n",
        "plt.figure(figsize=(10,10))\n",
        "plt.scatter(proj[:,0], proj[:,1], c=clusters)\n",
        "plt.title(\"ACP with 135 clusters\", fontsize=\"20\")"
      ],
      "execution_count": 60,
      "outputs": [
        {
          "output_type": "execute_result",
          "data": {
            "text/plain": [
              "Text(0.5, 1.0, 'ACP with 135 clusters')"
            ]
          },
          "metadata": {},
          "execution_count": 60
        },
        {
          "output_type": "display_data",
          "data": {
            "image/png": "[encoded data removed]",
            "text/plain": [
              "<Figure size 720x720 with 1 Axes>"
            ]
          },
          "metadata": {
            "needs_background": "light"
          }
        }
      ]
    },
    {
      "cell_type": "code",
      "metadata": {
        "colab": {
          "base_uri": "https://localhost:8080/",
          "height": 768
        },
        "id": "rTw5yIXadGVD",
        "outputId": "17a42e47-def8-436b-d6ac-9ae8b09c0b6b"
      },
      "source": [
        "tsne = TSNE(n_components=2)\n",
        "proj = tsne.fit_transform(TF_IDF_embedded)\n",
        "\n",
        "plt.figure(figsize=(10,10))\n",
        "plt.scatter(proj[:,0], proj[:,1], c=clusters)\n",
        "plt.title(\"Visualization of the clustering with TSNE\", fontsize=\"20\")"
      ],
      "execution_count": 61,
      "outputs": [
        {
          "output_type": "stream",
          "name": "stderr",
          "text": [
            "/usr/local/lib/python3.7/dist-packages/sklearn/manifold/_t_sne.py:783: FutureWarning:\n",
            "\n",
            "The default initialization in TSNE will change from 'random' to 'pca' in 1.2.\n",
            "\n",
            "/usr/local/lib/python3.7/dist-packages/sklearn/manifold/_t_sne.py:793: FutureWarning:\n",
            "\n",
            "The default learning rate in TSNE will change from 200.0 to 'auto' in 1.2.\n",
            "\n"
          ]
        },
        {
          "output_type": "execute_result",
          "data": {
            "text/plain": [
              "Text(0.5, 1.0, 'Visualization of the clustering with TSNE')"
            ]
          },
          "metadata": {},
          "execution_count": 61
        },
        {
          "output_type": "display_data",
          "data": {
            "image/png": "[encoded data removed]",
            "text/plain": [
              "<Figure size 720x720 with 1 Axes>"
            ]
          },
          "metadata": {
            "needs_background": "light"
          }
        }
      ]
    },
    {
      "cell_type": "markdown",
      "metadata": {
        "id": "dWAipEtWePxM"
      },
      "source": [
        "\n",
        "Customer categories"
      ]
    },
    {
      "cell_type": "code",
      "metadata": {
        "id": "RPGOW5WQdXxJ"
      },
      "source": [
        "#Grouped by invoices\n",
        "\n",
        "dict_article_to_cluster = {article : cluster for article, cluster in zip(X, clusters)}\n",
        "cluster = df_cleaned['Description'].apply(lambda x : dict_article_to_cluster[x])\n",
        "df2 = pd.get_dummies(cluster, prefix=\"Cluster\").mul(df_cleaned[\"TotalAmount\"], 0)\n",
        "df2 = pd.concat([df_cleaned['InvoiceNo'], df2], axis=1)\n",
        "df2_grouped = df2.groupby('InvoiceNo').sum()"
      ],
      "execution_count": 62,
      "outputs": []
    },
    {
      "cell_type": "code",
      "metadata": {
        "id": "dOJZT9HfeeWW"
      },
      "source": [
        "custom_aggregation = {}\n",
        "custom_aggregation[\"TotalAmount\"] = lambda x:x.iloc[0]\n",
        "custom_aggregation[\"Recency\"] = lambda x:x.iloc[0]\n",
        "custom_aggregation[\"Frequency\"] = lambda x:x.iloc[0]\n",
        "custom_aggregation[\"Monetary\"] = lambda x:x.iloc[0]\n",
        "custom_aggregation[\"CustomerID\"] = lambda x:x.iloc[0]\n",
        "custom_aggregation[\"Quantity\"] = \"sum\"\n",
        "custom_aggregation[\"Country\"] = lambda x:x.iloc[0]\n",
        "\n",
        "df_grouped = df_cleaned.groupby(\"InvoiceNo\").agg(custom_aggregation)"
      ],
      "execution_count": 63,
      "outputs": []
    },
    {
      "cell_type": "code",
      "metadata": {
        "id": "zDuV7WMPeuEt"
      },
      "source": [
        "#Grouped by Customers\n",
        "\n",
        "df2_grouped_final = pd.concat([df_grouped['CustomerID'], df2_grouped], axis=1).set_index(\"CustomerID\").groupby(\"CustomerID\").sum()\n",
        "df2_grouped_final = df2_grouped_final.div(df2_grouped_final.sum(axis=1), axis=0)\n",
        "df2_grouped_final = df2_grouped_final.fillna(0)"
      ],
      "execution_count": 64,
      "outputs": []
    },
    {
      "cell_type": "code",
      "metadata": {
        "id": "pvULi3lfez-k"
      },
      "source": [
        "custom_aggregation = {}\n",
        "custom_aggregation[\"TotalAmount\"] = ['min','max','mean']\n",
        "custom_aggregation[\"Recency\"] = lambda x:x.iloc[0]\n",
        "custom_aggregation[\"Frequency\"] = lambda x:x.iloc[0]\n",
        "custom_aggregation[\"Monetary\"] = lambda x:x.iloc[0]\n",
        "custom_aggregation[\"Quantity\"] = \"sum\"\n",
        "custom_aggregation[\"Country\"] = lambda x:x.iloc[0]\n",
        "\n",
        "df_grouped_final = df_grouped.groupby(\"CustomerID\").agg(custom_aggregation)"
      ],
      "execution_count": 65,
      "outputs": []
    },
    {
      "cell_type": "code",
      "metadata": {
        "colab": {
          "base_uri": "https://localhost:8080/",
          "height": 269
        },
        "id": "L1RIh7RUe2jI",
        "outputId": "dff1e6ed-b924-45cc-b19c-9a368ae29aca"
      },
      "source": [
        "df_grouped_final.head()"
      ],
      "execution_count": 66,
      "outputs": [
        {
          "output_type": "execute_result",
          "data": {
            "text/html": [
              "<div>\n",
              "<style scoped>\n",
              "    .dataframe tbody tr th:only-of-type {\n",
              "        vertical-align: middle;\n",
              "    }\n",
              "\n",
              "    .dataframe tbody tr th {\n",
              "        vertical-align: top;\n",
              "    }\n",
              "\n",
              "    .dataframe thead tr th {\n",
              "        text-align: left;\n",
              "    }\n",
              "\n",
              "    .dataframe thead tr:last-of-type th {\n",
              "        text-align: right;\n",
              "    }\n",
              "</style>\n",
              "<table border=\"1\" class=\"dataframe\">\n",
              "  <thead>\n",
              "    <tr>\n",
              "      <th></th>\n",
              "      <th colspan=\"3\" halign=\"left\">TotalAmount</th>\n",
              "      <th>Recency</th>\n",
              "      <th>Frequency</th>\n",
              "      <th>Monetary</th>\n",
              "      <th>Quantity</th>\n",
              "      <th>Country</th>\n",
              "    </tr>\n",
              "    <tr>\n",
              "      <th></th>\n",
              "      <th>min</th>\n",
              "      <th>max</th>\n",
              "      <th>mean</th>\n",
              "      <th>&lt;lambda&gt;</th>\n",
              "      <th>&lt;lambda&gt;</th>\n",
              "      <th>&lt;lambda&gt;</th>\n",
              "      <th>sum</th>\n",
              "      <th>&lt;lambda&gt;</th>\n",
              "    </tr>\n",
              "    <tr>\n",
              "      <th>CustomerID</th>\n",
              "      <th></th>\n",
              "      <th></th>\n",
              "      <th></th>\n",
              "      <th></th>\n",
              "      <th></th>\n",
              "      <th></th>\n",
              "      <th></th>\n",
              "      <th></th>\n",
              "    </tr>\n",
              "  </thead>\n",
              "  <tbody>\n",
              "    <tr>\n",
              "      <th>12346.0</th>\n",
              "      <td>0.0</td>\n",
              "      <td>0.0</td>\n",
              "      <td>0.000000</td>\n",
              "      <td>325</td>\n",
              "      <td>1</td>\n",
              "      <td>0.00</td>\n",
              "      <td>74215</td>\n",
              "      <td>35</td>\n",
              "    </tr>\n",
              "    <tr>\n",
              "      <th>12347.0</th>\n",
              "      <td>13.2</td>\n",
              "      <td>45.0</td>\n",
              "      <td>23.308571</td>\n",
              "      <td>2</td>\n",
              "      <td>182</td>\n",
              "      <td>4310.00</td>\n",
              "      <td>2458</td>\n",
              "      <td>16</td>\n",
              "    </tr>\n",
              "    <tr>\n",
              "      <th>12348.0</th>\n",
              "      <td>39.6</td>\n",
              "      <td>150.0</td>\n",
              "      <td>82.840000</td>\n",
              "      <td>75</td>\n",
              "      <td>27</td>\n",
              "      <td>1437.24</td>\n",
              "      <td>2332</td>\n",
              "      <td>12</td>\n",
              "    </tr>\n",
              "    <tr>\n",
              "      <th>12349.0</th>\n",
              "      <td>15.0</td>\n",
              "      <td>15.0</td>\n",
              "      <td>15.000000</td>\n",
              "      <td>18</td>\n",
              "      <td>72</td>\n",
              "      <td>1457.55</td>\n",
              "      <td>630</td>\n",
              "      <td>18</td>\n",
              "    </tr>\n",
              "    <tr>\n",
              "      <th>12350.0</th>\n",
              "      <td>25.2</td>\n",
              "      <td>25.2</td>\n",
              "      <td>25.200000</td>\n",
              "      <td>310</td>\n",
              "      <td>16</td>\n",
              "      <td>294.40</td>\n",
              "      <td>196</td>\n",
              "      <td>24</td>\n",
              "    </tr>\n",
              "  </tbody>\n",
              "</table>\n",
              "</div>"
            ],
            "text/plain": [
              "           TotalAmount                    ... Monetary Quantity  Country\n",
              "                   min    max       mean  ... <lambda>      sum <lambda>\n",
              "CustomerID                                ...                           \n",
              "12346.0            0.0    0.0   0.000000  ...     0.00    74215       35\n",
              "12347.0           13.2   45.0  23.308571  ...  4310.00     2458       16\n",
              "12348.0           39.6  150.0  82.840000  ...  1437.24     2332       12\n",
              "12349.0           15.0   15.0  15.000000  ...  1457.55      630       18\n",
              "12350.0           25.2   25.2  25.200000  ...   294.40      196       24\n",
              "\n",
              "[5 rows x 8 columns]"
            ]
          },
          "metadata": {},
          "execution_count": 66
        }
      ]
    },
    {
      "cell_type": "code",
      "metadata": {
        "colab": {
          "base_uri": "https://localhost:8080/",
          "height": 238
        },
        "id": "el3qZxZNe41_",
        "outputId": "621b741c-f115-42eb-a9f1-b2c7bbd9d4e3"
      },
      "source": [
        "df_grouped_final.columns = [\"min\", \"max\", \"mean\", \"Recency\", \"Frequency\", \"Monetary\", \"Quantity\", \"Country\"]\n",
        "df_grouped_final.head()"
      ],
      "execution_count": 67,
      "outputs": [
        {
          "output_type": "execute_result",
          "data": {
            "text/html": [
              "<div>\n",
              "<style scoped>\n",
              "    .dataframe tbody tr th:only-of-type {\n",
              "        vertical-align: middle;\n",
              "    }\n",
              "\n",
              "    .dataframe tbody tr th {\n",
              "        vertical-align: top;\n",
              "    }\n",
              "\n",
              "    .dataframe thead th {\n",
              "        text-align: right;\n",
              "    }\n",
              "</style>\n",
              "<table border=\"1\" class=\"dataframe\">\n",
              "  <thead>\n",
              "    <tr style=\"text-align: right;\">\n",
              "      <th></th>\n",
              "      <th>min</th>\n",
              "      <th>max</th>\n",
              "      <th>mean</th>\n",
              "      <th>Recency</th>\n",
              "      <th>Frequency</th>\n",
              "      <th>Monetary</th>\n",
              "      <th>Quantity</th>\n",
              "      <th>Country</th>\n",
              "    </tr>\n",
              "    <tr>\n",
              "      <th>CustomerID</th>\n",
              "      <th></th>\n",
              "      <th></th>\n",
              "      <th></th>\n",
              "      <th></th>\n",
              "      <th></th>\n",
              "      <th></th>\n",
              "      <th></th>\n",
              "      <th></th>\n",
              "    </tr>\n",
              "  </thead>\n",
              "  <tbody>\n",
              "    <tr>\n",
              "      <th>12346.0</th>\n",
              "      <td>0.0</td>\n",
              "      <td>0.0</td>\n",
              "      <td>0.000000</td>\n",
              "      <td>325</td>\n",
              "      <td>1</td>\n",
              "      <td>0.00</td>\n",
              "      <td>74215</td>\n",
              "      <td>35</td>\n",
              "    </tr>\n",
              "    <tr>\n",
              "      <th>12347.0</th>\n",
              "      <td>13.2</td>\n",
              "      <td>45.0</td>\n",
              "      <td>23.308571</td>\n",
              "      <td>2</td>\n",
              "      <td>182</td>\n",
              "      <td>4310.00</td>\n",
              "      <td>2458</td>\n",
              "      <td>16</td>\n",
              "    </tr>\n",
              "    <tr>\n",
              "      <th>12348.0</th>\n",
              "      <td>39.6</td>\n",
              "      <td>150.0</td>\n",
              "      <td>82.840000</td>\n",
              "      <td>75</td>\n",
              "      <td>27</td>\n",
              "      <td>1437.24</td>\n",
              "      <td>2332</td>\n",
              "      <td>12</td>\n",
              "    </tr>\n",
              "    <tr>\n",
              "      <th>12349.0</th>\n",
              "      <td>15.0</td>\n",
              "      <td>15.0</td>\n",
              "      <td>15.000000</td>\n",
              "      <td>18</td>\n",
              "      <td>72</td>\n",
              "      <td>1457.55</td>\n",
              "      <td>630</td>\n",
              "      <td>18</td>\n",
              "    </tr>\n",
              "    <tr>\n",
              "      <th>12350.0</th>\n",
              "      <td>25.2</td>\n",
              "      <td>25.2</td>\n",
              "      <td>25.200000</td>\n",
              "      <td>310</td>\n",
              "      <td>16</td>\n",
              "      <td>294.40</td>\n",
              "      <td>196</td>\n",
              "      <td>24</td>\n",
              "    </tr>\n",
              "  </tbody>\n",
              "</table>\n",
              "</div>"
            ],
            "text/plain": [
              "             min    max       mean  ...  Monetary  Quantity  Country\n",
              "CustomerID                          ...                             \n",
              "12346.0      0.0    0.0   0.000000  ...      0.00     74215       35\n",
              "12347.0     13.2   45.0  23.308571  ...   4310.00      2458       16\n",
              "12348.0     39.6  150.0  82.840000  ...   1437.24      2332       12\n",
              "12349.0     15.0   15.0  15.000000  ...   1457.55       630       18\n",
              "12350.0     25.2   25.2  25.200000  ...    294.40       196       24\n",
              "\n",
              "[5 rows x 8 columns]"
            ]
          },
          "metadata": {},
          "execution_count": 67
        }
      ]
    },
    {
      "cell_type": "code",
      "metadata": {
        "colab": {
          "base_uri": "https://localhost:8080/",
          "height": 287
        },
        "id": "J5BabKY7e7Mq",
        "outputId": "48578329-6ca9-4e5a-e7f6-e361415f2ca1"
      },
      "source": [
        "df2_grouped_final.head()"
      ],
      "execution_count": 68,
      "outputs": [
        {
          "output_type": "execute_result",
          "data": {
            "text/html": [
              "<div>\n",
              "<style scoped>\n",
              "    .dataframe tbody tr th:only-of-type {\n",
              "        vertical-align: middle;\n",
              "    }\n",
              "\n",
              "    .dataframe tbody tr th {\n",
              "        vertical-align: top;\n",
              "    }\n",
              "\n",
              "    .dataframe thead th {\n",
              "        text-align: right;\n",
              "    }\n",
              "</style>\n",
              "<table border=\"1\" class=\"dataframe\">\n",
              "  <thead>\n",
              "    <tr style=\"text-align: right;\">\n",
              "      <th></th>\n",
              "      <th>Cluster_0</th>\n",
              "      <th>Cluster_1</th>\n",
              "      <th>Cluster_2</th>\n",
              "      <th>Cluster_3</th>\n",
              "      <th>Cluster_4</th>\n",
              "      <th>Cluster_5</th>\n",
              "      <th>Cluster_6</th>\n",
              "      <th>Cluster_7</th>\n",
              "      <th>Cluster_8</th>\n",
              "      <th>Cluster_9</th>\n",
              "      <th>Cluster_10</th>\n",
              "      <th>Cluster_11</th>\n",
              "      <th>Cluster_12</th>\n",
              "      <th>Cluster_13</th>\n",
              "      <th>Cluster_14</th>\n",
              "      <th>Cluster_15</th>\n",
              "      <th>Cluster_16</th>\n",
              "      <th>Cluster_17</th>\n",
              "      <th>Cluster_18</th>\n",
              "      <th>Cluster_19</th>\n",
              "      <th>Cluster_20</th>\n",
              "      <th>Cluster_21</th>\n",
              "      <th>Cluster_22</th>\n",
              "      <th>Cluster_23</th>\n",
              "      <th>Cluster_24</th>\n",
              "      <th>Cluster_25</th>\n",
              "      <th>Cluster_26</th>\n",
              "      <th>Cluster_27</th>\n",
              "      <th>Cluster_28</th>\n",
              "      <th>Cluster_29</th>\n",
              "      <th>Cluster_30</th>\n",
              "      <th>Cluster_31</th>\n",
              "      <th>Cluster_32</th>\n",
              "      <th>Cluster_33</th>\n",
              "      <th>Cluster_34</th>\n",
              "      <th>Cluster_35</th>\n",
              "      <th>Cluster_36</th>\n",
              "      <th>Cluster_37</th>\n",
              "      <th>Cluster_38</th>\n",
              "      <th>Cluster_39</th>\n",
              "      <th>...</th>\n",
              "      <th>Cluster_110</th>\n",
              "      <th>Cluster_111</th>\n",
              "      <th>Cluster_112</th>\n",
              "      <th>Cluster_113</th>\n",
              "      <th>Cluster_114</th>\n",
              "      <th>Cluster_115</th>\n",
              "      <th>Cluster_116</th>\n",
              "      <th>Cluster_117</th>\n",
              "      <th>Cluster_118</th>\n",
              "      <th>Cluster_119</th>\n",
              "      <th>Cluster_120</th>\n",
              "      <th>Cluster_121</th>\n",
              "      <th>Cluster_122</th>\n",
              "      <th>Cluster_123</th>\n",
              "      <th>Cluster_124</th>\n",
              "      <th>Cluster_125</th>\n",
              "      <th>Cluster_126</th>\n",
              "      <th>Cluster_127</th>\n",
              "      <th>Cluster_128</th>\n",
              "      <th>Cluster_129</th>\n",
              "      <th>Cluster_130</th>\n",
              "      <th>Cluster_131</th>\n",
              "      <th>Cluster_132</th>\n",
              "      <th>Cluster_133</th>\n",
              "      <th>Cluster_134</th>\n",
              "      <th>Cluster_135</th>\n",
              "      <th>Cluster_136</th>\n",
              "      <th>Cluster_137</th>\n",
              "      <th>Cluster_138</th>\n",
              "      <th>Cluster_139</th>\n",
              "      <th>Cluster_140</th>\n",
              "      <th>Cluster_141</th>\n",
              "      <th>Cluster_142</th>\n",
              "      <th>Cluster_143</th>\n",
              "      <th>Cluster_144</th>\n",
              "      <th>Cluster_145</th>\n",
              "      <th>Cluster_146</th>\n",
              "      <th>Cluster_147</th>\n",
              "      <th>Cluster_148</th>\n",
              "      <th>Cluster_149</th>\n",
              "    </tr>\n",
              "    <tr>\n",
              "      <th>CustomerID</th>\n",
              "      <th></th>\n",
              "      <th></th>\n",
              "      <th></th>\n",
              "      <th></th>\n",
              "      <th></th>\n",
              "      <th></th>\n",
              "      <th></th>\n",
              "      <th></th>\n",
              "      <th></th>\n",
              "      <th></th>\n",
              "      <th></th>\n",
              "      <th></th>\n",
              "      <th></th>\n",
              "      <th></th>\n",
              "      <th></th>\n",
              "      <th></th>\n",
              "      <th></th>\n",
              "      <th></th>\n",
              "      <th></th>\n",
              "      <th></th>\n",
              "      <th></th>\n",
              "      <th></th>\n",
              "      <th></th>\n",
              "      <th></th>\n",
              "      <th></th>\n",
              "      <th></th>\n",
              "      <th></th>\n",
              "      <th></th>\n",
              "      <th></th>\n",
              "      <th></th>\n",
              "      <th></th>\n",
              "      <th></th>\n",
              "      <th></th>\n",
              "      <th></th>\n",
              "      <th></th>\n",
              "      <th></th>\n",
              "      <th></th>\n",
              "      <th></th>\n",
              "      <th></th>\n",
              "      <th></th>\n",
              "      <th></th>\n",
              "      <th></th>\n",
              "      <th></th>\n",
              "      <th></th>\n",
              "      <th></th>\n",
              "      <th></th>\n",
              "      <th></th>\n",
              "      <th></th>\n",
              "      <th></th>\n",
              "      <th></th>\n",
              "      <th></th>\n",
              "      <th></th>\n",
              "      <th></th>\n",
              "      <th></th>\n",
              "      <th></th>\n",
              "      <th></th>\n",
              "      <th></th>\n",
              "      <th></th>\n",
              "      <th></th>\n",
              "      <th></th>\n",
              "      <th></th>\n",
              "      <th></th>\n",
              "      <th></th>\n",
              "      <th></th>\n",
              "      <th></th>\n",
              "      <th></th>\n",
              "      <th></th>\n",
              "      <th></th>\n",
              "      <th></th>\n",
              "      <th></th>\n",
              "      <th></th>\n",
              "      <th></th>\n",
              "      <th></th>\n",
              "      <th></th>\n",
              "      <th></th>\n",
              "      <th></th>\n",
              "      <th></th>\n",
              "      <th></th>\n",
              "      <th></th>\n",
              "      <th></th>\n",
              "      <th></th>\n",
              "    </tr>\n",
              "  </thead>\n",
              "  <tbody>\n",
              "    <tr>\n",
              "      <th>12346.0</th>\n",
              "      <td>0.0</td>\n",
              "      <td>0.000000</td>\n",
              "      <td>0.0</td>\n",
              "      <td>0.0</td>\n",
              "      <td>0.000000</td>\n",
              "      <td>0.000000</td>\n",
              "      <td>0.0</td>\n",
              "      <td>0.000000</td>\n",
              "      <td>0.000000</td>\n",
              "      <td>0.000000</td>\n",
              "      <td>0.0</td>\n",
              "      <td>0.0</td>\n",
              "      <td>0.0</td>\n",
              "      <td>0.000000</td>\n",
              "      <td>0.000000</td>\n",
              "      <td>0.0</td>\n",
              "      <td>0.0</td>\n",
              "      <td>0.0</td>\n",
              "      <td>0.0</td>\n",
              "      <td>0.000000</td>\n",
              "      <td>0.0</td>\n",
              "      <td>0.000000</td>\n",
              "      <td>0.0</td>\n",
              "      <td>0.0</td>\n",
              "      <td>0.000000</td>\n",
              "      <td>0.0</td>\n",
              "      <td>0.0</td>\n",
              "      <td>0.000000</td>\n",
              "      <td>0.000000</td>\n",
              "      <td>0.000000</td>\n",
              "      <td>0.0</td>\n",
              "      <td>0.000000</td>\n",
              "      <td>0.000000</td>\n",
              "      <td>0.0</td>\n",
              "      <td>0.0</td>\n",
              "      <td>0.000000</td>\n",
              "      <td>0.000000</td>\n",
              "      <td>0.0</td>\n",
              "      <td>0.000000</td>\n",
              "      <td>0.000000</td>\n",
              "      <td>...</td>\n",
              "      <td>0.000000</td>\n",
              "      <td>0.000000</td>\n",
              "      <td>0.000000</td>\n",
              "      <td>0.000000</td>\n",
              "      <td>0.0</td>\n",
              "      <td>0.000000</td>\n",
              "      <td>0.0</td>\n",
              "      <td>0.0</td>\n",
              "      <td>0.0</td>\n",
              "      <td>0.0</td>\n",
              "      <td>0.0</td>\n",
              "      <td>0.000000</td>\n",
              "      <td>0.000000</td>\n",
              "      <td>0.0</td>\n",
              "      <td>0.0</td>\n",
              "      <td>0.0</td>\n",
              "      <td>0.0</td>\n",
              "      <td>0.00000</td>\n",
              "      <td>0.000000</td>\n",
              "      <td>0.0</td>\n",
              "      <td>0.000000</td>\n",
              "      <td>0.000000</td>\n",
              "      <td>0.000000</td>\n",
              "      <td>0.0</td>\n",
              "      <td>0.000000</td>\n",
              "      <td>0.000000</td>\n",
              "      <td>0.0</td>\n",
              "      <td>0.0</td>\n",
              "      <td>0.000000</td>\n",
              "      <td>0.000000</td>\n",
              "      <td>0.00000</td>\n",
              "      <td>0.000000</td>\n",
              "      <td>0.0</td>\n",
              "      <td>0.0</td>\n",
              "      <td>0.00000</td>\n",
              "      <td>0.000000</td>\n",
              "      <td>0.0</td>\n",
              "      <td>0.0</td>\n",
              "      <td>0.0</td>\n",
              "      <td>0.0</td>\n",
              "    </tr>\n",
              "    <tr>\n",
              "      <th>12347.0</th>\n",
              "      <td>0.0</td>\n",
              "      <td>0.003081</td>\n",
              "      <td>0.0</td>\n",
              "      <td>0.0</td>\n",
              "      <td>0.000000</td>\n",
              "      <td>0.003884</td>\n",
              "      <td>0.0</td>\n",
              "      <td>0.002923</td>\n",
              "      <td>0.000000</td>\n",
              "      <td>0.003480</td>\n",
              "      <td>0.0</td>\n",
              "      <td>0.0</td>\n",
              "      <td>0.0</td>\n",
              "      <td>0.007889</td>\n",
              "      <td>0.000000</td>\n",
              "      <td>0.0</td>\n",
              "      <td>0.0</td>\n",
              "      <td>0.0</td>\n",
              "      <td>0.0</td>\n",
              "      <td>0.008701</td>\n",
              "      <td>0.0</td>\n",
              "      <td>0.002715</td>\n",
              "      <td>0.0</td>\n",
              "      <td>0.0</td>\n",
              "      <td>0.014200</td>\n",
              "      <td>0.0</td>\n",
              "      <td>0.0</td>\n",
              "      <td>0.000000</td>\n",
              "      <td>0.000000</td>\n",
              "      <td>0.000000</td>\n",
              "      <td>0.0</td>\n",
              "      <td>0.004037</td>\n",
              "      <td>0.000000</td>\n",
              "      <td>0.0</td>\n",
              "      <td>0.0</td>\n",
              "      <td>0.000000</td>\n",
              "      <td>0.006032</td>\n",
              "      <td>0.0</td>\n",
              "      <td>0.000000</td>\n",
              "      <td>0.042877</td>\n",
              "      <td>...</td>\n",
              "      <td>0.000000</td>\n",
              "      <td>0.009234</td>\n",
              "      <td>0.015278</td>\n",
              "      <td>0.002367</td>\n",
              "      <td>0.0</td>\n",
              "      <td>0.089722</td>\n",
              "      <td>0.0</td>\n",
              "      <td>0.0</td>\n",
              "      <td>0.0</td>\n",
              "      <td>0.0</td>\n",
              "      <td>0.0</td>\n",
              "      <td>0.006961</td>\n",
              "      <td>0.023596</td>\n",
              "      <td>0.0</td>\n",
              "      <td>0.0</td>\n",
              "      <td>0.0</td>\n",
              "      <td>0.0</td>\n",
              "      <td>0.00348</td>\n",
              "      <td>0.004594</td>\n",
              "      <td>0.0</td>\n",
              "      <td>0.000000</td>\n",
              "      <td>0.063258</td>\n",
              "      <td>0.008770</td>\n",
              "      <td>0.0</td>\n",
              "      <td>0.017374</td>\n",
              "      <td>0.018376</td>\n",
              "      <td>0.0</td>\n",
              "      <td>0.0</td>\n",
              "      <td>0.020589</td>\n",
              "      <td>0.000000</td>\n",
              "      <td>0.00522</td>\n",
              "      <td>0.003898</td>\n",
              "      <td>0.0</td>\n",
              "      <td>0.0</td>\n",
              "      <td>0.00000</td>\n",
              "      <td>0.000000</td>\n",
              "      <td>0.0</td>\n",
              "      <td>0.0</td>\n",
              "      <td>0.0</td>\n",
              "      <td>0.0</td>\n",
              "    </tr>\n",
              "    <tr>\n",
              "      <th>12348.0</th>\n",
              "      <td>0.0</td>\n",
              "      <td>0.000000</td>\n",
              "      <td>0.0</td>\n",
              "      <td>0.0</td>\n",
              "      <td>0.000000</td>\n",
              "      <td>0.000000</td>\n",
              "      <td>0.0</td>\n",
              "      <td>0.000000</td>\n",
              "      <td>0.000000</td>\n",
              "      <td>0.000000</td>\n",
              "      <td>0.0</td>\n",
              "      <td>0.0</td>\n",
              "      <td>0.0</td>\n",
              "      <td>0.000000</td>\n",
              "      <td>0.000000</td>\n",
              "      <td>0.0</td>\n",
              "      <td>0.0</td>\n",
              "      <td>0.0</td>\n",
              "      <td>0.0</td>\n",
              "      <td>0.000000</td>\n",
              "      <td>0.0</td>\n",
              "      <td>0.000000</td>\n",
              "      <td>0.0</td>\n",
              "      <td>0.0</td>\n",
              "      <td>0.000000</td>\n",
              "      <td>0.0</td>\n",
              "      <td>0.0</td>\n",
              "      <td>0.000000</td>\n",
              "      <td>0.000000</td>\n",
              "      <td>0.000000</td>\n",
              "      <td>0.0</td>\n",
              "      <td>0.000000</td>\n",
              "      <td>0.121065</td>\n",
              "      <td>0.0</td>\n",
              "      <td>0.0</td>\n",
              "      <td>0.000000</td>\n",
              "      <td>0.000000</td>\n",
              "      <td>0.0</td>\n",
              "      <td>0.000000</td>\n",
              "      <td>0.204559</td>\n",
              "      <td>...</td>\n",
              "      <td>0.000000</td>\n",
              "      <td>0.000000</td>\n",
              "      <td>0.000000</td>\n",
              "      <td>0.000000</td>\n",
              "      <td>0.0</td>\n",
              "      <td>0.000000</td>\n",
              "      <td>0.0</td>\n",
              "      <td>0.0</td>\n",
              "      <td>0.0</td>\n",
              "      <td>0.0</td>\n",
              "      <td>0.0</td>\n",
              "      <td>0.000000</td>\n",
              "      <td>0.000000</td>\n",
              "      <td>0.0</td>\n",
              "      <td>0.0</td>\n",
              "      <td>0.0</td>\n",
              "      <td>0.0</td>\n",
              "      <td>0.00000</td>\n",
              "      <td>0.000000</td>\n",
              "      <td>0.0</td>\n",
              "      <td>0.000000</td>\n",
              "      <td>0.000000</td>\n",
              "      <td>0.000000</td>\n",
              "      <td>0.0</td>\n",
              "      <td>0.000000</td>\n",
              "      <td>0.000000</td>\n",
              "      <td>0.0</td>\n",
              "      <td>0.0</td>\n",
              "      <td>0.000000</td>\n",
              "      <td>0.188862</td>\n",
              "      <td>0.00000</td>\n",
              "      <td>0.027553</td>\n",
              "      <td>0.0</td>\n",
              "      <td>0.0</td>\n",
              "      <td>0.00000</td>\n",
              "      <td>0.000000</td>\n",
              "      <td>0.0</td>\n",
              "      <td>0.0</td>\n",
              "      <td>0.0</td>\n",
              "      <td>0.0</td>\n",
              "    </tr>\n",
              "    <tr>\n",
              "      <th>12349.0</th>\n",
              "      <td>0.0</td>\n",
              "      <td>0.000000</td>\n",
              "      <td>0.0</td>\n",
              "      <td>0.0</td>\n",
              "      <td>0.008748</td>\n",
              "      <td>0.049604</td>\n",
              "      <td>0.0</td>\n",
              "      <td>0.027409</td>\n",
              "      <td>0.055408</td>\n",
              "      <td>0.025481</td>\n",
              "      <td>0.0</td>\n",
              "      <td>0.0</td>\n",
              "      <td>0.0</td>\n",
              "      <td>0.000000</td>\n",
              "      <td>0.013653</td>\n",
              "      <td>0.0</td>\n",
              "      <td>0.0</td>\n",
              "      <td>0.0</td>\n",
              "      <td>0.0</td>\n",
              "      <td>0.000000</td>\n",
              "      <td>0.0</td>\n",
              "      <td>0.000000</td>\n",
              "      <td>0.0</td>\n",
              "      <td>0.0</td>\n",
              "      <td>0.018552</td>\n",
              "      <td>0.0</td>\n",
              "      <td>0.0</td>\n",
              "      <td>0.000000</td>\n",
              "      <td>0.010291</td>\n",
              "      <td>0.011526</td>\n",
              "      <td>0.0</td>\n",
              "      <td>0.011938</td>\n",
              "      <td>0.004556</td>\n",
              "      <td>0.0</td>\n",
              "      <td>0.0</td>\n",
              "      <td>0.000000</td>\n",
              "      <td>0.000000</td>\n",
              "      <td>0.0</td>\n",
              "      <td>0.055916</td>\n",
              "      <td>0.027196</td>\n",
              "      <td>...</td>\n",
              "      <td>0.005351</td>\n",
              "      <td>0.040465</td>\n",
              "      <td>0.038112</td>\n",
              "      <td>0.000000</td>\n",
              "      <td>0.0</td>\n",
              "      <td>0.000000</td>\n",
              "      <td>0.0</td>\n",
              "      <td>0.0</td>\n",
              "      <td>0.0</td>\n",
              "      <td>0.0</td>\n",
              "      <td>0.0</td>\n",
              "      <td>0.000000</td>\n",
              "      <td>0.012144</td>\n",
              "      <td>0.0</td>\n",
              "      <td>0.0</td>\n",
              "      <td>0.0</td>\n",
              "      <td>0.0</td>\n",
              "      <td>0.00000</td>\n",
              "      <td>0.000000</td>\n",
              "      <td>0.0</td>\n",
              "      <td>0.013584</td>\n",
              "      <td>0.008576</td>\n",
              "      <td>0.023876</td>\n",
              "      <td>0.0</td>\n",
              "      <td>0.024939</td>\n",
              "      <td>0.013584</td>\n",
              "      <td>0.0</td>\n",
              "      <td>0.0</td>\n",
              "      <td>0.000000</td>\n",
              "      <td>0.000000</td>\n",
              "      <td>0.00000</td>\n",
              "      <td>0.000000</td>\n",
              "      <td>0.0</td>\n",
              "      <td>0.0</td>\n",
              "      <td>0.01132</td>\n",
              "      <td>0.010188</td>\n",
              "      <td>0.0</td>\n",
              "      <td>0.0</td>\n",
              "      <td>0.0</td>\n",
              "      <td>0.0</td>\n",
              "    </tr>\n",
              "    <tr>\n",
              "      <th>12350.0</th>\n",
              "      <td>0.0</td>\n",
              "      <td>0.000000</td>\n",
              "      <td>0.0</td>\n",
              "      <td>0.0</td>\n",
              "      <td>0.000000</td>\n",
              "      <td>0.000000</td>\n",
              "      <td>0.0</td>\n",
              "      <td>0.000000</td>\n",
              "      <td>0.000000</td>\n",
              "      <td>0.067255</td>\n",
              "      <td>0.0</td>\n",
              "      <td>0.0</td>\n",
              "      <td>0.0</td>\n",
              "      <td>0.000000</td>\n",
              "      <td>0.000000</td>\n",
              "      <td>0.0</td>\n",
              "      <td>0.0</td>\n",
              "      <td>0.0</td>\n",
              "      <td>0.0</td>\n",
              "      <td>0.000000</td>\n",
              "      <td>0.0</td>\n",
              "      <td>0.000000</td>\n",
              "      <td>0.0</td>\n",
              "      <td>0.0</td>\n",
              "      <td>0.000000</td>\n",
              "      <td>0.0</td>\n",
              "      <td>0.0</td>\n",
              "      <td>0.136549</td>\n",
              "      <td>0.000000</td>\n",
              "      <td>0.000000</td>\n",
              "      <td>0.0</td>\n",
              "      <td>0.000000</td>\n",
              "      <td>0.000000</td>\n",
              "      <td>0.0</td>\n",
              "      <td>0.0</td>\n",
              "      <td>0.063519</td>\n",
              "      <td>0.060122</td>\n",
              "      <td>0.0</td>\n",
              "      <td>0.000000</td>\n",
              "      <td>0.000000</td>\n",
              "      <td>...</td>\n",
              "      <td>0.000000</td>\n",
              "      <td>0.000000</td>\n",
              "      <td>0.000000</td>\n",
              "      <td>0.000000</td>\n",
              "      <td>0.0</td>\n",
              "      <td>0.000000</td>\n",
              "      <td>0.0</td>\n",
              "      <td>0.0</td>\n",
              "      <td>0.0</td>\n",
              "      <td>0.0</td>\n",
              "      <td>0.0</td>\n",
              "      <td>0.000000</td>\n",
              "      <td>0.000000</td>\n",
              "      <td>0.0</td>\n",
              "      <td>0.0</td>\n",
              "      <td>0.0</td>\n",
              "      <td>0.0</td>\n",
              "      <td>0.00000</td>\n",
              "      <td>0.067255</td>\n",
              "      <td>0.0</td>\n",
              "      <td>0.000000</td>\n",
              "      <td>0.000000</td>\n",
              "      <td>0.000000</td>\n",
              "      <td>0.0</td>\n",
              "      <td>0.000000</td>\n",
              "      <td>0.000000</td>\n",
              "      <td>0.0</td>\n",
              "      <td>0.0</td>\n",
              "      <td>0.000000</td>\n",
              "      <td>0.000000</td>\n",
              "      <td>0.00000</td>\n",
              "      <td>0.000000</td>\n",
              "      <td>0.0</td>\n",
              "      <td>0.0</td>\n",
              "      <td>0.00000</td>\n",
              "      <td>0.000000</td>\n",
              "      <td>0.0</td>\n",
              "      <td>0.0</td>\n",
              "      <td>0.0</td>\n",
              "      <td>0.0</td>\n",
              "    </tr>\n",
              "  </tbody>\n",
              "</table>\n",
              "<p>5 rows × 150 columns</p>\n",
              "</div>"
            ],
            "text/plain": [
              "            Cluster_0  Cluster_1  ...  Cluster_148  Cluster_149\n",
              "CustomerID                        ...                          \n",
              "12346.0           0.0   0.000000  ...          0.0          0.0\n",
              "12347.0           0.0   0.003081  ...          0.0          0.0\n",
              "12348.0           0.0   0.000000  ...          0.0          0.0\n",
              "12349.0           0.0   0.000000  ...          0.0          0.0\n",
              "12350.0           0.0   0.000000  ...          0.0          0.0\n",
              "\n",
              "[5 rows x 150 columns]"
            ]
          },
          "metadata": {},
          "execution_count": 68
        }
      ]
    },
    {
      "cell_type": "markdown",
      "metadata": {
        "id": "SLhhNrchfHHK"
      },
      "source": [
        "**Clustering Customers**"
      ]
    },
    {
      "cell_type": "code",
      "metadata": {
        "id": "teZb0uMOe-kB"
      },
      "source": [
        "# Standardization\n",
        "\n",
        "X1 = df_grouped_final.values\n",
        "X2 = df2_grouped_final.values\n",
        "\n",
        "scaler = StandardScaler()\n",
        "X1 = scaler.fit_transform(X1)\n",
        "X_final_std_scale = np.concatenate((X1, X2), axis=1)"
      ],
      "execution_count": 69,
      "outputs": []
    },
    {
      "cell_type": "markdown",
      "metadata": {
        "id": "RwvLY3-0fO1Q"
      },
      "source": [
        "**K-Means Clustering**"
      ]
    },
    {
      "cell_type": "code",
      "metadata": {
        "colab": {
          "base_uri": "https://localhost:8080/"
        },
        "id": "EXK4E-vAfNPD",
        "outputId": "4b363367-9540-4bb0-9d4e-504e4bd29ddd"
      },
      "source": [
        "x = list(range(2, 12))\n",
        "y_std = []\n",
        "for n_clusters in x:\n",
        "    print(\"n_clusters =\", n_clusters)\n",
        "    \n",
        "    kmeans = KMeans(init='k-means++', n_clusters = n_clusters, n_init=10)\n",
        "    kmeans.fit(X_final_std_scale)\n",
        "    clusters = kmeans.predict(X_final_std_scale)\n",
        "    silhouette_avg = silhouette_score(X_final_std_scale, clusters)\n",
        "    y_std.append(silhouette_avg)\n",
        "    print(\"The average silhouette_score is :\", silhouette_avg, \"with Std Scaling\")"
      ],
      "execution_count": 70,
      "outputs": [
        {
          "output_type": "stream",
          "name": "stdout",
          "text": [
            "n_clusters = 2\n",
            "The average silhouette_score is : 0.9054113347751834 with Std Scaling\n",
            "n_clusters = 3\n",
            "The average silhouette_score is : 0.9023373841844111 with Std Scaling\n",
            "n_clusters = 4\n",
            "The average silhouette_score is : 0.5819477670369615 with Std Scaling\n",
            "n_clusters = 5\n",
            "The average silhouette_score is : 0.4462804451321869 with Std Scaling\n",
            "n_clusters = 6\n",
            "The average silhouette_score is : 0.4655231542792395 with Std Scaling\n",
            "n_clusters = 7\n",
            "The average silhouette_score is : 0.4700196927386975 with Std Scaling\n",
            "n_clusters = 8\n",
            "The average silhouette_score is : 0.469605315683973 with Std Scaling\n",
            "n_clusters = 9\n",
            "The average silhouette_score is : 0.4464824459924881 with Std Scaling\n",
            "n_clusters = 10\n",
            "The average silhouette_score is : 0.4633180933071949 with Std Scaling\n",
            "n_clusters = 11\n",
            "The average silhouette_score is : 0.4634092323604206 with Std Scaling\n"
          ]
        }
      ]
    },
    {
      "cell_type": "code",
      "metadata": {
        "id": "J_mZFm3tfVR0"
      },
      "source": [
        "kmeans = KMeans(init='k-means++', n_clusters = 8, n_init=30, random_state=0)  # random state so as to provide cluster numbers during analysis\n",
        "kmeans.fit(X_final_std_scale)\n",
        "clusters = kmeans.predict(X_final_std_scale)"
      ],
      "execution_count": 71,
      "outputs": []
    },
    {
      "cell_type": "code",
      "metadata": {
        "colab": {
          "base_uri": "https://localhost:8080/",
          "height": 420
        },
        "id": "zTaedXtJhiGD",
        "outputId": "ecb32a8d-5b63-49f7-d198-266f4b955a86"
      },
      "source": [
        "plt.figure(figsize = (20,8))\n",
        "n, bins, patches = plt.hist(clusters, bins=8)\n",
        "plt.xlabel(\"Cluster\")\n",
        "plt.title(\"Number of customers per cluster\")\n",
        "plt.xticks([rect.get_x()+ rect.get_width() / 2 for rect in patches], [\"Cluster {}\".format(x) for x in range(8)])\n",
        "\n",
        "for rect in patches:\n",
        "    y_value = rect.get_height()\n",
        "    x_value = rect.get_x() + rect.get_width() / 2\n",
        "\n",
        "    space = 5\n",
        "    va = 'bottom'\n",
        "    label = str(int(y_value))\n",
        "    \n",
        "    plt.annotate(\n",
        "        label,                      \n",
        "        (x_value, y_value),         \n",
        "        xytext=(0, space),          \n",
        "        textcoords=\"offset points\", \n",
        "        ha='center',                \n",
        "        va=va)"
      ],
      "execution_count": 72,
      "outputs": [
        {
          "output_type": "display_data",
          "data": {
            "image/png": "[encoded data removed]",
            "text/plain": [
              "<Figure size 1440x576 with 1 Axes>"
            ]
          },
          "metadata": {
            "needs_background": "light"
          }
        }
      ]
    },
    {
      "cell_type": "code",
      "metadata": {
        "id": "SCa2G_93hm8l"
      },
      "source": [
        "df_grouped_final[\"cluster\"] = clusters"
      ],
      "execution_count": 73,
      "outputs": []
    },
    {
      "cell_type": "code",
      "metadata": {
        "colab": {
          "base_uri": "https://localhost:8080/",
          "height": 287
        },
        "id": "UFE22MIRhr6M",
        "outputId": "ef0de156-2119-4051-bcc6-8f9ae9fb132a"
      },
      "source": [
        "final_dataset = pd.concat([df_grouped_final, df2_grouped_final], axis = 1)\n",
        "final_dataset.head()"
      ],
      "execution_count": 74,
      "outputs": [
        {
          "output_type": "execute_result",
          "data": {
            "text/html": [
              "<div>\n",
              "<style scoped>\n",
              "    .dataframe tbody tr th:only-of-type {\n",
              "        vertical-align: middle;\n",
              "    }\n",
              "\n",
              "    .dataframe tbody tr th {\n",
              "        vertical-align: top;\n",
              "    }\n",
              "\n",
              "    .dataframe thead th {\n",
              "        text-align: right;\n",
              "    }\n",
              "</style>\n",
              "<table border=\"1\" class=\"dataframe\">\n",
              "  <thead>\n",
              "    <tr style=\"text-align: right;\">\n",
              "      <th></th>\n",
              "      <th>min</th>\n",
              "      <th>max</th>\n",
              "      <th>mean</th>\n",
              "      <th>Recency</th>\n",
              "      <th>Frequency</th>\n",
              "      <th>Monetary</th>\n",
              "      <th>Quantity</th>\n",
              "      <th>Country</th>\n",
              "      <th>cluster</th>\n",
              "      <th>Cluster_0</th>\n",
              "      <th>Cluster_1</th>\n",
              "      <th>Cluster_2</th>\n",
              "      <th>Cluster_3</th>\n",
              "      <th>Cluster_4</th>\n",
              "      <th>Cluster_5</th>\n",
              "      <th>Cluster_6</th>\n",
              "      <th>Cluster_7</th>\n",
              "      <th>Cluster_8</th>\n",
              "      <th>Cluster_9</th>\n",
              "      <th>Cluster_10</th>\n",
              "      <th>Cluster_11</th>\n",
              "      <th>Cluster_12</th>\n",
              "      <th>Cluster_13</th>\n",
              "      <th>Cluster_14</th>\n",
              "      <th>Cluster_15</th>\n",
              "      <th>Cluster_16</th>\n",
              "      <th>Cluster_17</th>\n",
              "      <th>Cluster_18</th>\n",
              "      <th>Cluster_19</th>\n",
              "      <th>Cluster_20</th>\n",
              "      <th>Cluster_21</th>\n",
              "      <th>Cluster_22</th>\n",
              "      <th>Cluster_23</th>\n",
              "      <th>Cluster_24</th>\n",
              "      <th>Cluster_25</th>\n",
              "      <th>Cluster_26</th>\n",
              "      <th>Cluster_27</th>\n",
              "      <th>Cluster_28</th>\n",
              "      <th>Cluster_29</th>\n",
              "      <th>Cluster_30</th>\n",
              "      <th>...</th>\n",
              "      <th>Cluster_110</th>\n",
              "      <th>Cluster_111</th>\n",
              "      <th>Cluster_112</th>\n",
              "      <th>Cluster_113</th>\n",
              "      <th>Cluster_114</th>\n",
              "      <th>Cluster_115</th>\n",
              "      <th>Cluster_116</th>\n",
              "      <th>Cluster_117</th>\n",
              "      <th>Cluster_118</th>\n",
              "      <th>Cluster_119</th>\n",
              "      <th>Cluster_120</th>\n",
              "      <th>Cluster_121</th>\n",
              "      <th>Cluster_122</th>\n",
              "      <th>Cluster_123</th>\n",
              "      <th>Cluster_124</th>\n",
              "      <th>Cluster_125</th>\n",
              "      <th>Cluster_126</th>\n",
              "      <th>Cluster_127</th>\n",
              "      <th>Cluster_128</th>\n",
              "      <th>Cluster_129</th>\n",
              "      <th>Cluster_130</th>\n",
              "      <th>Cluster_131</th>\n",
              "      <th>Cluster_132</th>\n",
              "      <th>Cluster_133</th>\n",
              "      <th>Cluster_134</th>\n",
              "      <th>Cluster_135</th>\n",
              "      <th>Cluster_136</th>\n",
              "      <th>Cluster_137</th>\n",
              "      <th>Cluster_138</th>\n",
              "      <th>Cluster_139</th>\n",
              "      <th>Cluster_140</th>\n",
              "      <th>Cluster_141</th>\n",
              "      <th>Cluster_142</th>\n",
              "      <th>Cluster_143</th>\n",
              "      <th>Cluster_144</th>\n",
              "      <th>Cluster_145</th>\n",
              "      <th>Cluster_146</th>\n",
              "      <th>Cluster_147</th>\n",
              "      <th>Cluster_148</th>\n",
              "      <th>Cluster_149</th>\n",
              "    </tr>\n",
              "    <tr>\n",
              "      <th>CustomerID</th>\n",
              "      <th></th>\n",
              "      <th></th>\n",
              "      <th></th>\n",
              "      <th></th>\n",
              "      <th></th>\n",
              "      <th></th>\n",
              "      <th></th>\n",
              "      <th></th>\n",
              "      <th></th>\n",
              "      <th></th>\n",
              "      <th></th>\n",
              "      <th></th>\n",
              "      <th></th>\n",
              "      <th></th>\n",
              "      <th></th>\n",
              "      <th></th>\n",
              "      <th></th>\n",
              "      <th></th>\n",
              "      <th></th>\n",
              "      <th></th>\n",
              "      <th></th>\n",
              "      <th></th>\n",
              "      <th></th>\n",
              "      <th></th>\n",
              "      <th></th>\n",
              "      <th></th>\n",
              "      <th></th>\n",
              "      <th></th>\n",
              "      <th></th>\n",
              "      <th></th>\n",
              "      <th></th>\n",
              "      <th></th>\n",
              "      <th></th>\n",
              "      <th></th>\n",
              "      <th></th>\n",
              "      <th></th>\n",
              "      <th></th>\n",
              "      <th></th>\n",
              "      <th></th>\n",
              "      <th></th>\n",
              "      <th></th>\n",
              "      <th></th>\n",
              "      <th></th>\n",
              "      <th></th>\n",
              "      <th></th>\n",
              "      <th></th>\n",
              "      <th></th>\n",
              "      <th></th>\n",
              "      <th></th>\n",
              "      <th></th>\n",
              "      <th></th>\n",
              "      <th></th>\n",
              "      <th></th>\n",
              "      <th></th>\n",
              "      <th></th>\n",
              "      <th></th>\n",
              "      <th></th>\n",
              "      <th></th>\n",
              "      <th></th>\n",
              "      <th></th>\n",
              "      <th></th>\n",
              "      <th></th>\n",
              "      <th></th>\n",
              "      <th></th>\n",
              "      <th></th>\n",
              "      <th></th>\n",
              "      <th></th>\n",
              "      <th></th>\n",
              "      <th></th>\n",
              "      <th></th>\n",
              "      <th></th>\n",
              "      <th></th>\n",
              "      <th></th>\n",
              "      <th></th>\n",
              "      <th></th>\n",
              "      <th></th>\n",
              "      <th></th>\n",
              "      <th></th>\n",
              "      <th></th>\n",
              "      <th></th>\n",
              "      <th></th>\n",
              "    </tr>\n",
              "  </thead>\n",
              "  <tbody>\n",
              "    <tr>\n",
              "      <th>12346.0</th>\n",
              "      <td>0.0</td>\n",
              "      <td>0.0</td>\n",
              "      <td>0.000000</td>\n",
              "      <td>325</td>\n",
              "      <td>1</td>\n",
              "      <td>0.00</td>\n",
              "      <td>74215</td>\n",
              "      <td>35</td>\n",
              "      <td>5</td>\n",
              "      <td>0.0</td>\n",
              "      <td>0.000000</td>\n",
              "      <td>0.0</td>\n",
              "      <td>0.0</td>\n",
              "      <td>0.000000</td>\n",
              "      <td>0.000000</td>\n",
              "      <td>0.0</td>\n",
              "      <td>0.000000</td>\n",
              "      <td>0.000000</td>\n",
              "      <td>0.000000</td>\n",
              "      <td>0.0</td>\n",
              "      <td>0.0</td>\n",
              "      <td>0.0</td>\n",
              "      <td>0.000000</td>\n",
              "      <td>0.000000</td>\n",
              "      <td>0.0</td>\n",
              "      <td>0.0</td>\n",
              "      <td>0.0</td>\n",
              "      <td>0.0</td>\n",
              "      <td>0.000000</td>\n",
              "      <td>0.0</td>\n",
              "      <td>0.000000</td>\n",
              "      <td>0.0</td>\n",
              "      <td>0.0</td>\n",
              "      <td>0.000000</td>\n",
              "      <td>0.0</td>\n",
              "      <td>0.0</td>\n",
              "      <td>0.000000</td>\n",
              "      <td>0.000000</td>\n",
              "      <td>0.000000</td>\n",
              "      <td>0.0</td>\n",
              "      <td>...</td>\n",
              "      <td>0.000000</td>\n",
              "      <td>0.000000</td>\n",
              "      <td>0.000000</td>\n",
              "      <td>0.000000</td>\n",
              "      <td>0.0</td>\n",
              "      <td>0.000000</td>\n",
              "      <td>0.0</td>\n",
              "      <td>0.0</td>\n",
              "      <td>0.0</td>\n",
              "      <td>0.0</td>\n",
              "      <td>0.0</td>\n",
              "      <td>0.000000</td>\n",
              "      <td>0.000000</td>\n",
              "      <td>0.0</td>\n",
              "      <td>0.0</td>\n",
              "      <td>0.0</td>\n",
              "      <td>0.0</td>\n",
              "      <td>0.00000</td>\n",
              "      <td>0.000000</td>\n",
              "      <td>0.0</td>\n",
              "      <td>0.000000</td>\n",
              "      <td>0.000000</td>\n",
              "      <td>0.000000</td>\n",
              "      <td>0.0</td>\n",
              "      <td>0.000000</td>\n",
              "      <td>0.000000</td>\n",
              "      <td>0.0</td>\n",
              "      <td>0.0</td>\n",
              "      <td>0.000000</td>\n",
              "      <td>0.000000</td>\n",
              "      <td>0.00000</td>\n",
              "      <td>0.000000</td>\n",
              "      <td>0.0</td>\n",
              "      <td>0.0</td>\n",
              "      <td>0.00000</td>\n",
              "      <td>0.000000</td>\n",
              "      <td>0.0</td>\n",
              "      <td>0.0</td>\n",
              "      <td>0.0</td>\n",
              "      <td>0.0</td>\n",
              "    </tr>\n",
              "    <tr>\n",
              "      <th>12347.0</th>\n",
              "      <td>13.2</td>\n",
              "      <td>45.0</td>\n",
              "      <td>23.308571</td>\n",
              "      <td>2</td>\n",
              "      <td>182</td>\n",
              "      <td>4310.00</td>\n",
              "      <td>2458</td>\n",
              "      <td>16</td>\n",
              "      <td>4</td>\n",
              "      <td>0.0</td>\n",
              "      <td>0.003081</td>\n",
              "      <td>0.0</td>\n",
              "      <td>0.0</td>\n",
              "      <td>0.000000</td>\n",
              "      <td>0.003884</td>\n",
              "      <td>0.0</td>\n",
              "      <td>0.002923</td>\n",
              "      <td>0.000000</td>\n",
              "      <td>0.003480</td>\n",
              "      <td>0.0</td>\n",
              "      <td>0.0</td>\n",
              "      <td>0.0</td>\n",
              "      <td>0.007889</td>\n",
              "      <td>0.000000</td>\n",
              "      <td>0.0</td>\n",
              "      <td>0.0</td>\n",
              "      <td>0.0</td>\n",
              "      <td>0.0</td>\n",
              "      <td>0.008701</td>\n",
              "      <td>0.0</td>\n",
              "      <td>0.002715</td>\n",
              "      <td>0.0</td>\n",
              "      <td>0.0</td>\n",
              "      <td>0.014200</td>\n",
              "      <td>0.0</td>\n",
              "      <td>0.0</td>\n",
              "      <td>0.000000</td>\n",
              "      <td>0.000000</td>\n",
              "      <td>0.000000</td>\n",
              "      <td>0.0</td>\n",
              "      <td>...</td>\n",
              "      <td>0.000000</td>\n",
              "      <td>0.009234</td>\n",
              "      <td>0.015278</td>\n",
              "      <td>0.002367</td>\n",
              "      <td>0.0</td>\n",
              "      <td>0.089722</td>\n",
              "      <td>0.0</td>\n",
              "      <td>0.0</td>\n",
              "      <td>0.0</td>\n",
              "      <td>0.0</td>\n",
              "      <td>0.0</td>\n",
              "      <td>0.006961</td>\n",
              "      <td>0.023596</td>\n",
              "      <td>0.0</td>\n",
              "      <td>0.0</td>\n",
              "      <td>0.0</td>\n",
              "      <td>0.0</td>\n",
              "      <td>0.00348</td>\n",
              "      <td>0.004594</td>\n",
              "      <td>0.0</td>\n",
              "      <td>0.000000</td>\n",
              "      <td>0.063258</td>\n",
              "      <td>0.008770</td>\n",
              "      <td>0.0</td>\n",
              "      <td>0.017374</td>\n",
              "      <td>0.018376</td>\n",
              "      <td>0.0</td>\n",
              "      <td>0.0</td>\n",
              "      <td>0.020589</td>\n",
              "      <td>0.000000</td>\n",
              "      <td>0.00522</td>\n",
              "      <td>0.003898</td>\n",
              "      <td>0.0</td>\n",
              "      <td>0.0</td>\n",
              "      <td>0.00000</td>\n",
              "      <td>0.000000</td>\n",
              "      <td>0.0</td>\n",
              "      <td>0.0</td>\n",
              "      <td>0.0</td>\n",
              "      <td>0.0</td>\n",
              "    </tr>\n",
              "    <tr>\n",
              "      <th>12348.0</th>\n",
              "      <td>39.6</td>\n",
              "      <td>150.0</td>\n",
              "      <td>82.840000</td>\n",
              "      <td>75</td>\n",
              "      <td>27</td>\n",
              "      <td>1437.24</td>\n",
              "      <td>2332</td>\n",
              "      <td>12</td>\n",
              "      <td>4</td>\n",
              "      <td>0.0</td>\n",
              "      <td>0.000000</td>\n",
              "      <td>0.0</td>\n",
              "      <td>0.0</td>\n",
              "      <td>0.000000</td>\n",
              "      <td>0.000000</td>\n",
              "      <td>0.0</td>\n",
              "      <td>0.000000</td>\n",
              "      <td>0.000000</td>\n",
              "      <td>0.000000</td>\n",
              "      <td>0.0</td>\n",
              "      <td>0.0</td>\n",
              "      <td>0.0</td>\n",
              "      <td>0.000000</td>\n",
              "      <td>0.000000</td>\n",
              "      <td>0.0</td>\n",
              "      <td>0.0</td>\n",
              "      <td>0.0</td>\n",
              "      <td>0.0</td>\n",
              "      <td>0.000000</td>\n",
              "      <td>0.0</td>\n",
              "      <td>0.000000</td>\n",
              "      <td>0.0</td>\n",
              "      <td>0.0</td>\n",
              "      <td>0.000000</td>\n",
              "      <td>0.0</td>\n",
              "      <td>0.0</td>\n",
              "      <td>0.000000</td>\n",
              "      <td>0.000000</td>\n",
              "      <td>0.000000</td>\n",
              "      <td>0.0</td>\n",
              "      <td>...</td>\n",
              "      <td>0.000000</td>\n",
              "      <td>0.000000</td>\n",
              "      <td>0.000000</td>\n",
              "      <td>0.000000</td>\n",
              "      <td>0.0</td>\n",
              "      <td>0.000000</td>\n",
              "      <td>0.0</td>\n",
              "      <td>0.0</td>\n",
              "      <td>0.0</td>\n",
              "      <td>0.0</td>\n",
              "      <td>0.0</td>\n",
              "      <td>0.000000</td>\n",
              "      <td>0.000000</td>\n",
              "      <td>0.0</td>\n",
              "      <td>0.0</td>\n",
              "      <td>0.0</td>\n",
              "      <td>0.0</td>\n",
              "      <td>0.00000</td>\n",
              "      <td>0.000000</td>\n",
              "      <td>0.0</td>\n",
              "      <td>0.000000</td>\n",
              "      <td>0.000000</td>\n",
              "      <td>0.000000</td>\n",
              "      <td>0.0</td>\n",
              "      <td>0.000000</td>\n",
              "      <td>0.000000</td>\n",
              "      <td>0.0</td>\n",
              "      <td>0.0</td>\n",
              "      <td>0.000000</td>\n",
              "      <td>0.188862</td>\n",
              "      <td>0.00000</td>\n",
              "      <td>0.027553</td>\n",
              "      <td>0.0</td>\n",
              "      <td>0.0</td>\n",
              "      <td>0.00000</td>\n",
              "      <td>0.000000</td>\n",
              "      <td>0.0</td>\n",
              "      <td>0.0</td>\n",
              "      <td>0.0</td>\n",
              "      <td>0.0</td>\n",
              "    </tr>\n",
              "    <tr>\n",
              "      <th>12349.0</th>\n",
              "      <td>15.0</td>\n",
              "      <td>15.0</td>\n",
              "      <td>15.000000</td>\n",
              "      <td>18</td>\n",
              "      <td>72</td>\n",
              "      <td>1457.55</td>\n",
              "      <td>630</td>\n",
              "      <td>18</td>\n",
              "      <td>4</td>\n",
              "      <td>0.0</td>\n",
              "      <td>0.000000</td>\n",
              "      <td>0.0</td>\n",
              "      <td>0.0</td>\n",
              "      <td>0.008748</td>\n",
              "      <td>0.049604</td>\n",
              "      <td>0.0</td>\n",
              "      <td>0.027409</td>\n",
              "      <td>0.055408</td>\n",
              "      <td>0.025481</td>\n",
              "      <td>0.0</td>\n",
              "      <td>0.0</td>\n",
              "      <td>0.0</td>\n",
              "      <td>0.000000</td>\n",
              "      <td>0.013653</td>\n",
              "      <td>0.0</td>\n",
              "      <td>0.0</td>\n",
              "      <td>0.0</td>\n",
              "      <td>0.0</td>\n",
              "      <td>0.000000</td>\n",
              "      <td>0.0</td>\n",
              "      <td>0.000000</td>\n",
              "      <td>0.0</td>\n",
              "      <td>0.0</td>\n",
              "      <td>0.018552</td>\n",
              "      <td>0.0</td>\n",
              "      <td>0.0</td>\n",
              "      <td>0.000000</td>\n",
              "      <td>0.010291</td>\n",
              "      <td>0.011526</td>\n",
              "      <td>0.0</td>\n",
              "      <td>...</td>\n",
              "      <td>0.005351</td>\n",
              "      <td>0.040465</td>\n",
              "      <td>0.038112</td>\n",
              "      <td>0.000000</td>\n",
              "      <td>0.0</td>\n",
              "      <td>0.000000</td>\n",
              "      <td>0.0</td>\n",
              "      <td>0.0</td>\n",
              "      <td>0.0</td>\n",
              "      <td>0.0</td>\n",
              "      <td>0.0</td>\n",
              "      <td>0.000000</td>\n",
              "      <td>0.012144</td>\n",
              "      <td>0.0</td>\n",
              "      <td>0.0</td>\n",
              "      <td>0.0</td>\n",
              "      <td>0.0</td>\n",
              "      <td>0.00000</td>\n",
              "      <td>0.000000</td>\n",
              "      <td>0.0</td>\n",
              "      <td>0.013584</td>\n",
              "      <td>0.008576</td>\n",
              "      <td>0.023876</td>\n",
              "      <td>0.0</td>\n",
              "      <td>0.024939</td>\n",
              "      <td>0.013584</td>\n",
              "      <td>0.0</td>\n",
              "      <td>0.0</td>\n",
              "      <td>0.000000</td>\n",
              "      <td>0.000000</td>\n",
              "      <td>0.00000</td>\n",
              "      <td>0.000000</td>\n",
              "      <td>0.0</td>\n",
              "      <td>0.0</td>\n",
              "      <td>0.01132</td>\n",
              "      <td>0.010188</td>\n",
              "      <td>0.0</td>\n",
              "      <td>0.0</td>\n",
              "      <td>0.0</td>\n",
              "      <td>0.0</td>\n",
              "    </tr>\n",
              "    <tr>\n",
              "      <th>12350.0</th>\n",
              "      <td>25.2</td>\n",
              "      <td>25.2</td>\n",
              "      <td>25.200000</td>\n",
              "      <td>310</td>\n",
              "      <td>16</td>\n",
              "      <td>294.40</td>\n",
              "      <td>196</td>\n",
              "      <td>24</td>\n",
              "      <td>2</td>\n",
              "      <td>0.0</td>\n",
              "      <td>0.000000</td>\n",
              "      <td>0.0</td>\n",
              "      <td>0.0</td>\n",
              "      <td>0.000000</td>\n",
              "      <td>0.000000</td>\n",
              "      <td>0.0</td>\n",
              "      <td>0.000000</td>\n",
              "      <td>0.000000</td>\n",
              "      <td>0.067255</td>\n",
              "      <td>0.0</td>\n",
              "      <td>0.0</td>\n",
              "      <td>0.0</td>\n",
              "      <td>0.000000</td>\n",
              "      <td>0.000000</td>\n",
              "      <td>0.0</td>\n",
              "      <td>0.0</td>\n",
              "      <td>0.0</td>\n",
              "      <td>0.0</td>\n",
              "      <td>0.000000</td>\n",
              "      <td>0.0</td>\n",
              "      <td>0.000000</td>\n",
              "      <td>0.0</td>\n",
              "      <td>0.0</td>\n",
              "      <td>0.000000</td>\n",
              "      <td>0.0</td>\n",
              "      <td>0.0</td>\n",
              "      <td>0.136549</td>\n",
              "      <td>0.000000</td>\n",
              "      <td>0.000000</td>\n",
              "      <td>0.0</td>\n",
              "      <td>...</td>\n",
              "      <td>0.000000</td>\n",
              "      <td>0.000000</td>\n",
              "      <td>0.000000</td>\n",
              "      <td>0.000000</td>\n",
              "      <td>0.0</td>\n",
              "      <td>0.000000</td>\n",
              "      <td>0.0</td>\n",
              "      <td>0.0</td>\n",
              "      <td>0.0</td>\n",
              "      <td>0.0</td>\n",
              "      <td>0.0</td>\n",
              "      <td>0.000000</td>\n",
              "      <td>0.000000</td>\n",
              "      <td>0.0</td>\n",
              "      <td>0.0</td>\n",
              "      <td>0.0</td>\n",
              "      <td>0.0</td>\n",
              "      <td>0.00000</td>\n",
              "      <td>0.067255</td>\n",
              "      <td>0.0</td>\n",
              "      <td>0.000000</td>\n",
              "      <td>0.000000</td>\n",
              "      <td>0.000000</td>\n",
              "      <td>0.0</td>\n",
              "      <td>0.000000</td>\n",
              "      <td>0.000000</td>\n",
              "      <td>0.0</td>\n",
              "      <td>0.0</td>\n",
              "      <td>0.000000</td>\n",
              "      <td>0.000000</td>\n",
              "      <td>0.00000</td>\n",
              "      <td>0.000000</td>\n",
              "      <td>0.0</td>\n",
              "      <td>0.0</td>\n",
              "      <td>0.00000</td>\n",
              "      <td>0.000000</td>\n",
              "      <td>0.0</td>\n",
              "      <td>0.0</td>\n",
              "      <td>0.0</td>\n",
              "      <td>0.0</td>\n",
              "    </tr>\n",
              "  </tbody>\n",
              "</table>\n",
              "<p>5 rows × 159 columns</p>\n",
              "</div>"
            ],
            "text/plain": [
              "             min    max       mean  ...  Cluster_147  Cluster_148  Cluster_149\n",
              "CustomerID                          ...                                       \n",
              "12346.0      0.0    0.0   0.000000  ...          0.0          0.0          0.0\n",
              "12347.0     13.2   45.0  23.308571  ...          0.0          0.0          0.0\n",
              "12348.0     39.6  150.0  82.840000  ...          0.0          0.0          0.0\n",
              "12349.0     15.0   15.0  15.000000  ...          0.0          0.0          0.0\n",
              "12350.0     25.2   25.2  25.200000  ...          0.0          0.0          0.0\n",
              "\n",
              "[5 rows x 159 columns]"
            ]
          },
          "metadata": {},
          "execution_count": 74
        }
      ]
    },
    {
      "cell_type": "code",
      "metadata": {
        "id": "kqHVX5xshtND"
      },
      "source": [
        "final_dataset_V2 = final_dataset.reset_index()\n",
        "final_dataset_V2.to_csv(\"final_dataset_V2.csv\",index=False)"
      ],
      "execution_count": 75,
      "outputs": []
    },
    {
      "cell_type": "code",
      "metadata": {
        "id": "uSv0oFI6hv7H"
      },
      "source": [
        "import pickle\n",
        "pickle.dump(kmeans, open('model.pkl','wb'))"
      ],
      "execution_count": 76,
      "outputs": []
    },
    {
      "cell_type": "code",
      "metadata": {
        "colab": {
          "base_uri": "https://localhost:8080/",
          "height": 772
        },
        "id": "skWUls6vhx4y",
        "outputId": "aa4bb50c-4b10-4f63-bc5e-b5263b330f56"
      },
      "source": [
        "## Interpreting the clusters\n",
        "tsne = TSNE(n_components=2)\n",
        "proj = tsne.fit_transform(X_final_std_scale)\n",
        "\n",
        "plt.figure(figsize=(10,10))\n",
        "plt.scatter(proj[:,0], proj[:,1], c=clusters)\n",
        "plt.title(\"Visualization of the clustering with TSNE\", fontsize=\"25\")"
      ],
      "execution_count": 77,
      "outputs": [
        {
          "output_type": "stream",
          "name": "stderr",
          "text": [
            "/usr/local/lib/python3.7/dist-packages/sklearn/manifold/_t_sne.py:783: FutureWarning:\n",
            "\n",
            "The default initialization in TSNE will change from 'random' to 'pca' in 1.2.\n",
            "\n",
            "/usr/local/lib/python3.7/dist-packages/sklearn/manifold/_t_sne.py:793: FutureWarning:\n",
            "\n",
            "The default learning rate in TSNE will change from 200.0 to 'auto' in 1.2.\n",
            "\n"
          ]
        },
        {
          "output_type": "execute_result",
          "data": {
            "text/plain": [
              "Text(0.5, 1.0, 'Visualization of the clustering with TSNE')"
            ]
          },
          "metadata": {},
          "execution_count": 77
        },
        {
          "output_type": "display_data",
          "data": {
            "image/png": "[encoded data removed]",
            "text/plain": [
              "<Figure size 720x720 with 1 Axes>"
            ]
          },
          "metadata": {
            "needs_background": "light"
          }
        }
      ]
    },
    {
      "cell_type": "code",
      "metadata": {
        "id": "xwY-eRpKiRq2"
      },
      "source": [
        ""
      ],
      "execution_count": 77,
      "outputs": []
    }
  ]
}